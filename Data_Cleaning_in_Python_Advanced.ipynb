{
  "nbformat": 4,
  "nbformat_minor": 0,
  "metadata": {
    "colab": {
      "name": "Data Cleaning in Python Advanced.ipynb",
      "provenance": [],
      "authorship_tag": "ABX9TyMWGHGHc/2ZetGSf+/29MxN",
      "include_colab_link": true
    },
    "kernelspec": {
      "name": "python3",
      "display_name": "Python 3"
    },
    "language_info": {
      "name": "python"
    }
  },
  "cells": [
    {
      "cell_type": "markdown",
      "metadata": {
        "id": "view-in-github",
        "colab_type": "text"
      },
      "source": [
        "<a href=\"https://colab.research.google.com/github/hoangvn111/Data-Cleaning-in-Python-Advanced/blob/master/Data_Cleaning_in_Python_Advanced.ipynb\" target=\"_parent\"><img src=\"https://colab.research.google.com/assets/colab-badge.svg\" alt=\"Open In Colab\"/></a>"
      ]
    },
    {
      "cell_type": "code",
      "metadata": {
        "colab": {
          "base_uri": "https://localhost:8080/"
        },
        "id": "p-p9rX8pL2TH",
        "outputId": "75b6cbcd-163a-4540-b6cd-b4b44c6d69d9"
      },
      "source": [
        "from google.colab import drive\n",
        "drive.mount('/content/drive')"
      ],
      "execution_count": 18,
      "outputs": [
        {
          "output_type": "stream",
          "text": [
            "Drive already mounted at /content/drive; to attempt to forcibly remount, call drive.mount(\"/content/drive\", force_remount=True).\n"
          ],
          "name": "stdout"
        }
      ]
    },
    {
      "cell_type": "markdown",
      "metadata": {
        "id": "ASIWRvaRMQnO"
      },
      "source": [
        "## Introduction"
      ]
    },
    {
      "cell_type": "markdown",
      "metadata": {
        "id": "AlcHQjLNMTZ2"
      },
      "source": [
        "The dataset we will be working with is based off this CSV of Hacker News stories from September 2015 to September 2016. The columns in the dataset are explained below:\n",
        "\n",
        "* id: The unique identifier from Hacker News for the story\n",
        "* title: The title of the story\n",
        "* url: The URL that the stories links to, if the story has a URL\n",
        "* num_points: The number of points the story acquired, calculated as the total number of upvotes minus the total number of downvotes\n",
        "* num_comments: The number of comments that were made on the story\n",
        "* author: The username of the person who submitted the story\n",
        "* created_at: The date and time at which the story was submitted"
      ]
    },
    {
      "cell_type": "code",
      "metadata": {
        "id": "4GpEf_0EL6FN"
      },
      "source": [
        "import pandas as pd \n",
        "hn = pd.read_csv('/content/drive/MyDrive/my_datasets/Data Cleaning in Python Advanced/hacker_news.csv')"
      ],
      "execution_count": 19,
      "outputs": []
    },
    {
      "cell_type": "code",
      "metadata": {
        "colab": {
          "base_uri": "https://localhost:8080/",
          "height": 534
        },
        "id": "Mk3rJGrJMK5V",
        "outputId": "28999dcd-8511-4a4f-a79c-182a47eef2de"
      },
      "source": [
        "hn.head()"
      ],
      "execution_count": 20,
      "outputs": [
        {
          "output_type": "execute_result",
          "data": {
            "text/html": [
              "<div>\n",
              "<style scoped>\n",
              "    .dataframe tbody tr th:only-of-type {\n",
              "        vertical-align: middle;\n",
              "    }\n",
              "\n",
              "    .dataframe tbody tr th {\n",
              "        vertical-align: top;\n",
              "    }\n",
              "\n",
              "    .dataframe thead th {\n",
              "        text-align: right;\n",
              "    }\n",
              "</style>\n",
              "<table border=\"1\" class=\"dataframe\">\n",
              "  <thead>\n",
              "    <tr style=\"text-align: right;\">\n",
              "      <th></th>\n",
              "      <th>id</th>\n",
              "      <th>title</th>\n",
              "      <th>url</th>\n",
              "      <th>num_points</th>\n",
              "      <th>num_comments</th>\n",
              "      <th>author</th>\n",
              "      <th>created_at</th>\n",
              "    </tr>\n",
              "  </thead>\n",
              "  <tbody>\n",
              "    <tr>\n",
              "      <th>0</th>\n",
              "      <td>12224879</td>\n",
              "      <td>Interactive Dynamic Video</td>\n",
              "      <td>http://www.interactivedynamicvideo.com/</td>\n",
              "      <td>386</td>\n",
              "      <td>52</td>\n",
              "      <td>ne0phyte</td>\n",
              "      <td>8/4/2016 11:52</td>\n",
              "    </tr>\n",
              "    <tr>\n",
              "      <th>1</th>\n",
              "      <td>11964716</td>\n",
              "      <td>Florida DJs May Face Felony for April Fools' W...</td>\n",
              "      <td>http://www.thewire.com/entertainment/2013/04/f...</td>\n",
              "      <td>2</td>\n",
              "      <td>1</td>\n",
              "      <td>vezycash</td>\n",
              "      <td>6/23/2016 22:20</td>\n",
              "    </tr>\n",
              "    <tr>\n",
              "      <th>2</th>\n",
              "      <td>11919867</td>\n",
              "      <td>Technology ventures: From Idea to Enterprise</td>\n",
              "      <td>https://www.amazon.com/Technology-Ventures-Ent...</td>\n",
              "      <td>3</td>\n",
              "      <td>1</td>\n",
              "      <td>hswarna</td>\n",
              "      <td>6/17/2016 0:01</td>\n",
              "    </tr>\n",
              "    <tr>\n",
              "      <th>3</th>\n",
              "      <td>10301696</td>\n",
              "      <td>Note by Note: The Making of Steinway L1037 (2007)</td>\n",
              "      <td>http://www.nytimes.com/2007/11/07/movies/07ste...</td>\n",
              "      <td>8</td>\n",
              "      <td>2</td>\n",
              "      <td>walterbell</td>\n",
              "      <td>9/30/2015 4:12</td>\n",
              "    </tr>\n",
              "    <tr>\n",
              "      <th>4</th>\n",
              "      <td>10482257</td>\n",
              "      <td>Title II kills investment? Comcast and other I...</td>\n",
              "      <td>http://arstechnica.com/business/2015/10/comcas...</td>\n",
              "      <td>53</td>\n",
              "      <td>22</td>\n",
              "      <td>Deinos</td>\n",
              "      <td>10/31/2015 9:48</td>\n",
              "    </tr>\n",
              "  </tbody>\n",
              "</table>\n",
              "</div>"
            ],
            "text/plain": [
              "         id  ...       created_at\n",
              "0  12224879  ...   8/4/2016 11:52\n",
              "1  11964716  ...  6/23/2016 22:20\n",
              "2  11919867  ...   6/17/2016 0:01\n",
              "3  10301696  ...   9/30/2015 4:12\n",
              "4  10482257  ...  10/31/2015 9:48\n",
              "\n",
              "[5 rows x 7 columns]"
            ]
          },
          "metadata": {
            "tags": []
          },
          "execution_count": 20
        }
      ]
    },
    {
      "cell_type": "code",
      "metadata": {
        "colab": {
          "base_uri": "https://localhost:8080/"
        },
        "id": "yMddldueMevz",
        "outputId": "a5723ca5-743e-4628-c3b7-54b7be452dc1"
      },
      "source": [
        "hn.info()"
      ],
      "execution_count": 21,
      "outputs": [
        {
          "output_type": "stream",
          "text": [
            "<class 'pandas.core.frame.DataFrame'>\n",
            "RangeIndex: 20099 entries, 0 to 20098\n",
            "Data columns (total 7 columns):\n",
            " #   Column        Non-Null Count  Dtype \n",
            "---  ------        --------------  ----- \n",
            " 0   id            20099 non-null  int64 \n",
            " 1   title         20099 non-null  object\n",
            " 2   url           17659 non-null  object\n",
            " 3   num_points    20099 non-null  int64 \n",
            " 4   num_comments  20099 non-null  int64 \n",
            " 5   author        20099 non-null  object\n",
            " 6   created_at    20099 non-null  object\n",
            "dtypes: int64(3), object(4)\n",
            "memory usage: 1.1+ MB\n"
          ],
          "name": "stdout"
        }
      ]
    },
    {
      "cell_type": "markdown",
      "metadata": {
        "id": "dYUx1JULNfTi"
      },
      "source": [
        "## Regular Expression Basics"
      ]
    },
    {
      "cell_type": "markdown",
      "metadata": {
        "id": "o8vezI7_Nk4m"
      },
      "source": [
        "### The Regular Expression Module"
      ]
    },
    {
      "cell_type": "markdown",
      "metadata": {
        "id": "r6nLWmFuPk3W"
      },
      "source": [
        "We're going to use this technique to find out how many times Python is mentioned in the title of stories in our Hacker News dataset. We'll use a set to check for both Python with a capital 'P' and python with a lowercase 'p'."
      ]
    },
    {
      "cell_type": "code",
      "metadata": {
        "colab": {
          "base_uri": "https://localhost:8080/"
        },
        "id": "PQ56FkzpMi8i",
        "outputId": "120e704e-a4a5-4a5e-e5fa-74cc3c220a3c"
      },
      "source": [
        "# import module re\n",
        "import re \n",
        "\n",
        "# extract a list 'titles' containing all the titles from dataset\n",
        "titles = hn['title'].tolist()\n",
        "\n",
        "python_mentions = 0\n",
        "\n",
        "pattern = '[Pp]ython'\n",
        "\n",
        "for title in titles:\n",
        "    if re.search(pattern, title):\n",
        "        python_mentions += 1\n",
        "\n",
        "print(python_mentions)"
      ],
      "execution_count": 22,
      "outputs": [
        {
          "output_type": "stream",
          "text": [
            "160\n"
          ],
          "name": "stdout"
        }
      ]
    },
    {
      "cell_type": "markdown",
      "metadata": {
        "id": "XYGRpD_iQH-R"
      },
      "source": [
        "### Counting Matches with pandas Methods"
      ]
    },
    {
      "cell_type": "code",
      "metadata": {
        "colab": {
          "base_uri": "https://localhost:8080/"
        },
        "id": "U3C8IFa_OISK",
        "outputId": "58e0a7d8-30f1-4b83-db40-28671c0f528e"
      },
      "source": [
        "titles = hn['title']\n",
        "pattern = '[Pp]ython'\n",
        "\n",
        "python_mentions = titles.str.contains(pattern).sum()\n",
        "\n",
        "print(python_mentions)"
      ],
      "execution_count": 23,
      "outputs": [
        {
          "output_type": "stream",
          "text": [
            "160\n"
          ],
          "name": "stdout"
        }
      ]
    },
    {
      "cell_type": "markdown",
      "metadata": {
        "id": "FcrruECNRR4Y"
      },
      "source": [
        "### Using Regular Expressions to Select Data"
      ]
    },
    {
      "cell_type": "code",
      "metadata": {
        "colab": {
          "base_uri": "https://localhost:8080/"
        },
        "id": "9aItrhavQpZx",
        "outputId": "65c3d1ac-7d3e-40ab-8a2d-4e150a931e0e"
      },
      "source": [
        "titles = hn['title']\n",
        "\n",
        "ruby_titles = titles[titles.str.contains('[Rr]uby')]\n",
        "\n",
        "print(ruby_titles.head())"
      ],
      "execution_count": 24,
      "outputs": [
        {
          "output_type": "stream",
          "text": [
            "190                    Ruby on Google AppEngine Goes Beta\n",
            "484          Related: Pure Ruby Relational Algebra Engine\n",
            "1388    Show HN: HTTPalooza  Ruby's greatest HTTP clie...\n",
            "1949    Rewriting a Ruby C Extension in Rust: How a Na...\n",
            "2022    Show HN: CrashBreak  Reproduce exceptions as f...\n",
            "Name: title, dtype: object\n"
          ],
          "name": "stdout"
        }
      ]
    },
    {
      "cell_type": "markdown",
      "metadata": {
        "id": "QAXhk9yHS11P"
      },
      "source": [
        "### Quantifiers"
      ]
    },
    {
      "cell_type": "code",
      "metadata": {
        "colab": {
          "base_uri": "https://localhost:8080/"
        },
        "id": "WEgFTHpMRskK",
        "outputId": "1b298129-bfb5-4cef-bcbc-a0a780686f3f"
      },
      "source": [
        "pattern = 'e-?mail'\n",
        "email_bool = titles.str.contains(pattern)\n",
        "email_count = email_bool.sum()\n",
        "email_titles = titles[email_bool]\n",
        "\n",
        "print(email_count)\n",
        "print('\\n')\n",
        "print(email_titles.head())"
      ],
      "execution_count": 25,
      "outputs": [
        {
          "output_type": "stream",
          "text": [
            "86\n",
            "\n",
            "\n",
            "119     Show HN: Send an email from your shell to your...\n",
            "313         Disposable emails for safe spam free shopping\n",
            "1361    Ask HN: Doing cold emails? helps us prove this...\n",
            "1750    Protect yourself from spam, bots and phishing ...\n",
            "2421                   Ashley Madison hack treating email\n",
            "Name: title, dtype: object\n"
          ],
          "name": "stdout"
        }
      ]
    },
    {
      "cell_type": "markdown",
      "metadata": {
        "id": "dh8e-p90WM6I"
      },
      "source": [
        "### Character Classes "
      ]
    },
    {
      "cell_type": "code",
      "metadata": {
        "id": "JUPTEE1PWTbg",
        "colab": {
          "base_uri": "https://localhost:8080/"
        },
        "outputId": "32a21a90-9c1a-473f-fb27-1e85f878ad0a"
      },
      "source": [
        "pattern = '\\[\\w+\\]'\n",
        "tag_titles = titles[titles.str.contains(pattern)]\n",
        "tag_count = titles.str.contains(pattern).sum()\n",
        "\n",
        "print(tag_count)\n",
        "print('\\n')\n",
        "print(tag_titles.head())\n"
      ],
      "execution_count": 26,
      "outputs": [
        {
          "output_type": "stream",
          "text": [
            "444\n",
            "\n",
            "\n",
            "66     Analysis of 114 propaganda sources from ISIS, ...\n",
            "100    Munich Gunman Got Weapon from the Darknet [Ger...\n",
            "159         File indexing and searching for Plan 9 [pdf]\n",
            "162    Attack on Kunduz Trauma Centre, Afghanistan  I...\n",
            "195               [Beta] Speedtest.net  HTML5 Speed Test\n",
            "Name: title, dtype: object\n"
          ],
          "name": "stdout"
        }
      ]
    },
    {
      "cell_type": "markdown",
      "metadata": {
        "id": "b05JjONPG0MU"
      },
      "source": [
        "### Accessing the Matching Text with Capture Groups "
      ]
    },
    {
      "cell_type": "code",
      "metadata": {
        "colab": {
          "base_uri": "https://localhost:8080/"
        },
        "id": "OPUiulb1E0VF",
        "outputId": "9d11bd68-aa5c-46b1-ec90-758ad2798588"
      },
      "source": [
        "pattern = r'\\[(\\w+)\\]'\n",
        "\n",
        "tag_titles = titles.str.extract(pattern, expand=False)\n",
        "tag_freq = tag_titles.value_counts(dropna=False)\n",
        "\n",
        "print(tag_freq)\n",
        "print('\\n')\n",
        "print(tag_titles.head())"
      ],
      "execution_count": 34,
      "outputs": [
        {
          "output_type": "stream",
          "text": [
            "NaN            19655\n",
            "pdf              276\n",
            "video            111\n",
            "2015               3\n",
            "audio              3\n",
            "2014               2\n",
            "beta               2\n",
            "slides             2\n",
            "Petition           1\n",
            "Ubuntu             1\n",
            "NSFW               1\n",
            "Benchmark          1\n",
            "transcript         1\n",
            "USA                1\n",
            "gif                1\n",
            "1996               1\n",
            "German             1\n",
            "Map                1\n",
            "Beta               1\n",
            "song               1\n",
            "React              1\n",
            "JavaScript         1\n",
            "CSS                1\n",
            "detainee           1\n",
            "Videos             1\n",
            "Infograph          1\n",
            "Python             1\n",
            "coffee             1\n",
            "Australian         1\n",
            "crash              1\n",
            "blank              1\n",
            "Challenge          1\n",
            "5                  1\n",
            "HBR                1\n",
            "Live               1\n",
            "SPA                1\n",
            "viz                1\n",
            "ask                1\n",
            "map                1\n",
            "videos             1\n",
            "png                1\n",
            "ANNOUNCE           1\n",
            "2008               1\n",
            "repost             1\n",
            "satire             1\n",
            "GOST               1\n",
            "Excerpt            1\n",
            "comic              1\n",
            "survey             1\n",
            "SpaceX             1\n",
            "updated            1\n",
            "Skinnywhale        1\n",
            "much               1\n",
            "Name: title, dtype: int64\n",
            "\n",
            "\n",
            "0    NaN\n",
            "1    NaN\n",
            "2    NaN\n",
            "3    NaN\n",
            "4    NaN\n",
            "Name: title, dtype: object\n"
          ],
          "name": "stdout"
        }
      ]
    },
    {
      "cell_type": "markdown",
      "metadata": {
        "id": "_GBv5rEuI6TC"
      },
      "source": [
        "### Negative Character Classes "
      ]
    },
    {
      "cell_type": "markdown",
      "metadata": {
        "id": "TVZtRsVEM1rs"
      },
      "source": [
        "We can see that there are a number of matches that contain Java as part of the word JavaScript. We want to exclude these titles from matching so we get an accurate count.\n",
        "\n",
        "Let's use the negative set [^Ss] to exclude instances like JavaScript and Javascript:"
      ]
    },
    {
      "cell_type": "code",
      "metadata": {
        "colab": {
          "base_uri": "https://localhost:8080/"
        },
        "id": "w7sPJi6SHSgk",
        "outputId": "7e2460c6-a8b1-4c4a-d0cb-7ec251131951"
      },
      "source": [
        "pattern = r'[Jj]ava[^Ss]'\n",
        "\n",
        "java_titles = titles[titles.str.contains(pattern)]\n",
        "\n",
        "print(java_titles.head())"
      ],
      "execution_count": 40,
      "outputs": [
        {
          "output_type": "stream",
          "text": [
            "436     Unikernel Power Comes to Java, Node.js, Go, an...\n",
            "811     Ask HN: Are there any projects or compilers wh...\n",
            "1840                    Adopting RxJava on the Airbnb App\n",
            "1972          Node.js vs. Java: Which Is Faster for APIs?\n",
            "2093                    Java EE and Microservices in 2016\n",
            "Name: title, dtype: object\n"
          ],
          "name": "stdout"
        }
      ]
    },
    {
      "cell_type": "markdown",
      "metadata": {
        "id": "iS0yaN7VNs2y"
      },
      "source": [
        "### Word Boundaries "
      ]
    },
    {
      "cell_type": "markdown",
      "metadata": {
        "id": "GIMdmMf-OoP1"
      },
      "source": [
        "While the negative set was effective in removing any bad matches that mention JavaScript, it also had the side-effect of removing any titles where Java occurs at the end of the string, like this title:\n",
        "\n",
        "Pippo  Web framework in Java"
      ]
    },
    {
      "cell_type": "code",
      "metadata": {
        "colab": {
          "base_uri": "https://localhost:8080/"
        },
        "id": "99cqWRqMMEZc",
        "outputId": "8901b38c-d6e8-446a-d583-96a99aa64a35"
      },
      "source": [
        "pattern = r'\\b[Jj]ava\\b'\n",
        "\n",
        "java_titles = titles[titles.str.contains(pattern)]\n",
        "\n",
        "print(java_titles.head())"
      ],
      "execution_count": 42,
      "outputs": [
        {
          "output_type": "stream",
          "text": [
            "436     Unikernel Power Comes to Java, Node.js, Go, an...\n",
            "811     Ask HN: Are there any projects or compilers wh...\n",
            "1023                         Pippo  Web framework in Java\n",
            "1972          Node.js vs. Java: Which Is Faster for APIs?\n",
            "2093                    Java EE and Microservices in 2016\n",
            "Name: title, dtype: object\n"
          ],
          "name": "stdout"
        }
      ]
    },
    {
      "cell_type": "markdown",
      "metadata": {
        "id": "xoRzWC_GO-1Q"
      },
      "source": [
        "### Matching at the Start and End of Strings"
      ]
    },
    {
      "cell_type": "code",
      "metadata": {
        "colab": {
          "base_uri": "https://localhost:8080/"
        },
        "id": "c028CwlSOi7p",
        "outputId": "2f41ce39-b1b5-4c25-db55-6e23e37b67c4"
      },
      "source": [
        "pattern_beginning = r\"^\\[\\w+\\]\"\n",
        "beginning_count = titles.str.contains(pattern_beginning).sum()\n",
        "\n",
        "pattern_ending =  r\"\\[\\w+\\]$\"\n",
        "ending_count = titles.str.contains(pattern_ending).sum()\n",
        "\n",
        "print(beginning_count)\n",
        "print('\\n')\n",
        "print(ending_count)"
      ],
      "execution_count": 50,
      "outputs": [
        {
          "output_type": "stream",
          "text": [
            "15\n",
            "\n",
            "\n",
            "417\n"
          ],
          "name": "stdout"
        }
      ]
    },
    {
      "cell_type": "markdown",
      "metadata": {
        "id": "ouvR1zpBbZQu"
      },
      "source": [
        "### Challenge: Using Flags to Modify Regex Pattern"
      ]
    },
    {
      "cell_type": "markdown",
      "metadata": {
        "id": "VVc8PZnmbyeK"
      },
      "source": [
        "we can use **flags** to specify that our regular expression should ignore case"
      ]
    },
    {
      "cell_type": "code",
      "metadata": {
        "colab": {
          "base_uri": "https://localhost:8080/"
        },
        "id": "gFDGtXzfRhp6",
        "outputId": "a4f72d30-335d-4723-b663-17af82e151c3"
      },
      "source": [
        "import re\n",
        "\n",
        "email_tests = pd.Series(['email', 'Email', 'e Mail', 'e mail', 'E-mail',\n",
        "              'e-mail', 'eMail', 'E-Mail', 'EMAIL', 'emails', 'Emails',\n",
        "              'E-Mails'])\n",
        "\n",
        "pattern = r'\\be[\\-\\s]?mails?\\b'\n",
        "\n",
        "email_mentions = email_tests[email_tests.str.contains(pattern, flags=re.I)]\n",
        "\n",
        "print(email_mentions)"
      ],
      "execution_count": 62,
      "outputs": [
        {
          "output_type": "stream",
          "text": [
            "0       email\n",
            "1       Email\n",
            "2      e Mail\n",
            "3      e mail\n",
            "4      E-mail\n",
            "5      e-mail\n",
            "6       eMail\n",
            "7      E-Mail\n",
            "8       EMAIL\n",
            "9      emails\n",
            "10     Emails\n",
            "11    E-Mails\n",
            "dtype: object\n"
          ],
          "name": "stdout"
        }
      ]
    },
    {
      "cell_type": "code",
      "metadata": {
        "id": "it6rZhu3bgOt"
      },
      "source": [
        ""
      ],
      "execution_count": null,
      "outputs": []
    }
  ]
}