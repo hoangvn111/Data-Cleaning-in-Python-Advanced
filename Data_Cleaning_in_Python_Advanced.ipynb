{
  "nbformat": 4,
  "nbformat_minor": 0,
  "metadata": {
    "colab": {
      "name": "Data Cleaning in Python Advanced.ipynb",
      "provenance": [],
      "authorship_tag": "ABX9TyMG6Ju9A9zwknFaVTh17sHw",
      "include_colab_link": true
    },
    "kernelspec": {
      "name": "python3",
      "display_name": "Python 3"
    },
    "language_info": {
      "name": "python"
    }
  },
  "cells": [
    {
      "cell_type": "markdown",
      "metadata": {
        "id": "view-in-github",
        "colab_type": "text"
      },
      "source": [
        "<a href=\"https://colab.research.google.com/github/hoangvn111/Data-Cleaning-in-Python-Advanced/blob/master/Data_Cleaning_in_Python_Advanced.ipynb\" target=\"_parent\"><img src=\"https://colab.research.google.com/assets/colab-badge.svg\" alt=\"Open In Colab\"/></a>"
      ]
    },
    {
      "cell_type": "code",
      "metadata": {
        "colab": {
          "base_uri": "https://localhost:8080/"
        },
        "id": "p-p9rX8pL2TH",
        "outputId": "1d551a13-7314-4f75-9e42-48890660eb1f"
      },
      "source": [
        "from google.colab import drive\n",
        "drive.mount('/content/drive')"
      ],
      "execution_count": 1,
      "outputs": [
        {
          "output_type": "stream",
          "text": [
            "Drive already mounted at /content/drive; to attempt to forcibly remount, call drive.mount(\"/content/drive\", force_remount=True).\n"
          ],
          "name": "stdout"
        }
      ]
    },
    {
      "cell_type": "markdown",
      "metadata": {
        "id": "ASIWRvaRMQnO"
      },
      "source": [
        "## Introduction"
      ]
    },
    {
      "cell_type": "markdown",
      "metadata": {
        "id": "AlcHQjLNMTZ2"
      },
      "source": [
        "The dataset we will be working with is based off this CSV of Hacker News stories from September 2015 to September 2016. The columns in the dataset are explained below:\n",
        "\n",
        "* id: The unique identifier from Hacker News for the story\n",
        "* title: The title of the story\n",
        "* url: The URL that the stories links to, if the story has a URL\n",
        "* num_points: The number of points the story acquired, calculated as the total number of upvotes minus the total number of downvotes\n",
        "* num_comments: The number of comments that were made on the story\n",
        "* author: The username of the person who submitted the story\n",
        "* created_at: The date and time at which the story was submitted"
      ]
    },
    {
      "cell_type": "code",
      "metadata": {
        "id": "4GpEf_0EL6FN"
      },
      "source": [
        "import pandas as pd \n",
        "hn = pd.read_csv('/content/drive/MyDrive/my_datasets/Data Cleaning in Python Advanced/hacker_news.csv')"
      ],
      "execution_count": 2,
      "outputs": []
    },
    {
      "cell_type": "code",
      "metadata": {
        "colab": {
          "base_uri": "https://localhost:8080/",
          "height": 534
        },
        "id": "Mk3rJGrJMK5V",
        "outputId": "ff94f6db-c934-4610-f023-7afe4eeaf291"
      },
      "source": [
        "hn.head()"
      ],
      "execution_count": 3,
      "outputs": [
        {
          "output_type": "execute_result",
          "data": {
            "text/html": [
              "<div>\n",
              "<style scoped>\n",
              "    .dataframe tbody tr th:only-of-type {\n",
              "        vertical-align: middle;\n",
              "    }\n",
              "\n",
              "    .dataframe tbody tr th {\n",
              "        vertical-align: top;\n",
              "    }\n",
              "\n",
              "    .dataframe thead th {\n",
              "        text-align: right;\n",
              "    }\n",
              "</style>\n",
              "<table border=\"1\" class=\"dataframe\">\n",
              "  <thead>\n",
              "    <tr style=\"text-align: right;\">\n",
              "      <th></th>\n",
              "      <th>id</th>\n",
              "      <th>title</th>\n",
              "      <th>url</th>\n",
              "      <th>num_points</th>\n",
              "      <th>num_comments</th>\n",
              "      <th>author</th>\n",
              "      <th>created_at</th>\n",
              "    </tr>\n",
              "  </thead>\n",
              "  <tbody>\n",
              "    <tr>\n",
              "      <th>0</th>\n",
              "      <td>12224879</td>\n",
              "      <td>Interactive Dynamic Video</td>\n",
              "      <td>http://www.interactivedynamicvideo.com/</td>\n",
              "      <td>386</td>\n",
              "      <td>52</td>\n",
              "      <td>ne0phyte</td>\n",
              "      <td>8/4/2016 11:52</td>\n",
              "    </tr>\n",
              "    <tr>\n",
              "      <th>1</th>\n",
              "      <td>11964716</td>\n",
              "      <td>Florida DJs May Face Felony for April Fools' W...</td>\n",
              "      <td>http://www.thewire.com/entertainment/2013/04/f...</td>\n",
              "      <td>2</td>\n",
              "      <td>1</td>\n",
              "      <td>vezycash</td>\n",
              "      <td>6/23/2016 22:20</td>\n",
              "    </tr>\n",
              "    <tr>\n",
              "      <th>2</th>\n",
              "      <td>11919867</td>\n",
              "      <td>Technology ventures: From Idea to Enterprise</td>\n",
              "      <td>https://www.amazon.com/Technology-Ventures-Ent...</td>\n",
              "      <td>3</td>\n",
              "      <td>1</td>\n",
              "      <td>hswarna</td>\n",
              "      <td>6/17/2016 0:01</td>\n",
              "    </tr>\n",
              "    <tr>\n",
              "      <th>3</th>\n",
              "      <td>10301696</td>\n",
              "      <td>Note by Note: The Making of Steinway L1037 (2007)</td>\n",
              "      <td>http://www.nytimes.com/2007/11/07/movies/07ste...</td>\n",
              "      <td>8</td>\n",
              "      <td>2</td>\n",
              "      <td>walterbell</td>\n",
              "      <td>9/30/2015 4:12</td>\n",
              "    </tr>\n",
              "    <tr>\n",
              "      <th>4</th>\n",
              "      <td>10482257</td>\n",
              "      <td>Title II kills investment? Comcast and other I...</td>\n",
              "      <td>http://arstechnica.com/business/2015/10/comcas...</td>\n",
              "      <td>53</td>\n",
              "      <td>22</td>\n",
              "      <td>Deinos</td>\n",
              "      <td>10/31/2015 9:48</td>\n",
              "    </tr>\n",
              "  </tbody>\n",
              "</table>\n",
              "</div>"
            ],
            "text/plain": [
              "         id  ...       created_at\n",
              "0  12224879  ...   8/4/2016 11:52\n",
              "1  11964716  ...  6/23/2016 22:20\n",
              "2  11919867  ...   6/17/2016 0:01\n",
              "3  10301696  ...   9/30/2015 4:12\n",
              "4  10482257  ...  10/31/2015 9:48\n",
              "\n",
              "[5 rows x 7 columns]"
            ]
          },
          "metadata": {
            "tags": []
          },
          "execution_count": 3
        }
      ]
    },
    {
      "cell_type": "code",
      "metadata": {
        "colab": {
          "base_uri": "https://localhost:8080/"
        },
        "id": "yMddldueMevz",
        "outputId": "4ca874de-b563-4c5d-9547-f8e7c97aa598"
      },
      "source": [
        "hn.info()"
      ],
      "execution_count": 4,
      "outputs": [
        {
          "output_type": "stream",
          "text": [
            "<class 'pandas.core.frame.DataFrame'>\n",
            "RangeIndex: 20099 entries, 0 to 20098\n",
            "Data columns (total 7 columns):\n",
            " #   Column        Non-Null Count  Dtype \n",
            "---  ------        --------------  ----- \n",
            " 0   id            20099 non-null  int64 \n",
            " 1   title         20099 non-null  object\n",
            " 2   url           17659 non-null  object\n",
            " 3   num_points    20099 non-null  int64 \n",
            " 4   num_comments  20099 non-null  int64 \n",
            " 5   author        20099 non-null  object\n",
            " 6   created_at    20099 non-null  object\n",
            "dtypes: int64(3), object(4)\n",
            "memory usage: 1.1+ MB\n"
          ],
          "name": "stdout"
        }
      ]
    },
    {
      "cell_type": "markdown",
      "metadata": {
        "id": "dYUx1JULNfTi"
      },
      "source": [
        "## Regular Expression Basics"
      ]
    },
    {
      "cell_type": "markdown",
      "metadata": {
        "id": "o8vezI7_Nk4m"
      },
      "source": [
        "### The Regular Expression Module"
      ]
    },
    {
      "cell_type": "markdown",
      "metadata": {
        "id": "r6nLWmFuPk3W"
      },
      "source": [
        "We're going to use this technique to find out how many times Python is mentioned in the title of stories in our Hacker News dataset. We'll use a set to check for both Python with a capital 'P' and python with a lowercase 'p'."
      ]
    },
    {
      "cell_type": "code",
      "metadata": {
        "colab": {
          "base_uri": "https://localhost:8080/"
        },
        "id": "PQ56FkzpMi8i",
        "outputId": "98260470-431d-4976-9151-549a3af8c56d"
      },
      "source": [
        "# import module re\n",
        "import re \n",
        "\n",
        "# extract a list 'titles' containing all the titles from dataset\n",
        "titles = hn['title'].tolist()\n",
        "\n",
        "python_mentions = 0\n",
        "\n",
        "pattern = '[Pp]ython'\n",
        "\n",
        "for title in titles:\n",
        "    if re.search(pattern, title):\n",
        "        python_mentions += 1\n",
        "\n",
        "print(python_mentions)"
      ],
      "execution_count": 16,
      "outputs": [
        {
          "output_type": "stream",
          "text": [
            "160\n"
          ],
          "name": "stdout"
        }
      ]
    },
    {
      "cell_type": "markdown",
      "metadata": {
        "id": "XYGRpD_iQH-R"
      },
      "source": [
        "### Counting Matches with pandas Methods"
      ]
    },
    {
      "cell_type": "code",
      "metadata": {
        "colab": {
          "base_uri": "https://localhost:8080/"
        },
        "id": "U3C8IFa_OISK",
        "outputId": "d01b83db-48be-4839-b0c8-8dad6a7724e1"
      },
      "source": [
        "titles = hn['title']\n",
        "pattern = '[Pp]ython'\n",
        "\n",
        "python_mentions = titles.str.contains(pattern).sum()\n",
        "\n",
        "print(python_mentions)"
      ],
      "execution_count": 24,
      "outputs": [
        {
          "output_type": "stream",
          "text": [
            "160\n"
          ],
          "name": "stdout"
        }
      ]
    },
    {
      "cell_type": "markdown",
      "metadata": {
        "id": "FcrruECNRR4Y"
      },
      "source": [
        "### Using Regular Expressions to Select Data"
      ]
    },
    {
      "cell_type": "code",
      "metadata": {
        "colab": {
          "base_uri": "https://localhost:8080/"
        },
        "id": "9aItrhavQpZx",
        "outputId": "79d238cf-e7b8-4028-be14-e23f65ed0139"
      },
      "source": [
        "titles = hn['title']\n",
        "\n",
        "ruby_titles = titles[titles.str.contains('[Rr]uby')]\n",
        "\n",
        "print(ruby_titles.head())"
      ],
      "execution_count": 29,
      "outputs": [
        {
          "output_type": "stream",
          "text": [
            "190                    Ruby on Google AppEngine Goes Beta\n",
            "484          Related: Pure Ruby Relational Algebra Engine\n",
            "1388    Show HN: HTTPalooza  Ruby's greatest HTTP clie...\n",
            "1949    Rewriting a Ruby C Extension in Rust: How a Na...\n",
            "2022    Show HN: CrashBreak  Reproduce exceptions as f...\n",
            "Name: title, dtype: object\n"
          ],
          "name": "stdout"
        }
      ]
    },
    {
      "cell_type": "markdown",
      "metadata": {
        "id": "QAXhk9yHS11P"
      },
      "source": [
        "### Quantifiers"
      ]
    },
    {
      "cell_type": "code",
      "metadata": {
        "colab": {
          "base_uri": "https://localhost:8080/"
        },
        "id": "WEgFTHpMRskK",
        "outputId": "cfee8513-af7c-4262-9384-d4e6f3a79da1"
      },
      "source": [
        "pattern = 'e-?mail'\n",
        "email_bool = titles.str.contains(pattern)\n",
        "email_count = email_bool.sum()\n",
        "email_titles = titles[email_bool]\n",
        "\n",
        "print(email_count)\n",
        "print('\\n')\n",
        "print(email_titles.head())"
      ],
      "execution_count": 33,
      "outputs": [
        {
          "output_type": "stream",
          "text": [
            "86\n",
            "\n",
            "\n",
            "119     Show HN: Send an email from your shell to your...\n",
            "313         Disposable emails for safe spam free shopping\n",
            "1361    Ask HN: Doing cold emails? helps us prove this...\n",
            "1750    Protect yourself from spam, bots and phishing ...\n",
            "2421                   Ashley Madison hack treating email\n",
            "Name: title, dtype: object\n"
          ],
          "name": "stdout"
        }
      ]
    },
    {
      "cell_type": "markdown",
      "metadata": {
        "id": "dh8e-p90WM6I"
      },
      "source": [
        "### Character Classes "
      ]
    },
    {
      "cell_type": "code",
      "metadata": {
        "id": "JUPTEE1PWTbg"
      },
      "source": [
        ""
      ],
      "execution_count": null,
      "outputs": []
    }
  ]
}