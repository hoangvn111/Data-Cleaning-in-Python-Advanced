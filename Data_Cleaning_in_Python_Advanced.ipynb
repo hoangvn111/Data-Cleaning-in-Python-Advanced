{
  "nbformat": 4,
  "nbformat_minor": 0,
  "metadata": {
    "colab": {
      "name": "Data Cleaning in Python Advanced.ipynb",
      "provenance": [],
      "authorship_tag": "ABX9TyM0yWd6txuBdr86466vRiLl",
      "include_colab_link": true
    },
    "kernelspec": {
      "name": "python3",
      "display_name": "Python 3"
    },
    "language_info": {
      "name": "python"
    }
  },
  "cells": [
    {
      "cell_type": "markdown",
      "metadata": {
        "id": "view-in-github",
        "colab_type": "text"
      },
      "source": [
        "<a href=\"https://colab.research.google.com/github/hoangvn111/Data-Cleaning-in-Python-Advanced/blob/master/Data_Cleaning_in_Python_Advanced.ipynb\" target=\"_parent\"><img src=\"https://colab.research.google.com/assets/colab-badge.svg\" alt=\"Open In Colab\"/></a>"
      ]
    },
    {
      "cell_type": "code",
      "metadata": {
        "colab": {
          "base_uri": "https://localhost:8080/"
        },
        "id": "p-p9rX8pL2TH",
        "outputId": "ded109de-6c32-419d-c665-11a74e613060"
      },
      "source": [
        "from google.colab import drive\n",
        "drive.mount('/content/drive')"
      ],
      "execution_count": 1,
      "outputs": [
        {
          "output_type": "stream",
          "text": [
            "Mounted at /content/drive\n"
          ],
          "name": "stdout"
        }
      ]
    },
    {
      "cell_type": "markdown",
      "metadata": {
        "id": "ASIWRvaRMQnO"
      },
      "source": [
        "## Introduction"
      ]
    },
    {
      "cell_type": "markdown",
      "metadata": {
        "id": "AlcHQjLNMTZ2"
      },
      "source": [
        "The dataset we will be working with is based off this CSV of Hacker News stories from September 2015 to September 2016. The columns in the dataset are explained below:\n",
        "\n",
        "* id: The unique identifier from Hacker News for the story\n",
        "* title: The title of the story\n",
        "* url: The URL that the stories links to, if the story has a URL\n",
        "* num_points: The number of points the story acquired, calculated as the total number of upvotes minus the total number of downvotes\n",
        "* num_comments: The number of comments that were made on the story\n",
        "* author: The username of the person who submitted the story\n",
        "* created_at: The date and time at which the story was submitted"
      ]
    },
    {
      "cell_type": "code",
      "metadata": {
        "id": "4GpEf_0EL6FN"
      },
      "source": [
        "import pandas as pd \n",
        "hn = pd.read_csv('/content/drive/MyDrive/my_datasets/Data Cleaning in Python Advanced/hacker_news.csv')"
      ],
      "execution_count": 2,
      "outputs": []
    },
    {
      "cell_type": "code",
      "metadata": {
        "colab": {
          "base_uri": "https://localhost:8080/",
          "height": 534
        },
        "id": "Mk3rJGrJMK5V",
        "outputId": "e46c8d18-4ed0-4496-fc6a-4a21bc4b1593"
      },
      "source": [
        "hn.head()"
      ],
      "execution_count": 3,
      "outputs": [
        {
          "output_type": "execute_result",
          "data": {
            "text/html": [
              "<div>\n",
              "<style scoped>\n",
              "    .dataframe tbody tr th:only-of-type {\n",
              "        vertical-align: middle;\n",
              "    }\n",
              "\n",
              "    .dataframe tbody tr th {\n",
              "        vertical-align: top;\n",
              "    }\n",
              "\n",
              "    .dataframe thead th {\n",
              "        text-align: right;\n",
              "    }\n",
              "</style>\n",
              "<table border=\"1\" class=\"dataframe\">\n",
              "  <thead>\n",
              "    <tr style=\"text-align: right;\">\n",
              "      <th></th>\n",
              "      <th>id</th>\n",
              "      <th>title</th>\n",
              "      <th>url</th>\n",
              "      <th>num_points</th>\n",
              "      <th>num_comments</th>\n",
              "      <th>author</th>\n",
              "      <th>created_at</th>\n",
              "    </tr>\n",
              "  </thead>\n",
              "  <tbody>\n",
              "    <tr>\n",
              "      <th>0</th>\n",
              "      <td>12224879</td>\n",
              "      <td>Interactive Dynamic Video</td>\n",
              "      <td>http://www.interactivedynamicvideo.com/</td>\n",
              "      <td>386</td>\n",
              "      <td>52</td>\n",
              "      <td>ne0phyte</td>\n",
              "      <td>8/4/2016 11:52</td>\n",
              "    </tr>\n",
              "    <tr>\n",
              "      <th>1</th>\n",
              "      <td>11964716</td>\n",
              "      <td>Florida DJs May Face Felony for April Fools' W...</td>\n",
              "      <td>http://www.thewire.com/entertainment/2013/04/f...</td>\n",
              "      <td>2</td>\n",
              "      <td>1</td>\n",
              "      <td>vezycash</td>\n",
              "      <td>6/23/2016 22:20</td>\n",
              "    </tr>\n",
              "    <tr>\n",
              "      <th>2</th>\n",
              "      <td>11919867</td>\n",
              "      <td>Technology ventures: From Idea to Enterprise</td>\n",
              "      <td>https://www.amazon.com/Technology-Ventures-Ent...</td>\n",
              "      <td>3</td>\n",
              "      <td>1</td>\n",
              "      <td>hswarna</td>\n",
              "      <td>6/17/2016 0:01</td>\n",
              "    </tr>\n",
              "    <tr>\n",
              "      <th>3</th>\n",
              "      <td>10301696</td>\n",
              "      <td>Note by Note: The Making of Steinway L1037 (2007)</td>\n",
              "      <td>http://www.nytimes.com/2007/11/07/movies/07ste...</td>\n",
              "      <td>8</td>\n",
              "      <td>2</td>\n",
              "      <td>walterbell</td>\n",
              "      <td>9/30/2015 4:12</td>\n",
              "    </tr>\n",
              "    <tr>\n",
              "      <th>4</th>\n",
              "      <td>10482257</td>\n",
              "      <td>Title II kills investment? Comcast and other I...</td>\n",
              "      <td>http://arstechnica.com/business/2015/10/comcas...</td>\n",
              "      <td>53</td>\n",
              "      <td>22</td>\n",
              "      <td>Deinos</td>\n",
              "      <td>10/31/2015 9:48</td>\n",
              "    </tr>\n",
              "  </tbody>\n",
              "</table>\n",
              "</div>"
            ],
            "text/plain": [
              "         id  ...       created_at\n",
              "0  12224879  ...   8/4/2016 11:52\n",
              "1  11964716  ...  6/23/2016 22:20\n",
              "2  11919867  ...   6/17/2016 0:01\n",
              "3  10301696  ...   9/30/2015 4:12\n",
              "4  10482257  ...  10/31/2015 9:48\n",
              "\n",
              "[5 rows x 7 columns]"
            ]
          },
          "metadata": {
            "tags": []
          },
          "execution_count": 3
        }
      ]
    },
    {
      "cell_type": "code",
      "metadata": {
        "colab": {
          "base_uri": "https://localhost:8080/"
        },
        "id": "yMddldueMevz",
        "outputId": "cfd614dc-00f5-495d-ae71-7664423a16ff"
      },
      "source": [
        "hn.info()"
      ],
      "execution_count": 4,
      "outputs": [
        {
          "output_type": "stream",
          "text": [
            "<class 'pandas.core.frame.DataFrame'>\n",
            "RangeIndex: 20099 entries, 0 to 20098\n",
            "Data columns (total 7 columns):\n",
            " #   Column        Non-Null Count  Dtype \n",
            "---  ------        --------------  ----- \n",
            " 0   id            20099 non-null  int64 \n",
            " 1   title         20099 non-null  object\n",
            " 2   url           17659 non-null  object\n",
            " 3   num_points    20099 non-null  int64 \n",
            " 4   num_comments  20099 non-null  int64 \n",
            " 5   author        20099 non-null  object\n",
            " 6   created_at    20099 non-null  object\n",
            "dtypes: int64(3), object(4)\n",
            "memory usage: 1.1+ MB\n"
          ],
          "name": "stdout"
        }
      ]
    },
    {
      "cell_type": "markdown",
      "metadata": {
        "id": "dYUx1JULNfTi"
      },
      "source": [
        "## Regular Expression Basics"
      ]
    },
    {
      "cell_type": "markdown",
      "metadata": {
        "id": "o8vezI7_Nk4m"
      },
      "source": [
        "### The Regular Expression Module"
      ]
    },
    {
      "cell_type": "markdown",
      "metadata": {
        "id": "r6nLWmFuPk3W"
      },
      "source": [
        "We're going to use this technique to find out how many times Python is mentioned in the title of stories in our Hacker News dataset. We'll use a set to check for both Python with a capital 'P' and python with a lowercase 'p'."
      ]
    },
    {
      "cell_type": "code",
      "metadata": {
        "colab": {
          "base_uri": "https://localhost:8080/"
        },
        "id": "PQ56FkzpMi8i",
        "outputId": "51f4844e-bd40-421a-9337-05f7e7088f75"
      },
      "source": [
        "# import module re\n",
        "import re \n",
        "\n",
        "# extract a list 'titles' containing all the titles from dataset\n",
        "titles = hn['title'].tolist()\n",
        "\n",
        "python_mentions = 0\n",
        "\n",
        "pattern = '[Pp]ython'\n",
        "\n",
        "for title in titles:\n",
        "    if re.search(pattern, title):\n",
        "        python_mentions += 1\n",
        "\n",
        "print(python_mentions)"
      ],
      "execution_count": 5,
      "outputs": [
        {
          "output_type": "stream",
          "text": [
            "160\n"
          ],
          "name": "stdout"
        }
      ]
    },
    {
      "cell_type": "markdown",
      "metadata": {
        "id": "XYGRpD_iQH-R"
      },
      "source": [
        "### Counting Matches with pandas Methods"
      ]
    },
    {
      "cell_type": "code",
      "metadata": {
        "colab": {
          "base_uri": "https://localhost:8080/"
        },
        "id": "U3C8IFa_OISK",
        "outputId": "75be79d9-3265-4704-db88-0c2d491f745b"
      },
      "source": [
        "titles = hn['title']\n",
        "pattern = '[Pp]ython'\n",
        "\n",
        "python_mentions = titles.str.contains(pattern).sum()\n",
        "\n",
        "print(python_mentions)"
      ],
      "execution_count": 6,
      "outputs": [
        {
          "output_type": "stream",
          "text": [
            "160\n"
          ],
          "name": "stdout"
        }
      ]
    },
    {
      "cell_type": "markdown",
      "metadata": {
        "id": "FcrruECNRR4Y"
      },
      "source": [
        "### Using Regular Expressions to Select Data"
      ]
    },
    {
      "cell_type": "code",
      "metadata": {
        "colab": {
          "base_uri": "https://localhost:8080/"
        },
        "id": "9aItrhavQpZx",
        "outputId": "f4b51347-0167-404d-f721-09c94fd72799"
      },
      "source": [
        "titles = hn['title']\n",
        "\n",
        "ruby_titles = titles[titles.str.contains('[Rr]uby')]\n",
        "\n",
        "print(ruby_titles.head())"
      ],
      "execution_count": 7,
      "outputs": [
        {
          "output_type": "stream",
          "text": [
            "190                    Ruby on Google AppEngine Goes Beta\n",
            "484          Related: Pure Ruby Relational Algebra Engine\n",
            "1388    Show HN: HTTPalooza  Ruby's greatest HTTP clie...\n",
            "1949    Rewriting a Ruby C Extension in Rust: How a Na...\n",
            "2022    Show HN: CrashBreak  Reproduce exceptions as f...\n",
            "Name: title, dtype: object\n"
          ],
          "name": "stdout"
        }
      ]
    },
    {
      "cell_type": "markdown",
      "metadata": {
        "id": "QAXhk9yHS11P"
      },
      "source": [
        "### Quantifiers"
      ]
    },
    {
      "cell_type": "code",
      "metadata": {
        "colab": {
          "base_uri": "https://localhost:8080/"
        },
        "id": "WEgFTHpMRskK",
        "outputId": "8eddff73-bf29-4e35-cbcf-97d6628e4e3b"
      },
      "source": [
        "pattern = 'e-?mail'\n",
        "email_bool = titles.str.contains(pattern)\n",
        "email_count = email_bool.sum()\n",
        "email_titles = titles[email_bool]\n",
        "\n",
        "print(email_count)\n",
        "print('\\n')\n",
        "print(email_titles.head())"
      ],
      "execution_count": 8,
      "outputs": [
        {
          "output_type": "stream",
          "text": [
            "86\n",
            "\n",
            "\n",
            "119     Show HN: Send an email from your shell to your...\n",
            "313         Disposable emails for safe spam free shopping\n",
            "1361    Ask HN: Doing cold emails? helps us prove this...\n",
            "1750    Protect yourself from spam, bots and phishing ...\n",
            "2421                   Ashley Madison hack treating email\n",
            "Name: title, dtype: object\n"
          ],
          "name": "stdout"
        }
      ]
    },
    {
      "cell_type": "markdown",
      "metadata": {
        "id": "dh8e-p90WM6I"
      },
      "source": [
        "### Character Classes "
      ]
    },
    {
      "cell_type": "code",
      "metadata": {
        "id": "JUPTEE1PWTbg",
        "colab": {
          "base_uri": "https://localhost:8080/"
        },
        "outputId": "53ff05f1-12b6-4191-c0b4-52b0a325d8db"
      },
      "source": [
        "pattern = '\\[\\w+\\]'\n",
        "tag_titles = titles[titles.str.contains(pattern)]\n",
        "tag_count = titles.str.contains(pattern).sum()\n",
        "\n",
        "print(tag_count)\n",
        "print('\\n')\n",
        "print(tag_titles.head())\n"
      ],
      "execution_count": 9,
      "outputs": [
        {
          "output_type": "stream",
          "text": [
            "444\n",
            "\n",
            "\n",
            "66     Analysis of 114 propaganda sources from ISIS, ...\n",
            "100    Munich Gunman Got Weapon from the Darknet [Ger...\n",
            "159         File indexing and searching for Plan 9 [pdf]\n",
            "162    Attack on Kunduz Trauma Centre, Afghanistan  I...\n",
            "195               [Beta] Speedtest.net  HTML5 Speed Test\n",
            "Name: title, dtype: object\n"
          ],
          "name": "stdout"
        }
      ]
    },
    {
      "cell_type": "markdown",
      "metadata": {
        "id": "b05JjONPG0MU"
      },
      "source": [
        "### Accessing the Matching Text with Capture Groups "
      ]
    },
    {
      "cell_type": "code",
      "metadata": {
        "colab": {
          "base_uri": "https://localhost:8080/"
        },
        "id": "OPUiulb1E0VF",
        "outputId": "47423c6d-2907-4052-879c-139c28259006"
      },
      "source": [
        "pattern = r'\\[(\\w+)\\]'\n",
        "\n",
        "tag_titles = titles.str.extract(pattern, expand=False)\n",
        "tag_freq = tag_titles.value_counts(dropna=False)\n",
        "\n",
        "print(tag_freq)\n",
        "print('\\n')\n",
        "print(tag_titles.head())"
      ],
      "execution_count": 10,
      "outputs": [
        {
          "output_type": "stream",
          "text": [
            "NaN            19655\n",
            "pdf              276\n",
            "video            111\n",
            "audio              3\n",
            "2015               3\n",
            "2014               2\n",
            "slides             2\n",
            "beta               2\n",
            "repost             1\n",
            "NSFW               1\n",
            "Excerpt            1\n",
            "GOST               1\n",
            "map                1\n",
            "Beta               1\n",
            "crash              1\n",
            "gif                1\n",
            "survey             1\n",
            "Challenge          1\n",
            "1996               1\n",
            "Live               1\n",
            "CSS                1\n",
            "2008               1\n",
            "song               1\n",
            "HBR                1\n",
            "SPA                1\n",
            "Skinnywhale        1\n",
            "5                  1\n",
            "Australian         1\n",
            "Map                1\n",
            "coffee             1\n",
            "German             1\n",
            "transcript         1\n",
            "png                1\n",
            "USA                1\n",
            "Petition           1\n",
            "ANNOUNCE           1\n",
            "Benchmark          1\n",
            "satire             1\n",
            "Ubuntu             1\n",
            "Videos             1\n",
            "much               1\n",
            "updated            1\n",
            "Python             1\n",
            "detainee           1\n",
            "comic              1\n",
            "Infograph          1\n",
            "blank              1\n",
            "ask                1\n",
            "SpaceX             1\n",
            "JavaScript         1\n",
            "viz                1\n",
            "videos             1\n",
            "React              1\n",
            "Name: title, dtype: int64\n",
            "\n",
            "\n",
            "0    NaN\n",
            "1    NaN\n",
            "2    NaN\n",
            "3    NaN\n",
            "4    NaN\n",
            "Name: title, dtype: object\n"
          ],
          "name": "stdout"
        }
      ]
    },
    {
      "cell_type": "markdown",
      "metadata": {
        "id": "_GBv5rEuI6TC"
      },
      "source": [
        "### Negative Character Classes "
      ]
    },
    {
      "cell_type": "markdown",
      "metadata": {
        "id": "TVZtRsVEM1rs"
      },
      "source": [
        "We can see that there are a number of matches that contain Java as part of the word JavaScript. We want to exclude these titles from matching so we get an accurate count.\n",
        "\n",
        "Let's use the negative set [^Ss] to exclude instances like JavaScript and Javascript:"
      ]
    },
    {
      "cell_type": "code",
      "metadata": {
        "colab": {
          "base_uri": "https://localhost:8080/"
        },
        "id": "w7sPJi6SHSgk",
        "outputId": "69b09707-9755-4f1f-a40f-b048823f93b4"
      },
      "source": [
        "pattern = r'[Jj]ava[^Ss]'\n",
        "\n",
        "java_titles = titles[titles.str.contains(pattern)]\n",
        "\n",
        "print(java_titles.head())"
      ],
      "execution_count": 11,
      "outputs": [
        {
          "output_type": "stream",
          "text": [
            "436     Unikernel Power Comes to Java, Node.js, Go, an...\n",
            "811     Ask HN: Are there any projects or compilers wh...\n",
            "1840                    Adopting RxJava on the Airbnb App\n",
            "1972          Node.js vs. Java: Which Is Faster for APIs?\n",
            "2093                    Java EE and Microservices in 2016\n",
            "Name: title, dtype: object\n"
          ],
          "name": "stdout"
        }
      ]
    },
    {
      "cell_type": "markdown",
      "metadata": {
        "id": "iS0yaN7VNs2y"
      },
      "source": [
        "### Word Boundaries "
      ]
    },
    {
      "cell_type": "markdown",
      "metadata": {
        "id": "GIMdmMf-OoP1"
      },
      "source": [
        "While the negative set was effective in removing any bad matches that mention JavaScript, it also had the side-effect of removing any titles where Java occurs at the end of the string, like this title:\n",
        "\n",
        "Pippo  Web framework in Java"
      ]
    },
    {
      "cell_type": "code",
      "metadata": {
        "colab": {
          "base_uri": "https://localhost:8080/"
        },
        "id": "99cqWRqMMEZc",
        "outputId": "ff82a3b1-925f-4d22-f8f3-9ed1706cd05c"
      },
      "source": [
        "pattern = r'\\b[Jj]ava\\b'\n",
        "\n",
        "java_titles = titles[titles.str.contains(pattern)]\n",
        "\n",
        "print(java_titles.head())"
      ],
      "execution_count": 12,
      "outputs": [
        {
          "output_type": "stream",
          "text": [
            "436     Unikernel Power Comes to Java, Node.js, Go, an...\n",
            "811     Ask HN: Are there any projects or compilers wh...\n",
            "1023                         Pippo  Web framework in Java\n",
            "1972          Node.js vs. Java: Which Is Faster for APIs?\n",
            "2093                    Java EE and Microservices in 2016\n",
            "Name: title, dtype: object\n"
          ],
          "name": "stdout"
        }
      ]
    },
    {
      "cell_type": "markdown",
      "metadata": {
        "id": "xoRzWC_GO-1Q"
      },
      "source": [
        "### Matching at the Start and End of Strings"
      ]
    },
    {
      "cell_type": "code",
      "metadata": {
        "colab": {
          "base_uri": "https://localhost:8080/"
        },
        "id": "c028CwlSOi7p",
        "outputId": "e7dfcde7-a7d8-4a8e-8826-b5e926c37fc9"
      },
      "source": [
        "pattern_beginning = r\"^\\[\\w+\\]\"\n",
        "beginning_count = titles.str.contains(pattern_beginning).sum()\n",
        "\n",
        "pattern_ending =  r\"\\[\\w+\\]$\"\n",
        "ending_count = titles.str.contains(pattern_ending).sum()\n",
        "\n",
        "print(beginning_count)\n",
        "print('\\n')\n",
        "print(ending_count)"
      ],
      "execution_count": 13,
      "outputs": [
        {
          "output_type": "stream",
          "text": [
            "15\n",
            "\n",
            "\n",
            "417\n"
          ],
          "name": "stdout"
        }
      ]
    },
    {
      "cell_type": "markdown",
      "metadata": {
        "id": "ouvR1zpBbZQu"
      },
      "source": [
        "### Challenge: Using Flags to Modify Regex Pattern"
      ]
    },
    {
      "cell_type": "markdown",
      "metadata": {
        "id": "VVc8PZnmbyeK"
      },
      "source": [
        "we can use **flags** to specify that our regular expression should ignore case"
      ]
    },
    {
      "cell_type": "code",
      "metadata": {
        "colab": {
          "base_uri": "https://localhost:8080/"
        },
        "id": "gFDGtXzfRhp6",
        "outputId": "6070eb11-7008-47b7-d9f5-6f86cf33e71f"
      },
      "source": [
        "import re\n",
        "\n",
        "email_tests = pd.Series(['email', 'Email', 'e Mail', 'e mail', 'E-mail',\n",
        "              'e-mail', 'eMail', 'E-Mail', 'EMAIL', 'emails', 'Emails',\n",
        "              'E-Mails'])\n",
        "\n",
        "pattern = r'\\be[\\-\\s]?mails?\\b'\n",
        "\n",
        "email_mentions = email_tests[email_tests.str.contains(pattern, flags=re.I)]\n",
        "\n",
        "print(email_mentions)"
      ],
      "execution_count": 14,
      "outputs": [
        {
          "output_type": "stream",
          "text": [
            "0       email\n",
            "1       Email\n",
            "2      e Mail\n",
            "3      e mail\n",
            "4      E-mail\n",
            "5      e-mail\n",
            "6       eMail\n",
            "7      E-Mail\n",
            "8       EMAIL\n",
            "9      emails\n",
            "10     Emails\n",
            "11    E-Mails\n",
            "dtype: object\n"
          ],
          "name": "stdout"
        }
      ]
    },
    {
      "cell_type": "code",
      "metadata": {
        "id": "it6rZhu3bgOt"
      },
      "source": [
        ""
      ],
      "execution_count": 14,
      "outputs": []
    },
    {
      "cell_type": "markdown",
      "metadata": {
        "id": "3bzZ3hVrehAF"
      },
      "source": [
        ""
      ]
    },
    {
      "cell_type": "markdown",
      "metadata": {
        "id": "GjnYLdY4ejjz"
      },
      "source": [
        "## Advanced Regular Expression"
      ]
    },
    {
      "cell_type": "markdown",
      "metadata": {
        "id": "-V7K7PD-3Nd_"
      },
      "source": [
        "### Introduction"
      ]
    },
    {
      "cell_type": "code",
      "metadata": {
        "colab": {
          "base_uri": "https://localhost:8080/"
        },
        "id": "nrGF_ueeeqkr",
        "outputId": "8778894a-7f6d-4611-b862-dfb24f2411d5"
      },
      "source": [
        "pattern = r'sql'\n",
        "\n",
        "sql_counts = titles.str.contains(pattern, flags=re.I).sum()\n",
        "\n",
        "print(sql_counts)"
      ],
      "execution_count": 15,
      "outputs": [
        {
          "output_type": "stream",
          "text": [
            "108\n"
          ],
          "name": "stdout"
        }
      ]
    },
    {
      "cell_type": "code",
      "metadata": {
        "colab": {
          "base_uri": "https://localhost:8080/"
        },
        "id": "Vmsh8r0_fFTa",
        "outputId": "0769f192-c856-462f-d2a9-b398a128d93b"
      },
      "source": [
        "titles[titles.str.contains(pattern, flags=re.I)].head(20)"
      ],
      "execution_count": 16,
      "outputs": [
        {
          "output_type": "execute_result",
          "data": {
            "text/plain": [
              "9       Crate raises $4M seed round for its next-gen S...\n",
              "142                  PostgreSQL: Linux VS Windows  part 2\n",
              "221                  MemSQL (YC W11) Raises $36M Series C\n",
              "394                          The History of SQL Injection\n",
              "419     Pentesterlab Tutorial  SQL injection to web ad...\n",
              "513                         Crab  SQL for your filesystem\n",
              "683                     SQLite: The art of keep it simple\n",
              "882            Pgmemcahe :A PostgreSQL memcache functions\n",
              "1160    How to choose an in-memory NoSQL solution: Per...\n",
              "1164    Show HN: Migrate  Sane database/sql migrations...\n",
              "1197    Postgraphql: A GraphQL schema created by refle...\n",
              "1327                             Outlier Detection in SQL\n",
              "1370    MI6 (SIS) Is Developing a Node.js, Angular, No...\n",
              "1612                          Appropriate Uses for SQLite\n",
              "1960    Microsoft SQL Server Images Available on Googl...\n",
              "2430       Tracker: Ingesting MySQL data at scale  Part 2\n",
              "2432               SQL for NoSQL: Couchbase N1QL Tutorial\n",
              "2543                  PacketQ: SQL queries for pcap files\n",
              "2648      Hacking Microsoft SQL Server Without a Password\n",
              "3348    Show HN: Embed a Search-box that converts plai...\n",
              "Name: title, dtype: object"
            ]
          },
          "metadata": {
            "tags": []
          },
          "execution_count": 16
        }
      ]
    },
    {
      "cell_type": "code",
      "metadata": {
        "colab": {
          "base_uri": "https://localhost:8080/"
        },
        "id": "dtrz0Kc1f0bD",
        "outputId": "fd55a7fc-c026-4b88-ed00-0c115dc7626c"
      },
      "source": [
        "# find only SQL not include SQLlite, PostgreSQL, NoSQL, ...\n",
        "titles[titles.str.contains(r'\\bsql\\b', flags=re.I)] "
      ],
      "execution_count": 17,
      "outputs": [
        {
          "output_type": "execute_result",
          "data": {
            "text/plain": [
              "9        Crate raises $4M seed round for its next-gen S...\n",
              "394                           The History of SQL Injection\n",
              "419      Pentesterlab Tutorial  SQL injection to web ad...\n",
              "513                          Crab  SQL for your filesystem\n",
              "1164     Show HN: Migrate  Sane database/sql migrations...\n",
              "1327                              Outlier Detection in SQL\n",
              "1960     Microsoft SQL Server Images Available on Googl...\n",
              "2432                SQL for NoSQL: Couchbase N1QL Tutorial\n",
              "2543                   PacketQ: SQL queries for pcap files\n",
              "2648       Hacking Microsoft SQL Server Without a Password\n",
              "3348     Show HN: Embed a Search-box that converts plai...\n",
              "4944     SQL vs. NoSQL: you do want to have a relationa...\n",
              "5021     Microsoft SQL Server Developer Edition Is Now ...\n",
              "5112     Microsoft Azure SQL Database provides unparall...\n",
              "5654     Independent SQL-On-Hadoop Benchmark of SparkSQ...\n",
              "5726     Show HN: SQL Back End for the Static Web and M...\n",
              "5844     Node-Data is unique framework to support sql,n...\n",
              "6367     Envelope  Postgres database to web app with ju...\n",
              "6723     Show HN: Restabase  REST interface for SQL dat...\n",
              "6761              SQL Database Hacks Using AS and ORDER BY\n",
              "7471     SqlPad: Run SQL in your browser and chart the ...\n",
              "8214               Is SQL a good place for business logic?\n",
              "10381            Show HN: Sqlata, the SQL builder I wanted\n",
              "11652    DataGrip 1.0 (formerly 0xDBE): A New IDE for D...\n",
              "12210                                         Literate SQL\n",
              "12624           Learn SQL on Your Company's Data  For Free\n",
              "13129                          Go database/sql walkthrough\n",
              "13661                  Next generation of Google Cloud SQL\n",
              "13780    Semantic Highlighting for SQL in the Atom Edit...\n",
              "16231           Modern SQL: With  Organize Complex Queries\n",
              "16617                  Ask HN: Is R an alternative to SQL?\n",
              "16711                 Why Does Microsoft SQL Server Exist?\n",
              "16990                 SQL Hegemony  a sad state of affairs\n",
              "18047    Show HN: Created Pickaxe a SQL like DSL for we...\n",
              "18054    PipelineDB Releases Enterprise Version of Its ...\n",
              "18473                     Show HN: SQL Injection Challenge\n",
              "19124    Why SQL is neither legacy, nor low-level, nor ...\n",
              "19769                       SQL Server on Linux in Preview\n",
              "19965    Show HN: ExtractorApp Convert Excel / CSV to A...\n",
              "Name: title, dtype: object"
            ]
          },
          "metadata": {
            "tags": []
          },
          "execution_count": 17
        }
      ]
    },
    {
      "cell_type": "markdown",
      "metadata": {
        "id": "h9_-FFZozu8O"
      },
      "source": [
        "### Capture Groups "
      ]
    },
    {
      "cell_type": "code",
      "metadata": {
        "colab": {
          "base_uri": "https://localhost:8080/"
        },
        "id": "0EuSTP1hf4l7",
        "outputId": "2f52ff2b-0b13-469f-c9cf-0bf48a99435d"
      },
      "source": [
        "hn_sql = hn[hn['title'].str.contains(r\"\\w+SQL\", flags=re.I)].copy()\n",
        "hn_sql['flavor'] = hn_sql['title'].str.extract(r'(\\w+SQL)', flags=re.I, expand=False)\n",
        "hn_sql['flavor'].value_counts()"
      ],
      "execution_count": 18,
      "outputs": [
        {
          "output_type": "execute_result",
          "data": {
            "text/plain": [
              "PostgreSQL    27\n",
              "NoSQL         16\n",
              "MySQL         12\n",
              "mySql          1\n",
              "nosql          1\n",
              "SparkSQL       1\n",
              "CloudSQL       1\n",
              "MemSQL         1\n",
              "Name: flavor, dtype: int64"
            ]
          },
          "metadata": {
            "tags": []
          },
          "execution_count": 18
        }
      ]
    },
    {
      "cell_type": "code",
      "metadata": {
        "colab": {
          "base_uri": "https://localhost:8080/"
        },
        "id": "fwODTzbN0mBV",
        "outputId": "f9175b4f-316a-442f-fe10-e429813cfcc5"
      },
      "source": [
        "# duplication due to varied capitalization in this frequency table:\n",
        "# NoSQL and nosql\n",
        "# MySQL and mysql\n",
        "\n",
        "# change all to lowercase\n",
        "hn_sql['flavor'] = hn_sql['flavor'].str.lower()\n",
        "hn_sql['flavor'].value_counts()"
      ],
      "execution_count": 19,
      "outputs": [
        {
          "output_type": "execute_result",
          "data": {
            "text/plain": [
              "postgresql    27\n",
              "nosql         17\n",
              "mysql         13\n",
              "cloudsql       1\n",
              "sparksql       1\n",
              "memsql         1\n",
              "Name: flavor, dtype: int64"
            ]
          },
          "metadata": {
            "tags": []
          },
          "execution_count": 19
        }
      ]
    },
    {
      "cell_type": "code",
      "metadata": {
        "colab": {
          "base_uri": "https://localhost:8080/",
          "height": 254
        },
        "id": "KyrPCwnq2r6e",
        "outputId": "64ce6658-9970-4344-ec68-f76421d6c515"
      },
      "source": [
        "sql_pivot = hn_sql.pivot_table(values='num_comments', index='flavor')\n",
        "sql_pivot"
      ],
      "execution_count": 20,
      "outputs": [
        {
          "output_type": "execute_result",
          "data": {
            "text/html": [
              "<div>\n",
              "<style scoped>\n",
              "    .dataframe tbody tr th:only-of-type {\n",
              "        vertical-align: middle;\n",
              "    }\n",
              "\n",
              "    .dataframe tbody tr th {\n",
              "        vertical-align: top;\n",
              "    }\n",
              "\n",
              "    .dataframe thead th {\n",
              "        text-align: right;\n",
              "    }\n",
              "</style>\n",
              "<table border=\"1\" class=\"dataframe\">\n",
              "  <thead>\n",
              "    <tr style=\"text-align: right;\">\n",
              "      <th></th>\n",
              "      <th>num_comments</th>\n",
              "    </tr>\n",
              "    <tr>\n",
              "      <th>flavor</th>\n",
              "      <th></th>\n",
              "    </tr>\n",
              "  </thead>\n",
              "  <tbody>\n",
              "    <tr>\n",
              "      <th>cloudsql</th>\n",
              "      <td>5.000000</td>\n",
              "    </tr>\n",
              "    <tr>\n",
              "      <th>memsql</th>\n",
              "      <td>14.000000</td>\n",
              "    </tr>\n",
              "    <tr>\n",
              "      <th>mysql</th>\n",
              "      <td>12.230769</td>\n",
              "    </tr>\n",
              "    <tr>\n",
              "      <th>nosql</th>\n",
              "      <td>14.529412</td>\n",
              "    </tr>\n",
              "    <tr>\n",
              "      <th>postgresql</th>\n",
              "      <td>25.962963</td>\n",
              "    </tr>\n",
              "    <tr>\n",
              "      <th>sparksql</th>\n",
              "      <td>1.000000</td>\n",
              "    </tr>\n",
              "  </tbody>\n",
              "</table>\n",
              "</div>"
            ],
            "text/plain": [
              "            num_comments\n",
              "flavor                  \n",
              "cloudsql        5.000000\n",
              "memsql         14.000000\n",
              "mysql          12.230769\n",
              "nosql          14.529412\n",
              "postgresql     25.962963\n",
              "sparksql        1.000000"
            ]
          },
          "metadata": {
            "tags": []
          },
          "execution_count": 20
        }
      ]
    },
    {
      "cell_type": "markdown",
      "metadata": {
        "id": "8Uw1F9SA3tzy"
      },
      "source": [
        "### Using Capture Groups to Extract Data"
      ]
    },
    {
      "cell_type": "markdown",
      "metadata": {
        "id": "RQuIQCa8jsTW"
      },
      "source": [
        "![Capture2.PNG](data:image/png;base64,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)"
      ]
    },
    {
      "cell_type": "code",
      "metadata": {
        "colab": {
          "base_uri": "https://localhost:8080/"
        },
        "id": "aXw_avZJ5HD3",
        "outputId": "a1c8cf01-17cc-4d10-aa9d-2c652aa5e44d"
      },
      "source": [
        "titles"
      ],
      "execution_count": 21,
      "outputs": [
        {
          "output_type": "execute_result",
          "data": {
            "text/plain": [
              "0                                Interactive Dynamic Video\n",
              "1        Florida DJs May Face Felony for April Fools' W...\n",
              "2             Technology ventures: From Idea to Enterprise\n",
              "3        Note by Note: The Making of Steinway L1037 (2007)\n",
              "4        Title II kills investment? Comcast and other I...\n",
              "                               ...                        \n",
              "20094    How Purism Avoids Intels Active Management Tec...\n",
              "20095            YC Application Translated and Broken Down\n",
              "20096    Microkernels are slow and Elvis didn't do no d...\n",
              "20097                        How Product Hunt really works\n",
              "20098    RoboBrowser: Your friendly neighborhood web sc...\n",
              "Name: title, Length: 20099, dtype: object"
            ]
          },
          "metadata": {
            "tags": []
          },
          "execution_count": 21
        }
      ]
    },
    {
      "cell_type": "markdown",
      "metadata": {
        "id": "taWczqb18Kp2"
      },
      "source": [
        "We'll use a capture group to capture the version number after the word \"Python,\" and then build a frequency table of the different versions."
      ]
    },
    {
      "cell_type": "code",
      "metadata": {
        "colab": {
          "base_uri": "https://localhost:8080/"
        },
        "id": "NAbpNs8A3fDm",
        "outputId": "f06cbd6e-9b9c-4dc1-f982-4d44729cc502"
      },
      "source": [
        "pattern = r'[Pp]ython ([\\d.]+)'\n",
        "py_versions_freq = dict(titles.str.extract(pattern, expand=False).value_counts())\n",
        "py_versions_freq"
      ],
      "execution_count": 22,
      "outputs": [
        {
          "output_type": "execute_result",
          "data": {
            "text/plain": [
              "{'1.5': 1,\n",
              " '2': 3,\n",
              " '2.7': 1,\n",
              " '3': 10,\n",
              " '3.5': 3,\n",
              " '3.5.0': 1,\n",
              " '3.6': 2,\n",
              " '4': 1,\n",
              " '8': 1}"
            ]
          },
          "metadata": {
            "tags": []
          },
          "execution_count": 22
        }
      ]
    },
    {
      "cell_type": "code",
      "metadata": {
        "id": "XPE3ohG04jJm"
      },
      "source": [
        ""
      ],
      "execution_count": 22,
      "outputs": []
    },
    {
      "cell_type": "markdown",
      "metadata": {
        "id": "q2E61dpFeEjH"
      },
      "source": [
        "### Counting Mentions of the 'C' Language"
      ]
    },
    {
      "cell_type": "markdown",
      "metadata": {
        "id": "bxXzz1FQeU6g"
      },
      "source": [
        "We'll counting the mentions of the C language."
      ]
    },
    {
      "cell_type": "code",
      "metadata": {
        "colab": {
          "base_uri": "https://localhost:8080/"
        },
        "id": "bSLIMx3KgsTl",
        "outputId": "21657aaf-68e5-4cb3-d2d7-40c684c998c3"
      },
      "source": [
        "pattern = r'\\b[Cc]\\b'\n",
        "\n",
        "c = titles[titles.str.contains(pattern)]\n",
        "c"
      ],
      "execution_count": 23,
      "outputs": [
        {
          "output_type": "execute_result",
          "data": {
            "text/plain": [
              "13                  Custom Deleters for C++ Smart Pointers\n",
              "220                         Lisp, C++: Sadness in my heart\n",
              "221                   MemSQL (YC W11) Raises $36M Series C\n",
              "353      VW C.E.O. Personally Apologized to President O...\n",
              "365                       The new C standards are worth it\n",
              "                               ...                        \n",
              "19667                         Ill-Advised C++ Rant, Part 2\n",
              "19799    Introducing a new, advanced Visual C++ code op...\n",
              "19829    Ferret: Compiling a Subset of Clojure to ISO C...\n",
              "19933    Lightweight C library to parse NMEA 0183 sente...\n",
              "19997                                    Proposal: C.UTF-8\n",
              "Name: title, Length: 190, dtype: object"
            ]
          },
          "metadata": {
            "tags": []
          },
          "execution_count": 23
        }
      ]
    },
    {
      "cell_type": "markdown",
      "metadata": {
        "id": "ZohUSdjDgo0H"
      },
      "source": [
        "Immediately, our results are reasonably relevant. However, we can quickly identify a few match types we want to prevent:\n",
        "\n",
        "* Mentions of C++, a distinct language from C.\n",
        "* Cases where the letter C is followed by a period, like in the substring C.E.O."
      ]
    },
    {
      "cell_type": "markdown",
      "metadata": {
        "id": "qajRX8crgzt8"
      },
      "source": [
        "Let's use a negative set to prevent matches for the + character and the . character."
      ]
    },
    {
      "cell_type": "code",
      "metadata": {
        "colab": {
          "base_uri": "https://localhost:8080/"
        },
        "id": "IHiRQzvHeI-V",
        "outputId": "b642e77b-743c-479b-aa61-9c77b666cba3"
      },
      "source": [
        "pattern = r'\\b[Cc]\\b[^.+]'\n",
        "\n",
        "c_mentions = titles[titles.str.contains(pattern)]\n",
        "c_mentions"
      ],
      "execution_count": 24,
      "outputs": [
        {
          "output_type": "execute_result",
          "data": {
            "text/plain": [
              "365                       The new C standards are worth it\n",
              "444            Moz raises $10m Series C from Foundry Group\n",
              "521           Fuchsia: Micro kernel written in C by Google\n",
              "1307             Show HN: Yupp, yet another C preprocessor\n",
              "1326                      The C standard formalized in Coq\n",
              "                               ...                        \n",
              "18543                 C-style for loops removed from Swift\n",
              "18549            Show HN: An awesome C library for Windows\n",
              "18649                 Python vs. C/C++ in embedded systems\n",
              "19151                      Ask HN: How to learn C in 2016?\n",
              "19933    Lightweight C library to parse NMEA 0183 sente...\n",
              "Name: title, Length: 84, dtype: object"
            ]
          },
          "metadata": {
            "tags": []
          },
          "execution_count": 24
        }
      ]
    },
    {
      "cell_type": "markdown",
      "metadata": {
        "id": "CkSI64YQlvlt"
      },
      "source": [
        "### Using Lookarounds to Control Matches Based on Surrounding Text"
      ]
    },
    {
      "cell_type": "markdown",
      "metadata": {
        "id": "eZKaIDYQoYk_"
      },
      "source": [
        "![Capture1.PNG](data:image/png;base64,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)"
      ]
    },
    {
      "cell_type": "markdown",
      "metadata": {
        "id": "eF-Bruvdo1rD"
      },
      "source": [
        "* Keep excluding matches that are followed by . or +, but still match cases where \"C\" falls at the end of the sentence.\n",
        "* Exclude matches that have the word 'Series' immediately preceding them."
      ]
    },
    {
      "cell_type": "code",
      "metadata": {
        "colab": {
          "base_uri": "https://localhost:8080/"
        },
        "id": "XN-vMQqtildk",
        "outputId": "a5cc9975-38c5-4726-cf28-ae409bcb59c4"
      },
      "source": [
        "pattern = r\"(?<!Series\\s)\\b[Cc]\\b((?![.+])|\\.$)\"\n",
        "c_mentions = titles[titles.str.contains(pattern)]\n",
        "c_mentions"
      ],
      "execution_count": 25,
      "outputs": [
        {
          "output_type": "stream",
          "text": [
            "/usr/local/lib/python3.7/dist-packages/pandas/core/strings.py:2001: UserWarning: This pattern has match groups. To actually get the groups, use str.extract.\n",
            "  return func(self, *args, **kwargs)\n"
          ],
          "name": "stderr"
        },
        {
          "output_type": "execute_result",
          "data": {
            "text/plain": [
              "365                       The new C standards are worth it\n",
              "521           Fuchsia: Micro kernel written in C by Google\n",
              "1307             Show HN: Yupp, yet another C preprocessor\n",
              "1326                      The C standard formalized in Coq\n",
              "1365                           GNU C Library 2.23 released\n",
              "                               ...                        \n",
              "18543                 C-style for loops removed from Swift\n",
              "18549            Show HN: An awesome C library for Windows\n",
              "18649                 Python vs. C/C++ in embedded systems\n",
              "19151                      Ask HN: How to learn C in 2016?\n",
              "19933    Lightweight C library to parse NMEA 0183 sente...\n",
              "Name: title, Length: 102, dtype: object"
            ]
          },
          "metadata": {
            "tags": []
          },
          "execution_count": 25
        }
      ]
    },
    {
      "cell_type": "markdown",
      "metadata": {
        "id": "gNBOykTBkdmU"
      },
      "source": [
        "### Backreferences: Using Capture Groups in a RegEx Pattern"
      ]
    },
    {
      "cell_type": "markdown",
      "metadata": {
        "id": "zsd0Sd2HkmnE"
      },
      "source": [
        "![Capture4.PNG](data:image/png;base64,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)"
      ]
    },
    {
      "cell_type": "markdown",
      "metadata": {
        "id": "K9f67RCrkqoz"
      },
      "source": [
        "The regular expression above will match the text **HelloGoodbyeGoodbyeHello**."
      ]
    },
    {
      "cell_type": "markdown",
      "metadata": {
        "id": "0Y7ZvfeqmNZQ"
      },
      "source": [
        "Write a regular expression to match cases of repeated words:\n",
        "\n",
        "* We'll define a word as a series of one or more word characters preceded and followed by a boundary anchor.\n",
        "* We'll define repeated words as the same word repeated twice, separated by a single whitespace character."
      ]
    },
    {
      "cell_type": "code",
      "metadata": {
        "colab": {
          "base_uri": "https://localhost:8080/"
        },
        "id": "x9fK0rz8kmFB",
        "outputId": "860bdca8-b4c9-4a14-efe7-b3fed7c30e30"
      },
      "source": [
        "pattern = r'\\b(\\w+)(\\s)\\1\\b'\n",
        "repeated_words = titles[titles.str.contains(pattern)]\n",
        "\n",
        "repeated_words"
      ],
      "execution_count": 31,
      "outputs": [
        {
          "output_type": "stream",
          "text": [
            "/usr/local/lib/python3.7/dist-packages/pandas/core/strings.py:2001: UserWarning: This pattern has match groups. To actually get the groups, use str.extract.\n",
            "  return func(self, *args, **kwargs)\n"
          ],
          "name": "stderr"
        },
        {
          "output_type": "execute_result",
          "data": {
            "text/plain": [
              "3102                  Silicon Valley Has a Problem Problem\n",
              "3176                Wire Wire: A West African Cyber Threat\n",
              "3178                         Flexbox Cheatsheet Cheatsheet\n",
              "4797                            The Mindset Mindset (2015)\n",
              "7276     Valentine's Day Special: Bye Bye Tinder, Flirt...\n",
              "10371    Mcdonalds copying cyriak  cows cows cows in th...\n",
              "11575                                    Bang Bang Control\n",
              "11901          Cordless Telephones: Bye Bye Privacy (1991)\n",
              "12697          Solving the the Monty-Hall-Problem in Swift\n",
              "15049    Bye Bye Webrtc2SIP: WebRTC with Asterisk and A...\n",
              "15839          Intellij-Rust Rust Plugin for IntelliJ IDEA\n",
              "Name: title, dtype: object"
            ]
          },
          "metadata": {
            "tags": []
          },
          "execution_count": 31
        }
      ]
    },
    {
      "cell_type": "markdown",
      "metadata": {
        "id": "Wa6lNfzxmy_p"
      },
      "source": [
        "### Substituting Regular Expression Mathces"
      ]
    },
    {
      "cell_type": "markdown",
      "metadata": {
        "id": "34JKFDMenx0P"
      },
      "source": [
        "Series.str.replace() method and a regular expression"
      ]
    },
    {
      "cell_type": "markdown",
      "metadata": {
        "id": "C3RZMf14rG7p"
      },
      "source": [
        "Use a regular expression to replace each of the matches in email_variations with \"email\""
      ]
    },
    {
      "cell_type": "code",
      "metadata": {
        "colab": {
          "base_uri": "https://localhost:8080/"
        },
        "id": "wroa5cvylzMh",
        "outputId": "e69c47d7-746a-4ae2-db30-92b44fa33da1"
      },
      "source": [
        "email_variations = pd.Series(['email', 'Email', 'e Mail',\n",
        "                        'e mail', 'E-mail', 'e-mail',\n",
        "                        'eMail', 'E-Mail', 'EMAIL'])\n",
        "\n",
        "pattern = r'\\be[-\\s]?mail'\n",
        "\n",
        "titles_clean = titles.str.replace(pattern, 'email', flags=re.I)\n",
        "\n",
        "titles_clean"
      ],
      "execution_count": 32,
      "outputs": [
        {
          "output_type": "execute_result",
          "data": {
            "text/plain": [
              "0                                Interactive Dynamic Video\n",
              "1        Florida DJs May Face Felony for April Fools' W...\n",
              "2             Technology ventures: From Idea to Enterprise\n",
              "3        Note by Note: The Making of Steinway L1037 (2007)\n",
              "4        Title II kills investment? Comcast and other I...\n",
              "                               ...                        \n",
              "20094    How Purism Avoids Intels Active Management Tec...\n",
              "20095            YC Application Translated and Broken Down\n",
              "20096    Microkernels are slow and Elvis didn't do no d...\n",
              "20097                        How Product Hunt really works\n",
              "20098    RoboBrowser: Your friendly neighborhood web sc...\n",
              "Name: title, Length: 20099, dtype: object"
            ]
          },
          "metadata": {
            "tags": []
          },
          "execution_count": 32
        }
      ]
    },
    {
      "cell_type": "markdown",
      "metadata": {
        "id": "wOovda8n3Uua"
      },
      "source": [
        "### Extracting Domains from URLs"
      ]
    },
    {
      "cell_type": "markdown",
      "metadata": {
        "id": "_SQH6VVG5P11"
      },
      "source": [
        "Extract domains form URLs"
      ]
    },
    {
      "cell_type": "code",
      "metadata": {
        "colab": {
          "base_uri": "https://localhost:8080/"
        },
        "id": "5BzVycIrq9E_",
        "outputId": "aa29cbfc-658f-4130-b43c-8d9f818a29a9"
      },
      "source": [
        "test_urls = pd.Series([\n",
        " 'https://www.amazon.com/Technology-Ventures-Enterprise-Thomas-Byers/dp/0073523429',\n",
        " 'http://www.interactivedynamicvideo.com/',\n",
        " 'http://www.nytimes.com/2007/11/07/movies/07stein.html?_r=0',\n",
        " 'http://evonomics.com/advertising-cannot-maintain-internet-heres-solution/',\n",
        " 'HTTPS://github.com/keppel/pinn',\n",
        " 'Http://phys.org/news/2015-09-scale-solar-youve.html',\n",
        " 'https://iot.seeed.cc',\n",
        " 'http://www.bfilipek.com/2016/04/custom-deleters-for-c-smart-pointers.html',\n",
        " 'http://beta.crowdfireapp.com/?beta=agnipath',\n",
        " 'https://www.valid.ly?param',\n",
        " 'http://css-cursor.techstream.org'\n",
        "])\n",
        "\n",
        "pattern = r'https?://([\\w\\-\\.]+)'\n",
        "\n",
        "test_urls_clean = test_urls.str.extract(pattern, expand=False, flags=re.I)\n",
        "\n",
        "domains = hn['url'].str.extract(pattern, expand=False, flags=re.I)\n",
        "\n",
        "top_domains = domains.value_counts().head(5)\n",
        "\n",
        "top_domains"
      ],
      "execution_count": 37,
      "outputs": [
        {
          "output_type": "execute_result",
          "data": {
            "text/plain": [
              "github.com             1008\n",
              "medium.com              825\n",
              "www.nytimes.com         525\n",
              "www.theguardian.com     248\n",
              "techcrunch.com          245\n",
              "Name: url, dtype: int64"
            ]
          },
          "metadata": {
            "tags": []
          },
          "execution_count": 37
        }
      ]
    },
    {
      "cell_type": "markdown",
      "metadata": {
        "id": "HHh_MN098tiF"
      },
      "source": [
        "### Using URL Parts Using Multiple Capture Groups"
      ]
    },
    {
      "cell_type": "markdown",
      "metadata": {
        "id": "u3ZjA1NB9YOh"
      },
      "source": [
        "![Capture5.PNG](data:image/png;base64,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)"
      ]
    },
    {
      "cell_type": "code",
      "metadata": {
        "colab": {
          "base_uri": "https://localhost:8080/"
        },
        "id": "ZJj3Qym_9bet",
        "outputId": "049d5dd9-226d-4ec2-e79b-ed006ed0e80c"
      },
      "source": [
        "pattern = r\"(.+)\\s(.+)\"\n",
        "\n",
        "created_at = hn['created_at']\n",
        "dates_times = created_at.str.extract(pattern)\n",
        "\n",
        "print(dates_times)"
      ],
      "execution_count": 64,
      "outputs": [
        {
          "output_type": "stream",
          "text": [
            "                0      1\n",
            "0        8/4/2016  11:52\n",
            "1       6/23/2016  22:20\n",
            "2       6/17/2016   0:01\n",
            "3       9/30/2015   4:12\n",
            "4      10/31/2015   9:48\n",
            "...           ...    ...\n",
            "20094   8/29/2016   2:22\n",
            "20095   10/6/2015  14:57\n",
            "20096    1/2/2016   0:49\n",
            "20097  12/15/2015  19:32\n",
            "20098   5/12/2016   1:43\n",
            "\n",
            "[20099 rows x 2 columns]\n"
          ],
          "name": "stdout"
        }
      ]
    },
    {
      "cell_type": "markdown",
      "metadata": {
        "id": "bxvxejnT80S9"
      },
      "source": [
        "We'll extract each of the three component parts of the URLs:\n",
        "\n",
        "1. Protocol\n",
        "2. Domain\n",
        "3. Page path"
      ]
    },
    {
      "cell_type": "code",
      "metadata": {
        "colab": {
          "base_uri": "https://localhost:8080/",
          "height": 486
        },
        "id": "6KPP33TH5SfL",
        "outputId": "69048387-2fe6-4800-f1ae-1fca48774181"
      },
      "source": [
        "pattern = r\"(https?)://([\\w\\.\\-]+)/?(.*)\"\n",
        "test_url_parts = test_urls.str.extract(pattern, flags=re.I)\n",
        "\n",
        "url_parts = hn['url'].str.extract(pattern, flags=re.I)\n",
        "\n",
        "url_parts"
      ],
      "execution_count": 76,
      "outputs": [
        {
          "output_type": "execute_result",
          "data": {
            "text/html": [
              "<div>\n",
              "<style scoped>\n",
              "    .dataframe tbody tr th:only-of-type {\n",
              "        vertical-align: middle;\n",
              "    }\n",
              "\n",
              "    .dataframe tbody tr th {\n",
              "        vertical-align: top;\n",
              "    }\n",
              "\n",
              "    .dataframe thead th {\n",
              "        text-align: right;\n",
              "    }\n",
              "</style>\n",
              "<table border=\"1\" class=\"dataframe\">\n",
              "  <thead>\n",
              "    <tr style=\"text-align: right;\">\n",
              "      <th></th>\n",
              "      <th>0</th>\n",
              "      <th>1</th>\n",
              "      <th>2</th>\n",
              "    </tr>\n",
              "  </thead>\n",
              "  <tbody>\n",
              "    <tr>\n",
              "      <th>0</th>\n",
              "      <td>http</td>\n",
              "      <td>www.interactivedynamicvideo.com</td>\n",
              "      <td></td>\n",
              "    </tr>\n",
              "    <tr>\n",
              "      <th>1</th>\n",
              "      <td>http</td>\n",
              "      <td>www.thewire.com</td>\n",
              "      <td>entertainment/2013/04/florida-djs-april-fools-...</td>\n",
              "    </tr>\n",
              "    <tr>\n",
              "      <th>2</th>\n",
              "      <td>https</td>\n",
              "      <td>www.amazon.com</td>\n",
              "      <td>Technology-Ventures-Enterprise-Thomas-Byers/dp...</td>\n",
              "    </tr>\n",
              "    <tr>\n",
              "      <th>3</th>\n",
              "      <td>http</td>\n",
              "      <td>www.nytimes.com</td>\n",
              "      <td>2007/11/07/movies/07stein.html?_r=0</td>\n",
              "    </tr>\n",
              "    <tr>\n",
              "      <th>4</th>\n",
              "      <td>http</td>\n",
              "      <td>arstechnica.com</td>\n",
              "      <td>business/2015/10/comcast-and-other-isps-boost-...</td>\n",
              "    </tr>\n",
              "    <tr>\n",
              "      <th>...</th>\n",
              "      <td>...</td>\n",
              "      <td>...</td>\n",
              "      <td>...</td>\n",
              "    </tr>\n",
              "    <tr>\n",
              "      <th>20094</th>\n",
              "      <td>https</td>\n",
              "      <td>puri.sm</td>\n",
              "      <td>philosophy/how-purism-avoids-intels-active-man...</td>\n",
              "    </tr>\n",
              "    <tr>\n",
              "      <th>20095</th>\n",
              "      <td>https</td>\n",
              "      <td>medium.com</td>\n",
              "      <td>@zreitano/the-yc-application-broken-down-and-t...</td>\n",
              "    </tr>\n",
              "    <tr>\n",
              "      <th>20096</th>\n",
              "      <td>http</td>\n",
              "      <td>blog.darknedgy.net</td>\n",
              "      <td>technology/2016/01/01/0/</td>\n",
              "    </tr>\n",
              "    <tr>\n",
              "      <th>20097</th>\n",
              "      <td>https</td>\n",
              "      <td>medium.com</td>\n",
              "      <td>@benjiwheeler/how-product-hunt-really-works-d8...</td>\n",
              "    </tr>\n",
              "    <tr>\n",
              "      <th>20098</th>\n",
              "      <td>https</td>\n",
              "      <td>github.com</td>\n",
              "      <td>jmcarp/robobrowser</td>\n",
              "    </tr>\n",
              "  </tbody>\n",
              "</table>\n",
              "<p>20099 rows × 3 columns</p>\n",
              "</div>"
            ],
            "text/plain": [
              "           0  ...                                                  2\n",
              "0       http  ...                                                   \n",
              "1       http  ...  entertainment/2013/04/florida-djs-april-fools-...\n",
              "2      https  ...  Technology-Ventures-Enterprise-Thomas-Byers/dp...\n",
              "3       http  ...                2007/11/07/movies/07stein.html?_r=0\n",
              "4       http  ...  business/2015/10/comcast-and-other-isps-boost-...\n",
              "...      ...  ...                                                ...\n",
              "20094  https  ...  philosophy/how-purism-avoids-intels-active-man...\n",
              "20095  https  ...  @zreitano/the-yc-application-broken-down-and-t...\n",
              "20096   http  ...                           technology/2016/01/01/0/\n",
              "20097  https  ...  @benjiwheeler/how-product-hunt-really-works-d8...\n",
              "20098  https  ...                                 jmcarp/robobrowser\n",
              "\n",
              "[20099 rows x 3 columns]"
            ]
          },
          "metadata": {
            "tags": []
          },
          "execution_count": 76
        }
      ]
    },
    {
      "cell_type": "markdown",
      "metadata": {
        "id": "bGZN649TBit2"
      },
      "source": [
        "### Using Named Capture Groups to Extract Data"
      ]
    },
    {
      "cell_type": "markdown",
      "metadata": {
        "id": "o567ZnYiBxSk"
      },
      "source": [
        "![Capture6.PNG](data:image/png;base64,iVBORw0KGgoAAAANSUhEUgAAAY8AAAHTCAYAAADf1pRrAAAAAXNSR0IArs4c6QAAAARnQU1BAACxjwv8YQUAAAAJcEhZcwAAEnQAABJ0Ad5mH3gAAFd6SURBVHhe7b1rrC5XmefnbyNlRpiJEkUjJTbKRLl84CJFifIhYPIh0mjUbpCSNDPhZqLO0NOmoSFNZwYPbTeoR9hNB7ph6AZszM3GBrttzM3YxjYYOIABc/XdHNv4bh+fY2MbbANv9q/O/m89e+1n1a63zrt3Xd7/I/2031rrqVXrrbXW86+1qt7axy1sNpvNZlvSLB42m81mW9osHjabzWZb2iweNpvNZlvaLB42m81mW9oGFY9nnv21McaYTaZkg4rH408+vXjsiV8ZY8za89Svnt2MjNMwi4cxxowAi8cSZvEwxpijWDyWMIuHMcYcxeKxhFk8jDHmKBaPJcziYYwxR7F4LGEWD2OMOYrFYwmzeBhjzFEsHkuYxcMYY45i8VjCLB7GGHMUi8cSZvEwq+CR225I043Za1bZ9yweS9h+iMfP3vu/Le659F1p3ph59PwLGo7ceU+ab47y0A1XLG79f/+7XQfxzw89sfi3n/tpQ5a/F0y173Xh0LvOWjz8ilcsHj3vU2n+OkCf69L3umLxWML2WjwYvD99zXGLuz/xljT/8BVXLR459dRmEAAD4siNt+70+/KVW8E8cuR7P9jhuypUp8N7eIw5cN8Vf9e0cZdB/OpPfm9x3FsuW9z58C/S/FWyW99D9A5+4NWLm9984uLmP/onizv+8p8vHjzw9zv8aP/97nu7wQWN+idkPuvAwz/+2uLmN/3nKxMQi8cStpficc/F72gG78H3/Ys0nyumpvOfcsrikT87ffHIH26KyOtet+Nqn/w4WCKITyY4GYev+8bi0Us+m+aVqPxViIfKyvL6oICW5Q3BPRf9edPWBOwsX1x0wz2NeJz2+RvT/FWxW9+TsNz4+//R4tbTXtR8hpv+9X+8eOSW727z3eqnCUv1vY024yIoy3v0w+c05S3T15p9NsbOfs88xtb3HvjmxZ36XhcsHkvYXonHIzd9e3Hj//2PFrf86X+zePSen6U+jz30aDMA+Ks0CUg5ICQeh/76fUcH4eZAfORP3no0fSM/+u9g4xjLTvPxhWUGdMrGsVVWmt8D6kR5j7z1rZ2DVx8+ceeTi7ff2G2WcPCv/49mEN935YfSfPFf//uvLP6Tt1+e5q0C9b2b/tVzWq9GCTaHDh5dQnv03oPNDIT633XO67f5STxqfQ8Bif47oJ+f/ZHGt9b31L+Pua/tA1t9b+N772V91fe+89Av0/zIXR97Y6e+txsWjyVsr8TjrnNPbRrzgW98Os2vwQBtBlkxO9DgKgdfnL5HEYow22A2g8+hd52Z+zHAL71scehv3t/8jQE/GyCHr/vm0eWLjaDAX45R+hDUWZajTJXV7BPI7qdwPPKaulR8mvpuBjWVu8NnBTCAf++7j6d5JYfuvGlx47/6R4vb/+J/SfPFWz/7k2b2cfUtD6b5Je//2h3Nctf//L7rmvsln7z+7sXDjz2V+oJmQT+/8N+l+TXu/LtTmv0Ovv9fbkvXed4R+HfpI0C6lmXpw7Et+czSF20nH7W5iOWqX5Rks5mtdPoJfhv9lM/0yabP0seLfYA64a961L7Xtr63WXbmdyyo73URj0d/fnsza7ztjP8pze+KxWMJ2wvxaBryD/7x4sb/6x8sjhw+kvpk0LGbDrkxFS87Y008QJ14R0ffKEOzDcrMAjw0x90Uly3CdjmANdBLOFYsV3Vuo6xzFJpIbamNum9dAe/BLGQZ8YDb3/mSJgBzJZ/lw/fverQRj1d+4ntpfuTl53y78S054R1XVm+83/q2FzZ1OPSzn6T5GY/c/J3FTa9/7saM5R8uHv7RtdvyquKxgdon63uabTRLS0n7xQBcIx6z5k8/i+VCk7fRh+kT8uPCKfbr8vts1beAPhn9BEKjPr4Xs5BlxAMQ/eaC9esXpvldsHgsYXshHlqDJJBk+RlbAXxjoGUBsCYezaxis5PvSN8cKMxmqldGG+nyIwgzAKAZaJvlxkHBgNE6M+nUlSu8Ld8gUE3ehg+BI5YVifXSundTj81ymu+xcTztK9+SGFi4Ysx8usJgFXEAR7L9gKt92j678Rx5yfu+3ojA4V/k+fCRA3c2Pi9697WLr976UJP2jdsfbkSDWUjpD0cOPbJ039MTO03g+dp5O/J1bsu+1/TZzXMeZxS009ZMYqMfxbwI6eoHKoe+ojSI+0Z/0Cy9Kh7kbfalrfI3vsNWPwv7bfWfcJHFMXRhks1uRNO/N/toMwtJfLoS+9iyfY8HIGjDuz/2pjS/CxaPJWwvxOO+L/9t04g8yZLl70ABvCIcIPHg3kYzDd+cWjcdnk7LvZPEv63Tw1bg3zh2KTAqm0EU0zM0IMsAA+yvssq8LTgHmz5lsJH4lN+xpDnOphBm+V1hwLbBoM72g/uv+nDT9vdd/h/SfPHea29vhOHsb9ZnKO/76h1b4lE+nXXL/Y9t2xaHfvbjpfre4Ycf3JqpZMIBCqyx7zVX6bo4YSk0+NcudNrAH7r0NaF6tYmHykMEgM9Zf9R3KY8v4Sm/Y0kjpCvoe9zjyPqcaOt7Eg/uvWX5XbB4LGF7IR66+uy65qwA3swQknzQgMzIgurW1f5Gh66t78IyA3CLjUDf3Mt411nblgVq5WSDtST6EKQiOkZWtmgGeSWYLQsDNKJBG8n2Aw3gLm3/D/7089UZhIjLVnw+66pbFzfcVV9fX+b4IP+2mYr6SEY2q40zza6zQPnv6GstLCUe9KNNv7I/HnPf29g/3tfJfLpS9rM+fW+ZWWeJxWMJ25OZx8ZVJ43IDcgsfwcE440OWJveA52y6dwbgxVfUQ7cCFdDmnbX7gcsKx5NmRooG2UjXASLtiUE9ldZZZ6IPpSRkc48Nr5/l/s6fdEAzvIy7r/6I03b3/el+oWA+L2PXt+IwvdaxABYpjr5w99a/OPTvrQlJKec//3U99DtP1yq7xFwRJYP6iNL972NNmvas8P9ALX9bn6RvRAP+ZXU+t5u93WOBfW9tqWqiMTjWB7ZtXgsYXtyz+PrFzaNeMe7/tc0P4OnTrqIBwMmy29Dg6zZv7gS3BqAG+IS00H7xAGteyHlQGkbyOVgzWim/fJpCUqRHbONDvt97Nt3Lf7PT3x3cfqXblp84Sf3pz6RZcXjnovf2bR9l5uWV970QCMEb/t8t1+cs3T14W8eXPzDf/OFZr/Xf3pnoD380P1L971H77plceRIvgwGattefY9ZSLwfUGkjtX3sa7vR1ufK8iQCfC77I+NO29kFVgZ9L8422sau+PE9hxe/f8ENS/e9ZcXjro/8YZrfBYvHErYX4vHwT7/RNOJNp/6naX6JrtoJhLVOSAfFp88AhuZKcHMWEsuIAyletW+7CR4GtAJB9KXObdP7KAxtg1O/ccmebinPy1a9l5xt/O/nHr3ah3/9mR+mPpFlxYNfadP2j9y6+5NUcOI7r1z8F+/Ir/pZojrnwJ070hE/6v/PPnhgRx7c/Ib/rKkD9zOy/Mj9V5/b+PJDwYd/ki+hHYt4QNM/dum/ym+WwZL8DNUr63NN39igi3gon22WqkqBa+t7y8w21G7L9r2u4oFo0JZdZr01LB5L2F6IB+gHY7w+IMuPKCBDDNQRde6+A1iwf1mGyoZmnXfzimpLKEKdotAR5PGPvhqgJVvHYL+Nz1pPjmLSiIzK2agDy1FcrTb1KYSVOnWdbUT+23ddvTWATz7726nPscBrPm592wvSvIx/94Ubm7p85obtAYr7GqrnSe//+uJffvy7zfKVlrqAWUjcR9z98Tc3fe/eL/5Nmh/Ro8VQu0+iIH3MfW8j0NaCbbxYoV+oj7Q9JKF6ZX1OZanv4iO/reC/gfxj32v6qPre5kVR7KfsT1mlqOzGXve9W/6ff7q45S3/5eLIoUNpfhcsHkvYXonHg9+6pBmQd5z5z9L8CAOEDsqVdy0YKvge6wBO2Tjmlihs1oOreS1RRfFofDfT5UudmsHHdjKQs/0a342Z0LayN6CcWBf5Nd97SaHIIAAziLn5nF3VHwt3n/fW1iCcce+jTzbB5F9siEOZx72QP/nsTxb//V99dfFPzvjyVuD5r/79Vxb/4Wt37PAXD37nsqYePH57+JGjj/jWuP/ajzc/LuOJq8MP3pf6KEjvSd8LNMcJF1J83i/xaNA4CHVQ/97W93r2w8/+8N7mybm96Hv3fvaspftehsVjCdsr8YA7P/z7K2lQM34euO5TTVvf9mf/w+LIke7LXPCSjZkFonDHg8vt14b73vpw6I4fNS9H7NP3SiweS9heisejd9+69eOr+778gdTHTJ+HfvCV5v4W7fzANz+T+rTxqe/+vBGPM6/qdrO2C+5768Hhhx7YWnrs0/dKLB5L2F6KB+jXu+X7gsx8uPeLf3108FZ+ZNcFxON/fM/u98eWwX1v/tDnjrXvRSweS9heiwes4j37ZtysavCuGve9+bPKvmfxWML2QzyMMWYKWDyWMIuHMcYcxeKxhFk8jDHmKBaPJcziYYwxR7F4LGEWD2OMOYrFYwmzeBhjzFEsHkuYxcMYY45i8VjCLB7GGHMUi8cS9qunnzXGGLPJlGxQ8bDZbDbbNM3iYbPZbLalzeJhs9lstqXN4mGz2Wy2pc3isYZ27bXXLm6//fbNLVtmP/jBDxYf+9jHNrds0T7/+c8vnnrqqc0t27qaxWMNzeKxu3GO3vGOd2xu2aKdd955Fg+bxWMdzeKxu1k86mbxsGEWjzU0i8fuZvGom8XDhlk81tAsHrubxaNuFg8bZvFYQ7N47G4Wj7pZPGyYxWMNzeKxu1k86mbxsGEWjzU0i8fuZvGom8XDhlk81tAsHrubxaNuFg8bZvFYQ7N47G4Wj7pZPGyYxWMN7YorrrB47GIWj7rxy3uLh83isSb2m9/8ZnHbbbctLr/88sU555yzuPvuuzdzbJlZPOr2la98ZfHJT35yceDAgcUDDzywmWpbN7N4zNzuu+++xde//vXmavHKK69c3HHHHZs5tjazeLTb4cOHFzfccMPi7//+7xef+cxnFtdff/3ikUce2cy1rYNZPGZojz/+eDOwL7roosUll1yy+NGPfrR44oknNnNtXczi0d0efvjhRjw+/elPN/2Nl0oeOXJkM9c2V7N4zMTishRLCt/85jcXDz744GaubVmzePSz+++/v+l7559//uJzn/vc4ic/+YkvXGZqFo+JG8tS1113nZelVmwWj2O3n//854uvfe1ri49//OPNRc3NN9+8ePrppzdzbVM3i8cEzctSe28Wj9Xaz372s8XVV1/dPKxx1VVXNU/7MVu2TdcsHhMxBtqtt97qZal9MovH3tizzz7b9GMeF//oRz/anOe77rprM9c2JbN4jNzKZSmu4Gx7bxaPvTd+K3LjjTcuvvCFLzQXRDwVeO+9927m2sZuFo8R2mOPPbZjWerJJ5/czLXth1k89tdYiqWff/azn11ccMEFi29/+9ueWY/cLB4jsXJZih9gefAMZxaP4ezRRx9dfO9731tcfPHFDXw+dOjQZq5tLGbxGNi0LMX6r5elxmMWj3HYQw891MxCLrzwwmZW8sMf/rCZpdiGN4vHAMay1Pe///1mWerSSy/1stQIzeIxPuN+yDe+8Y1mZs59kp/+9Kd+x9aAZvHYJ9Oy1Je+9CUvS03ALB7jNp7Q+upXv9rM2L/85S83Y+uZZ57ZzLXth1k89ti4WvKy1PTM4jEN46KMH8by2xF+Q8JvSRhjv/3tbzc9bHtlFo89MC9LTd8sHtMzfr3Or9h56IRH2/l1u98evXdm8ViR/frXv96xLMXNPts0zeIxbeNijfdqff7zn2/es8WPannvlm11ZvE4RvOy1DzN4jEf4w2/vOmXVQDe/Pud73yneROw7djM4tHDymWpH//4x16WmplZPOZp/M+R7373u83/IOF/kfBjXP43iW15s3h0NC9LrZdZPOZv/BdExvGnPvWpxWWXXdZcBP7iF7/YzLXtZhaPXSwuS/FEh5el1sMsHutl99xzTzPOP/GJTzQXiDfddNPiV7/61WauLTOLR2JalmJq62Wp9TSLx/rawYMHF9dcc83i3HPPbe5j8k/WWHmwbTeLx6bROW655ZbmquO8887zstSam8XDRkxAOBAQhARBufPOOzdzbWsvHixL8Ty4l6Vs0Swetmi//OUvm6UsLi5Z2mKJi6Wudba1FQ+euOCxPS1L+R05tmgWD1vNuKlOzOAmOzfb+Q3JOv6ifW3Fg8DA/8qw2TKzeNi6GD9EpJ9wn2TdbK3FgymozZaZxcPWxbgHYvFYM7N42NrM4mHrYhaPNTSLh63NLB62LmbxWEOzeNjazOJh62IWjzU0i4etzSweti5m8Zi5Za9izsTDr2xeT+MZ/rLtLR62zMp+UhOPdYglayEeNC7/PD9aKR68spk0/trWy771rW/taPtMPOhDZ5111uaWbd1MQhFjSSYe5JNG3pxtLcRDjRkbnW2Jh4Tjgx/8YHMVals/o+3pAxKQUjyyPmRbPyv7QSke69RP1uaeR9mofEY8LBw2jLaPAhLFY50Cgm13i/0hise69ZO1umEeG5e/f/u3f9v8tXDYsCggH/rQh7b1lXUJCLZupn6hfhL7y7rYWokHpkYXFg5btCggwsJhy6yMJevWT9ZOPDA1+gc+8AELh22HRQGxcNjaTLFkHfvJWooHxlqlhcNWM/rGzTffvLlls9Vt7k9V1WxtxcNms9ls/c3iYbPZbLalzeJhs9lstqXN4mGz2Wy2pc3iYbPZbLalzeJhs9lstqXN4mGz2Wy2pc3iYbPZbLalzeJhs9lstqXN4mGz2Wy2pc3iYbPZbLalLReP3/5msXj2l2aM/OaZzUYaqWV1NsPz66c3G2gERl2yOprhWfz2aBt1sLp4PPOkGSNjF4+szmZ4xiYeWR3N8Fg8ZozFw/TB4mG6YPGYMRYP0weLh+mCxWPGWDxMHywepgsWjxlj8TB9sHiYLlg8ZozFw/TB4mG6YPGYMRYP0weLh+mCxWPGWDxMHywepgsWjxlj8TB9sHiYLlg8ZozFw/TB4mG6YPGYMRYP0weLh+mCxWPGWDxMHywepgsWjxlj8TB9sHiYLgwhHs/cd2OablaMxeOYeNnZBxYvff91i/dcfXOaP1smIh6/PnJfQ5Y3dX575OHFkxeev3jqc5c2nzOfwdlv8bj37165uPkPjl888ePL03z49X13LZ750fcbsvwh+OVXrlgcOeP0hmdvuyn1GR0Wj2PiteddvzjuLZctnnvaF9P82TIR8Tj4Fy9e3HHaCxa/vONAmg+MVeLIZMbsJo+d+a7Fw694RcPj7/+b1Gdw9lM8HrrobYufvua4hkw8aGCCs04aPPK61zWBu/RVII/8YuMk91HqLv5PXnD+Vp2e+eH3Up+ucLxViyOCuyPd4nFM3HDnA414wCU33Jn6zJIJiAcXocSRm17/nFQ8iCWPnnrqtljCdjl2FXOyWPKrjbizTCzBN/PvM94PnfqHW/U+cvqfpT57RRpLMvZLPFiqknAcvuaDqQ8nKTZ2pGz0zEcgOF2uNPA5/Kdv7SQGqxQPxFBlZfl9oH50+m0Nb/E4Zl74l1c34sESVpY/S0YuHo9/+4KtWJIJB8H6kdedsjXGIsSGGOAZy5mfQHC6BFPKycRJeSqvzKvBPsRDZiBdYtkq4bhPnHt2KoTb2C/xYIpJY/M3ywcqyxRNDfDUZZdunXSCY/RVOgpNXhM8g/jQkNG/hPVE+WYNXrJK8YhlZfl9UJkMDmZfTbrF45jhfodmHwcfPJT6lDBjOeOLP1m8/JwDDXwmLfMdJSMXj1vffEITS+7/eH2ME3CJJQr8fM7GL5+VTvxQLDn81j/ZSieAy7+EmMUsRb5ZbNiL8b6XKI4SS54+cF3q07Af4hFnHW33OkqouE46QhLzlM4XjelRQDLFpnGZbciHjlEqLNsoLycPHzrHEx85e2uf2EHwZXrLVb/8Kb9UbuqiKXGcTitNyD/u99hZZ24rG+HL/OJ3p6xnf3bbZiON1IrvMEYOP/bYlnh0uXGu+yQZz3vnFdMQkRGLR5x1LHOzPM72a+JBkI/7xKWjmC6ITxqXQIyIY15juut4L/NEuWyv+6/EROIM5RIXEEpiRVOXjfS4D/Bdla99MnHAL3539iljZMN+iMehL5zZNDbrk1l+BsFQQZ6rgLLy+mKleLQFeZ1o4OTUVFXHrRHLjQG7hE6jesdO2obKhdjhSxC06CvoUHHK/uRnPrPZUCO0pP5jhCUrBf8sX5x74PYtoTj+bV9cvOniGxanf/HHW0tfJ27sjxhl+46KEYuH7nW0rWCUEEsU5Mt4EcdlKR5xbMd0xvS2ILwRn2JMEMpvo4t/WS/NZKJwQRQpiKLTFkvK8oWOAxyLi+RtPvshHss2OAq6daWdCAfoS8XOgF88gXG/mF5eIUTiSUZg2IaoxLGj8Jk8TjSfIXY6zZj4TvhALEtpQuVSP50DxACho+yaOEbYNz6t8dhf/uVmY43MkrqPEW6WSxTaZg4IhfwQjpjHktdklq5GLB5a/ubhm5heIwpHtsrAGNI4ieMv7sd4zdIZl3GfEo3pLuM9+kNcZsv8lMd30hKb6lPuF78jvool8Ri1+zqkx3jGPlv5+yEeyza4vhQnoxbk9WVoSE3vlAYE2cy/dsUu4omKwTk2Si1oc6J5oiLeT8nWS2tXNJF4v6ecISm97FQRztuRPz+j8Tvy53++2Vgjs6TeY4WZBKLAslSWD9fcfM+WeMCL3n3N9O53wIjFg9WLZWJJXL3I8mNg5QKTOFKuPMQl8+ifLQ1ldBnvJfE45TiPsYhxrm3FvHK/mkjwWelxllKCnwST77KVN0bx4CRQyVIAIvrSGdl+pCmfTlITgDhDiemxweK+TeNtiEXcL7LtZG/SpTPFBq+RCRMgNmpseOoLX9hsrJFZUvexwkwCQdjtNx/MUlieiiICLHlN5nHfEYsHcQS63jtlrEEtOMYgnVEG7uaiLIxfxIbZSPQp6TLeS7qKR9yWX7lfPH6N8hiCh2/iTGvbeRyjeHRBX1pLRkDQjMpaQoPEKSSzkHJmoykgxHTKV3oUj3iVQsDnKiU2PA0Xy4EunSmKHXVin5JyQPDd4wyMuj178OBmQ43QQt3HDrMHCQH3NjKfCELBLEUzFjGJX6uPWDz0pBX3UWN6X8qxGmNJGRsiRy/Qwr3FjQvImj/lyq+tzMheiYdiR0kZSxDEGNvw2RFb90M8eKSOBu96z0M3ttuWmOKXyvJr0HgxMKOq8aRQnvKiSMR9lB4bOM52OIbSs/rFY9TELi5blZ0nI842ttZi/ajuSunymw+Wrsq0eC/kpPe3PPo4FkYsHstciDIOdTFVW2JqC9K7Qfnx3iKrD9l4jqsIjNMyP2OV4rHs8WP5xJLqPvshHvwokAbntSRZfiSetLYvq/xlxUM0yro5y5AYAAqssgnGXFHEp7Sif6wrKs39DqZ5cQkrq19sHPbjKYanD3x9WwenY8YrG/L0K1U+R7GKZXK8rQ5s8Vgp8Wmq7DcfEgneh/Xea25eXLshJMBvPbRf2z2T0TBi8dCFKK8liekZcZxBtrzUFqS7QozSikaMJSJeCDLeiRHleC9pq1f8XnFbfuV+xAOlKaYRR6gDF+jlrEMXt9kDBtvYD/HgeWwaHGq/Lhc0sL4o7JV4CE5w2eBx6UrEQB79a77qTFn9SmGIxCsXzkXND2LD0kHjjb0Gi8dKib/5QCjKPM1MarCE5d95LGmFePCLcsWS3V6wGoM2ZLOCVYgHMBa5oMvEg7wsTkDmD231Ylt5cVt+2X7xorgEQZEfMFPpMkPZF/EAXTHc+pYT0/wIX5qgW15dR8jfzacvNLbqAHwmTdvxCoZ0TnbpS8dlu1Y/OjJ52k++ZQePZbX5pVg8Vo5+BFj7zYfudcSb5ogKN9wn8RsPGLF4gJau7n7PyTvyInFs7riw2oSxrHFVXoGvEuoSYwowjrPZELTVi23lxW351fbLYg7npVMsydgv8WD2ocfs2l4rYFaIxWPlxN98ZPc3ZsHIxaPLe/LMPrBf4gE8XqdG5zUDmY9ZIRaPPUGzikncv+jDyMUDdB/VsWRA9lM8gEZn2jnXf+IyKiwee0L8zcdklqKWYQLiATyuy9srHEsGYr/Fw+wjFg/Th4mIhxkYi8eMsXiYPlg8TBcsHjPG4mH6YPEwXbB4zBiLh+mDxcN0weIxYywepg8WD9MFi8eMsXiYPlg8TBcsHjPG4mH6YPEwXbB4zBiLh+mDxcN0weIxYywepg8WD9MFi8eMsXiYPlg8TBcsHjPG4mH6YPEwXRhSPG64/sDijLeftsWlF1+Y+pmeTFw8rrny8qZfHH7I7y7aVyYoHuorgtiS+ZkVMpR4/PEb37A47rjjGo4//jlbn1/0whfsCBZ0hnPP3ptXL6vTHbyt/R/LTJKJiwd9gT7xnnev5v9Vm45MSDyIFS896cVpLHn57568LZYwxhnrjPlYxqogRlF+ljdLhhCPN/3RqU3jvvbVr9zWuAQJ0ukM0Z+0k17S7f+fL8vpb39bU/5edahBmbB4cOVIuwAikvmYPWJC4iHhiBcYxBTFGP4qnTFOGmNeaauEGEX5Wd4sGUI8CAZcIWR5avQ47WR7N/HoOnOgY0Vfi8eAltV5Ey4sNNDL/tDGLGeQ+82ExKMtNrzwBc9v8rXdVTy69iH84sWvxaNuKxOPE084YfHc5x6f5tHANC4No8aIxIbHh6lpzC+nqkA6oiRfylVQKon7TZ4Jiwf942Un/07TlrQLYlL6KBjQtnEZFOLyAeWQVgrQJRddsLV/TF97JiYetZkp7atYon4RibGEvhGXv+CU17xqWyyJ/U1LqpSRxZLdLnZnwZDLVmXjlNCgajCuIvhMRyCP/QgwzGBYa5To4Ft2JtLwRbTwwZ9y2EdXuEx72Y77TZ6JigftQ5sw+Nkm+GcXG+obwGBlP9AVp9qzJhJq+66zmrVhQuKhC0wuFtpiCX1By+K0O9uKJbQ//Yt+Q18hTzEq9pnY3/Allqgc/sZ+txZ9agjxoJF1NQjMCD56zoeqjY9PqeQ0Mmk0VExXo6tjANsIR1a+BKcsZxZMVDy4AozLmhIT/kY/2qzWN0inbZVGec878cRtfgoYMc1sMCHxYJwraNOeXJDWntpUf4n9AuhX9KEy4Ktcbdf6myA9+s+eIcRDMMijiND42dMKbQ1WkolB2/4WjwEtqTPBgPYol6kI/uWDFLVgAKTTt7RdzjL4y7af5EqYkHiIOOMELhSIL9Gnrb9klGKw2/4Wj7qtXDwEMwIan9kBJ5+rh5hPWhb8CTT40lHwiVg8NpigeKg9yqtABf84o9xNPGKbSyy0DJHNUM0mExQPQXtyQcDFRtk32voLeayAcAGLTyT61PYHi0fd9kw8ImqAGDzYLoM/nUTLDggPDQsKMnxu218oWEX/2TBB8cguBCJdgwHpZZtzcaKlK/56yarChMVDcEGqi1EtV9f6iy4sylhSW7ayeGyy3+JBQ7H8QCNl+QrmccrJdhkI5FdeoSqdhlZatr/I/GfDxMRDg5PlJtqlJAb/6E9eLAeyNtdsQ/dEvGRVYSLiQQwhltTGrtpb+bX+oqXz8p5oKQZt/Q0sHnVbiXgwY+AE80RUdgO768whW8YAPY672/6CjlD6z4aJiUetTUXZVm2DOWtz9T0tTdSOs/ZMRDzU/oz5LF+P02pbM4yyv9SCvmbB2m7rb2DxqNtKxAP0yByNw1NW1151eQP3L0gvBz3TRwY8T1FopqGrRzoI6RCf045ikJUpVBd+J0AdMp/JMiHx4EKCdmhbSlLwR2TYXlY8QEsR8Wa6KZiIeIAuOBj7iiUxFqivCNKIO/jp4kEXJYgQ6ZQj4QH57SYeqst7/+qs+cWSjKHueRD8NZAFN7lomHJGIqGAGBDU6DFPYhAbuNwvwrFiPTKfyTIh8WAJgvNfW84UaivarY94qH/sdpy1ZkLiAbSp7m8IxZLSN8aMmK/AL9iOy5z47CYeXNjqRj1kPrNi6BvmCgK7LSHIrxQWqKUvAw1f3j+ZPBO8Yb7XKHgca3+ZNRMTD0EM6RIL5Jfl1dKXgTJ2i2ezYGjxMHuIxWMbBBWWLLxktQsTFQ+zz1g8ZozFo4GrQH58qnXwVVxdzhqLh+mCxWPGWDwaEAtEg/Vo3+vogMXDdMHiMWMsHqYPFg/TBYvHjLF4mD5YPEwXLB4zxuJh+mDxMF2weMwYi4fpg8XDdMHiMWPWRDx0Q7z2460IP/jiF8BZntnE4mG6YPGYMRaPHfCr8/JHgvw4dC1eJ9EVi4fpgsVjxlg8doBv+biuBCWmrTUWD9MFi8eMsXh0wuJRYPEwXRhKPFh71iuPgTfqckXIr4D1jin+ss2Lz7I37ipfZVBeuZ4tn+zHYaTrP8sBn0mjbvGtmhx7ku9CmpB4IACce/7GdNqe9PL88wZUtZ3Eg23ejqxXrtMf9FI7oTbms/qb/PmsPKF6qS/wWf1TUDd+wa5y+Eufie83Uj+kPPVlyOoof/17Afll/6IZsmNn/RU/jbk2v6mJB2M+fi++p9pWPvH8qz3jxUY55vlctovKKNtf6THG0M+AtFg3+uckY0nGEOKhwa43X4Ku/oD86MdJ562ZvOlSDU4e6SqDIKM3riqoxDJiRxGkRzFSHSiTMthH/ygmdsTJMCHxYECVbQcaeHEgE5Sjr9oYaEPaDfSG0xjE1cbaDz+9kVX7yZdjkk6/on+pTPpdDADUAz/6J37aJgDJL6sjfqoj+SqPYKQ+T3kEIPXDWD+QEJGvY1Mm5y3WMfNjO+3XExIPzg3fg3Ol9uMz5490+en8x1iiPqUyYjsrlkRBUBmxrWJ6bBvaOManWCbHjvtPliHEQ8pfKrgGthpHjcJJL9WawUHDlOkqQwEja1hBOv7aLo8vNHDL9NEzsWUr2pl21Tb9g/NOO8cBp8Gu/qM2jm0Z/QgISlMbR78sDRRoYprqFPtTdmzySVeAUh3pS9FP5cUgznclLYoeUJd4fmplSvT0veWHYEQ/1XFHv56QeGRxgM+cK76b0mrnCl+1c1YGeUpXGeX5UnrsE/QH6hXbkHLU18q2nSRDiEfWiFB25qxRQAOuHAyggaN9amUA6XHQ14IIDV0rY9RMTDzU/hpYtC8DmL8MYvkRXBmY2q61cW1Ql22cpZUBOILIxX5DXcor/ZK2fqgr0jK9pKynZg9ZIOI4Eq6aGFX79UTEQ+c0iwPluZIvf6OfLjDiDKPMKy8AyjKUXvaz2EdEW7+aHPstHtmVmyAtNk7WKLBbA5CnhquVUfpB2eEipe8kmJh4qG9oILPsQ2BQugYxgTrORGptXBvUpEW/LE19kTowK4ggZNFfQQbIZw2+DNRt/VDHivvwmaWmeDwhn7b+GpFf/A6C9HguGyYiHooDWeAvz43OP3+jn859mQ5lm9XKKP2A40P0g8x3suy3eLSdvLIha76IBukKJiXkqeHajhf9oOxwkdJ3EkxMPEBLVLoqVhtrBqL0GDBqbZylZ22cpakvapaREf2pF/2SdPYDbo4qv60f6liIJNv81VIKZbIvlDMUHUvbNeSnepfsuHKfmHhkcYDvFc+Nzj9/o5/OfZkO2kdtViuj9AOd2+gHbRfPk2OoZasdVzsblA2ZNUpbepbX5kt6bOCywwmWI0jP6jxqJigenGNmFgTNuDRFgCNdV/lxiWiZfpK1cZa22wVKG9SN78H+Erm2flgeX9vlMljpp2O0LZdB9v1amYh4LHNO5cvf6NfWzhInfNhWGaVvVg+OD9EP2uo8OYYQj/JGlNBgUAPXTjT7aZ05poPKiA3MNunRT1ewsYHV4cp6cXzSs+nxqJmgeGjA0j9im+mKjWUkrsDjPrV+UhvUpEW/LE39g6WdmK489RGJWdk3ymNru7zKpxzNMpTG98v6Nmmxnjq2gpugzHgsBcjSDzTb2cZExKMtDtBP4rnS+edv9GtrZy3r4cN21p9AfbbsZ23xKT3vU2MI8VCnp4F5LQTwbDZpoAauNRZoQNDA7E8Ds9ZMWhQE0HT/o+d8qPG99OILtzpX9FUQUb1UZjm4J8MExUOBD8orPNqA9LI/1PpJlp4JBfmk0da0u9IJvqTzewv1B/pQFDYFMNLoV2zjq/6lIKG64MdxSr8oPgowLHvhQ7kKZCA/oG+rTOqnvk2dFPQ4ls6d/KiXxlx5nqciHqC24/4Q5wri72Pkp/PP37g/6HxTBucF9GhzFPuyrTmW+gO+WT+jLpTHOdf5LuPTZBlCPEADUzAIykdis8EfIZ3GjOXQEWjk6EfjlX7qdJl4KE+wL2XEMifBBMUD1A5lO9au2mr9JEtX2dGPgR37R8wr+ynQT2PdqI+Cs6C8KAiqC/uWvjFAAWWrnoL99P01Pmq+lB99gO9Y+lHH8pw1TEg8QHFD8D11wSgfnf/yvIisnct2Ado09hU+60K27GfUQW0mSKMtYpmTZSjxAE4ijalgoAbUyWVgkN92suWzmx/ITwOfzzEQaXDxOZar/MkxUfGgHTOxVn8p02v9JEun3KwMld1WfllWicoG9TFBGn1LAUa+XcqTj+pYlh19ocyLxO+ZldMwMfEAfS+dqziWQW1Y/c4byGcZP6XxWccGjg98Vt1oI+XPgiHEg5Mfr8qUxhohSh7T95Oyw02eiYrHHCF4RPEYNRMSD4lmTCNYs5TEjCSm7ydRPGbLEOLBAGIgsa7ImiHrsFr73bH+uo9YPPbZsjrPFItHT9tFPDRmuT9ELInv7xrySt/isd1WJh7AzEPrksDnIYUDLB77bFmdZ4rFo6ftIh6sWHBO430kZhxDLxFZPLbbSsXD7AMWD9OHCYmHGRCLx4yxeJg+WDxMFyweM8biYfpg8TBdsHjMGIuH6YPFw3TB4rE6uFk3qptkMxWP2T3YMDYsHoMymYcrLB6rw+KxpGV17sDUxYPXWoz6B2MWj0GxeKwhFo8lLatzB6YuHqPrJyUWj0GxeKwhFo8lLatzBywee4zFY1AsHi3wDitg6q43YPILc34lWr5Thm1+NapfoPN2UbZLP9L54WH8tTp/9RoUfoAY0ykj7i/4lareYMovVTM/jk1deQUCPnwHXonAPhaPJSypc9betEn0kXhwznlLgdqBz2W/gLJPZH4chz5Jf6EsylQeg5k2Jg34TFrcH7K6c2zlU776FuXwuXxNz279jzFDvuqEX/aq9WNiQuLBuSDIcj5iG8fzLtRfOK9qn7Jv6fzSLpx7+VKmfsRctnHtx83Rj7/lsYA+U/ZhymMfi0cCg18DlLdOcpL0a/PyhOnky09v0GTgRD/SKI9fmuLHQNXbL2kQPpNGnn6NWg46/EjnGPFY7Bf96DCkU2f8qBvHJs3isYQldS7bW0IR20BpnHM+x7aibWJ5alOVx1+2OU70U3n8pUy1oway+hWo/5T3LWp9VXUnIJEey4sihB955XeK3x1/0qgrfRrfUoCOmQmJRzwXnKfYPvG86H1X0Y9zhx+f5RfPr8a32gWIO7EMPpMe2xFq/TgeK/op5uCnflj6jo6hxIOTU3Z6Gh1R0Tb5+JVBXoMqXj2yzf4xjcFNOsSBjo8GntLUaeJABQUbOl/0ow7RT3WNZQ7OxMSDwcI5rLW32kD9p/RTurbV/mWbKhjEAc82ZIJAX4n9inrgS99QGnUhrayT+k8sl+2yn6hfxTKh1v/YP9ZppUxMPGifeH7VPvEcq2/FNgdiBsFa2/H8Rj+N72PpC5TJsbR/Lb6pf1o8EjiJnJyu6SVZR2C7bHClcwVRppfH0iAtB6Q6kxpYDavBHCE9q8NgTEw8uHBgMJfpBAbOq9q71k9qAaJEbRoH57JtV/pLZKIPqO5xaSM7VikSoqyrtnf7jsfExMQjazfGfJf2xIcytJ31DcgESZTptb4gsVDb6di1mFPWYXSMXTw4sVoHFlqHjAOI7S4NK8pjaTseR5CuhszqKGrHGoyJiUfX81drA9qI9DKw0n9YblB7aqkgDs62YxM4WP4q+0T0b9u/JPPVd4rHiMdSXRVYyu+4UmYgHqSV6cQS7kPEc6slIvm0Be7ascp0tik3HgfU7xAR/PDJymurw6gYs3jQ2FJxrsw4mSC/OIDYzhqill4eiysVjkN6hhqcz3G/SO1Yg2Hx2LqpHPuPrvL5LL/asXW1qPVvUfrX9s/IfPWd+JuhpTcFlvgdV84MxYMLAII1M1vOpdqRbcqQX1vgrh2rTGe7SyyplddWh1ExZvHQIC2fZlB6HEBsZw1RSy+PVatTidbfs7zasQZjYuKhAVeml9TaquwXutldrilng7PWdgScbNmz9CcIcaETfWpkx6p9pxLVPfb9lTND8agtS5fnPesbonasMr3mV4JPvMcr2uowKsYsHrUGr93wzBqsll4eS2WWQgVxHVo3w3T1EH1qxxqMiYlHeWNcSATUNmXbiVI8ym2h2UQX8SCdfhjT6I+lv/pqre6xv2THUv8r+xXEMhVYyu+0UmYoHnzGN/qAlpK0rfN7LOKhflw+fAGxLdVnSj/1GYtHQq0hy3QFatabOemcZNYsSYM4gNju0rCiPBblc+XLlaaex9YaKX5qYNLkd+nFFzZp5KkTZscajImJhwYu51LnmzTONedcFxFl24lSLCgjlkcb8/w/5ZHeRTxin+D4tHnW1uWxSKMeXFnGuqtM0mNarf9RX8rVd9I50vaeMOOZB7/PUizRkiaQhp/O77GIh8qgjRUjKJ84RvvqWPzFjz4jP/bN+ucoGfsNc6UJrVnyOS5HsN2lYUV2LDqU1kAjZSPix0CPPuqc2bEGY2LiAVx5l+eWZSMFZMjaDkrxAPUVQdlKizMKtrO2o6yyPuxPP2GQR9+s7vjFuoPqCbFvdel/CkzxO66cGYoHQkw/iueVbY1bnU+d33LMA+nZsbL0rC+wXc4s2Y4+oDpldRgVQ4gHgyTr/G3pnGTy6ATAZyk4sF0O0rb02rGAdISJ6WO8OoyQTj71Uvm1Yw3GBMUD1L60QdZGtbajP5Bethnpsf+QxufYVuV2RPWJbV2rw251F+xPcIh9WGh/+leZr/LL77hSJiQenIus3UjL0vFXX2BbfUbnWee31i61MrN0lUU787fWZhyLOoGOW6vDqBhCPMw+MVHxMAMzIfEwA2LxmDEWD9MHi4fpgsVjxlg8TB8sHqYLFo8ZY/EwfbB4mC5YPGaMxcP0weJhumDxmDEWD9MHi4fpgsVjxlg8TB8sHqYLFo8ZY/EwfbB4mC5YPGaMxcP0weJhujAm8Xjmh99bPHnh+YtffuWKNN8sicXD9GFNxIM488jrXrd44tyz03yzC2MSjycvOH/x8CtesThy+p+l+WZJLB6mD2siHodO/cMm3sCv77sr9TEtzFU8VBZ/s/y1wOJh+jBB8WAWsex498XqMWLxmDEWD9OHCYqHx/sADCkeuscBzecW8fjtkYcXv9q4upD/U5+7tEkrfZ750fcXTx/4+uLRU089WtYZp2/tA9n9lLJsPpc+k8TiYfowEfHQeAfG+W7jnaWpmBeJ5QL7KZ1Yw+dnb7upOaa2y/gDMR+IRaXPbBhKPH7x/r9pGjvCzaumAxTikfkC/jSo/BCgzC9Sls3+Om7k8J++Ne0ck8LiYfowEfFYdry3+cdygf1If+ysM7d8iAkSKeBz3Ec34JUf/SYfSzKGEI+nLrt068TymUY9euJPOXqyiwD/+IZ4kIYPvqDGpUHlRwMp//Bb/6TJZ1+lQRQb/NXYzHq4MiGffZp6FJ1jclg8TB+mNPNYcrzHvBiHYrmg+MJNdeKObq5TPtvlfpSnNMpVLFE5s1xOG0I8tKRUntC2ZasSGkeNleV3abQnPnJ24/PYme/akSchm/QVg8XD9GEi4hHpE6RjwC/zyvJ0Qal4oP0kTsSQ6C/wJ52YF9NnwRDioRNP48X0NvHQeiWzgXJqWJYDXTqTfJiaao1SSOCysieDxcP0weKxozzFJuVrP8UHbbPEXsYS5Wnf2TAF8eBHPNoHhccvTh2PVTyYkvI5I057J4fFw/TB4rGjPMUm5Wu/UjxYPovxI6J9Z8OQ4vH0geu2pauB4okmeJNGgGf2Ef1VTl/x0FST5assf/JYPEwfLB47yttNPHRPhIta+cyeIcRDDRNvSLM2yM3vJj2Ih25qxRvjgPCQDpl4SBhYqyzzhGYv5VNbQH0mfb8DLB6mDxMUD92/XOYhl1WKh/JZ7i7jRnnROxuGEI/YaJxs3cfInrbSzKNJ3/BjCUsiI/9MPKK44M9+7F+KiW6EAfmsUXIPhPqo40wWi4fpwwTFo4wp3HtgPEPmD6sUj+bid/OJL2KH7qPqUd9ZzkiGEA8guGuqBwRxNWYUD+DESyiAWQWiotlFJh7ArCXup31LPzpGrIv8auVOBouH6cMExQOIE+U4LmNJZJXiAQgIfjHm8JnYNsvZx1DiIZZZGuq7jMR+Xffte4xRYvEwfZioeETGMI5nFUsyhhYPs4dYPEwfZiAeZh+weMwYi4fpg8XDdMHiMWMsHqYPFg/TBYvHjLF4mD5YPEwXLB4zxuJh+mDxMF2weMwYi4fpg8XDdMHiMWMsHqYPFg/TBYvHjLF4mD5YPEwXLB4zxuJh+mDxMF2weMwYi4fpg8XDdMHiMWMsHqYPFg/TBYvHjLF4mD5YPEwXLB7L8+mf/2LxmZ8/keaNCouH6YPFY1946IknmzhyzYMTiCUZFo/l+b3vPt6Q5Y0Ki4fpg8VjX/jpo080ceSMm36R5o8ei8fyWDxWZFmdzfBYPPYFi4fFY7xYPEwfLB77gsVjDcRDjdwGPtm+g2LxMH2weOwZ3C/N4kdklLEkw+KxOxaPPbKszmZ4LB57hsUjmpetxovFw/TB4rEv6KLUy1YT5fBjjy1e+v7rFse95bLF8955xeKGOx9I/SIWjxVZVmczPBaPXhx88FATQ4glxBRiS+YnLB4TF4/3XH1z09jiZWcfSP0iFo8VWVZnMzwWj1689rzrt8WS07/449RPWDwmLh40cGzwkzauGDK/COuWkOWNCouH6YPFoxfEjhhL3nTxDamf4EeCxBH/SHCisEx1/Nu+uNXg5x64PfWbJBYP0weLRy8uueHObeJxzc33pH6zwTfMj65V0vBd7ndMCouH6YPFozfEEC5AiSlZ/qyweMwYi4fpg8XDdMHiMWMsHqYPFg/TBYvHjLF4mD5YPEwXLB4zxuJh+mDxMF2weMwYi4fpg8XDdMHiMWMsHqYPFg/TBYvHjLF4mD5YPEwXLB4zxuJh+mDxMF2weMwYi4fpg8XDdMHiMWMsHqYPFg/TBYvHjLF4mD5YPEwXLB4zxuJh+mDxMF2weMwYi4fpg8XDdGFo8bjmyssXZ7z9tMUfv/ENzd8brt/9nzGZjlg8TB8mKh4fPedDTQw55TWvav4evO3G1M+siKHE4/BD9y1e9MIXLI477riG449/ztZnGj/bxyyJxcP0YWLiwQXn8048cSt+RN77V2el+5gVMJR4vPSkFzeNe/rb39YICWlcKbz21a9s0t/0R6fu2McsicXD9GFC4kHseO5zj29ixnvefeZWOrHkhS94/o50s0KGEI9zz/5gq0Cc9JKjwtI27eRqQ6LTxrVXXd57+sq+XY6BzyiX2ywepg8TEg8uPokVxJQyj3HJigbiUuZFuo7zrn4l7MO+WV4JsWoyS/dDiMfLTv6dVnG45KILdlwxIChAJ9GVBrD0lZXDPRT5ADOdLo1CWZoVte0rgYvHifmjwOJh+jAh8WC56sQTTkjzQOJCTFEa24xf7ovEWPLy3z15hziwzTK6fGp+GcSMuDQPlFXuSzr1iceJ+aNlCPHg5LQ1OAFcJ1RpfKahuZJAQLjRzswFP5a64v40Lul0HPzwZz86WvQroVF1DO3LX129xEaXeJBHPfCLZY0Ci4fpw4TEo4wTJYxhxQKlsQ0saymW6IK2HMcEf8Y4F7KKB/iVMacE4ajFK8qMvqoPMZHyRxlLMoYSj7YGh9JHwbqcAWhdU9tZZwEakHT+xvSIGrf0UZmxw9TqMyosHqYPExEPjcva8jdkPmwT1GszAG0jGKTFWQtIQNrGvsSo9NG+McawndVn9ExNPKJPlq4b7uVSFg1Depuqt02BEak4c6nVZ1RYPEwfJiYebWNaPgRzpbGdxR/SmC3EbYJ69AGV2XYhWjuG4lDMq/mOnrmJh7ZrtB23Lb92nOgzOiwepg8TEQ+u6hmDURhKMoGpjfNyTCMkbNeoidZuosYFaly6wrcWd0bNEOLByeOEZXmgk58tE0W/LF3bNFxGn6sFqB0n+owOi4fpw0TEA9rGLGQP39T2Kcc0n+N9iBLiVNxf7CYerGCwkqHtWn1GzxDioXsL5Vqi4KSTHwN9LViX6bs9ydUGHaV2U530OIWt1WdUWDxMHyYkHruNdy1jx3sPbGfBuhzTBPi4jNWVbGmqzOuyjDZ6hhAPPU3F1K28SUQj02AE8phXC9ZlOoLDdnYTjdcXlGkRiVp5RbHMTGhUWDxMHyYkHppZ8IRlmadxWwbmLA3KMZ1dxIpLL75wR1pEZXW9YZ7VZ/QMIR6gIM8VPc9b0xj8ZkKPt5WzkrJh29KVRofixzmgx3drsx1ArDg2daBO7KdnwcunIWr1GRUWD9OHCYkHaHbB77F4HQkXifr9FeO2nJWQngXrckwz3rXETnnEA+KUfgfWtrqBaCiWUB/2VZ3ikhXU6jN6hhIPIJDrUVvBSSzVGmrBOkun0dWhBJ2gTTgEHUJlCqaYZUep1WdUWDxMHyYmHsA9DQV6QQzIAjx5jN8yvRZLtDQmiFm1+x0R4lgZS6hTvAgF0rP6jJ4hxSOSCcYqoNyysbrSpYOMGouH6cMExUMw1vcqlhAP+sSSvazToIxFPMweYPEwfZiweJh9xOIxYywepg8WD9MFi8eMsXiYPlg8TBcsHjPG4mH6YPEwXbB4zBiLh+mDxcN0weIxYywepg8WD9MFi8eMsXiYPlg8TBcsHjPG4mH6YPEwXbB4zBiLh+mDxcN0weIxYywepg8WD9MFi8eMsXiYPlg8TBeGEA9eAga8WZe36uqlYbz5lvfA8ALDmM5bLLMXnPG2yujHK97Llx/qFci8OE2+8Z+0ZMeazXtoLB6mDxMSD8YsLxvU2681jnmDLfm8ZTemK8aU5ZT7Z3FAsYR3XClmxPfflWWc8ppX9XoX1mQYSjw4ybwFkwYhsOvtkwgArzLmf2uQHl+3HMtQQ0qE4ls1o4DIj+PxNky21eB6LXwsQ69RnkWjWzxMHyYmHsDYZvyC3tRNgGc8K8bo7bjl//ohyJNOPnEAf8WBKCAxluDLti5q9b+ASCf+aLuMW7NiKPGgccoAreBPA8Z0Nbq2aTC2KSf6UR7l0mmUpganjNKXTlCWgbDgz34xfZJYPEwfJiYexI2YxtgmHcrZA74xPmi8l/GB/UiPwV+xBCHKfEtRwo/0cjVkNgy5bJWlc7LLdDWaZgxtjSLFl2+5r9CsIysDAcrqNzksHqYPExOPbKwiEqWoQBljtLKRLYsrTxe5tViimFMKlURsFheiGVMUj7YGRwxig9UaXOksk3F1EWFGQnr0nyQWD9OHGYhH1xhTizlQxo5aLFEZZRwB0rN6zIIpioeWsXRFEMGHPPZhu9bgSueqgc8Z0X+SWDxMHyweDcSAGDvKbaEyYuyIlMvws2GK4lFu9/FtK2M2WDxMH9ZIPNouRLUcpRWOWsxoK2PWTFE8dIOK5avSV09YaLvW4CqDR/diOtBZZtERLB6mD2skHrr3SZyIfox/lq95cktptVhSKwNmfXE6RfEAqT3PcyME1151+dYaY3waotbgoDIQEPanHD2rnXWEyWHxMH1YI/EAPdrLb0KIE8QC7nmWcaMtlqgM4ofiEZ9J89NWIxMP0LRSMOMoH6Nra3AoywDSMt/JYfEwfVgz8WCWoXTBk1pl0G+LJZShi1GRxaNZMYR4rBIajcasiUMXYhl8znwmicXD9GFC4rFKWK4+1liyijImw9TFw7Rg8TB9WFPxMEti8ZgxFg/TB4uH6YLFY8ZYPEwfLB6mCxaPGWPxMH2weJguWDxmjMXD9MHiYbpg8ZgxFg/TB4uH6YLFY8ZYPEwfLB6mC2MWD35ok/3Qx3TE4mH6MEPxcCzZAyweewM/NuQVBdlr4/cNi4fpg8VjVBBDiCWj+wGzxWNv4Bem1H/Qd2RZPEwfLB6jYrdXLA2GxWNvsHh0sKzOZngsHqPC4lHAmyf5x/O8wZYTwxtxy5OjBiddb7nkleu8STf6AVO7WB7+vNUyTvU4JsfhFcqUofKVz1s1dRzKobxs2Wm3urMd68s2+yifOnF88lTX8iVsvJxR+8lPx2B/vlvcv/yuDRYP04eJiQfjgjdjMxYYk3yO4w3IY6wzzuK4YcxHP2BflSe/j57zoR0+Gvfy1YViOT75S7zYMT43aKu7jhHrm8WSMu7FWATEEsol7qks5SluxmOU37XKEOLBl+fL8tZJTjjolcYxiLItP05A9FNDASew9NMbLuMbcjmpsUw6k/L5Sx7/I4T92caHkxobnZNdq7v+Yxhp+le5HINtiRBl0UCqG3n4xP1BaRyL8tlWpyn3j6+W1/4NFg/ThwmJB/GCvs9bcBkLwGfSYpDVWIoxQn4x2Co2xfI0FuMbcmMswRcfjV+NT8USxQICv/aH3epOzIjHV3mKJVksyr6T9gc+A+nEIuJbPCfy5bP2rzKEeHASqWBsXL4IX5wvozR94dKPL6sTADQqflF4QEFd22pwjlMKAukEYaUBnYH0GNQVqGOdgGPRkNrWscpGYJv0rK7xu6sRy1c6c1zSaeyYrnqpYzVYPEwfJiQeCt5xPCtGxPHM2CAtG/cEZaUp0MdxxD4cA1FQmsZ3jEMxvRyfbJMe4wbjvVb3WK5iRhQEyGKR9o9CpVhSxhzFtzKdOsVYVmW/xSNrMMGX4YvqZOJXNg7oZJTpJeVJrwX0GqU/9WK7FBlQ3dXpasdSh4lpUNa19h0lHuUsg+Oyb+yIFg/Ti4mIR9t4JliX4pHFklp6STke246doVmGxnftIhAoM9apjA3QFoskgNquxRKJB0tsMZ26xWNV2W/xWOak45c1bHYyOJmcBBRX00ahE7HbsVnrIyhrZiTkv0zda76koeocI6I6q661Bgd1DsphvZJ6bxMNYfEwfZiIeGjFQWOmDfyyWJKlcyHGuGJccrGHj5BPWyxgLDImNbbj/qpr7ao/g2PEfUHHp346jlCdNSOpxRLqqTz24TtfevGFO/yqzEE8OAkEUqZrKDmdiuMoyOqktx2bE0ce+5CPrzqn/Jepe82XNE1LM+hU+PEZ37hvhPKpK7MY/Pj+2ncLi4fpw0TEg7FF32csZPkR/BhTu6UTcBlLjCvKZ0xRfm0JvBzfxCIuBBnjjE/FolLolql75qvjU0/FjpLdxEMgYGUs6VKvfRcPTdfKk56BH1+8TC9PRraeCOVJ1wkvj606lVPI0l9LbtlUs6R2LNKy71SyW4NHqJc6t5bNGiwepg8TEQ9dvROYs/xIbdyV6Xwm8Jcz+XI81sZ3bUYhf/7G7XL/DHzivlCLWRnLxBKOwfdHQLL8bQxxw5zKMU0q0zVTUMPxOWvw8mTUTg5LUKTv1mBajyyv3JUe/VHnrO4SMNW9dizVdVuQ3ySm1b6TOtJuQtlg8TB9mIh46GKOpZoyj6t/xqq28ctiSZnOPvHGuNBSkLZr4zsdhxuUMw/iBNtZ3UkjRmq7VqbiaCl0bMe0WiyppZdxuMoQ4qETyVIRQZBK8rw1aVRcfmxnDV5+6bI8fsov4QCd9FqDS8XpNKz54ceaJepb+utYlF/WPdZVZeIXG1N1oNG1vsggwI/jya/WsNqfunIM0virqbL2b7B4mD5MRDxAF238bopxRP/Xb7jiuGU7iyVlup5g4v4p44oxSjAnDeRXiyWaeTAeiUOUQVnaP86SsrrLN5ari1j88NEYVyyifmUsiMJZiyWqK7FHF658L+JQFK8qQ4gH6MRFaLgY/EjLGrw8GeyjNMEyjjqCZhS1BgedSMHJw4/P5RMNSo+UdYdYJ46tdI5F+XF/tuNUt9bgUNtf33MLi4fpw4TEgzGXxZJyjJOWxZIynfK0BCwY24olCtJtsaSsD4FcMYO8Nt/MhzpRhvJjLEFAyliAr+oJbbEki2Xl/lWGEg/gpHAiQMoXIT37EqTFE1imax+Vr7LL7RLSyQd8SYvlRXaruyjLy/KgzKt9x0jcPyvf4mF6MSHxENnYjZCejeO29Jin8lW2xn+XWKK0WF4k+tbK43hcXOJTfj/VpVY+aeSV6SLu3+a3gyHFw+wxFg/ThwmKhxkAi8eMsXiYPlg8TBcsHjPG4mH6YPEwXbB4zBiLh+mDxcN0weIxYywepg8WD9MFi8eMsXiYPlg8TBcsHjPG4mH6YPEwXbB4zBiLh+mDxcN0weIxYywepg8WD9MFi8eMsXiYPlg8TBcsHjPG4mH6YPEwXbB4zBiLh+mDxcN0weIxYywepg8WD9MFi8eMsXiYPlg8TBcsHjPG4mH6YPEwXbB4zBiLh+mDxcN0weIxYywepg8WD9MFi8dOfn3kvsUdp71gce8HX5XmTwaLh+mDxWNl/PKOA4tb33Li4vA1xb+IngMWj53Q4D99zXEN9398+/8TnhQWD9MHi8fKQDQUSx7/9gWpz2SxeOTERkdMMp/RY/EwfbB4rBQuQIkjN//B8c2qRuYzSSwedQ7+xYubRmcJK8sfPRYP0weLx8q59c0nNLHk3r97ZZo/SSwedZ6578Zpzz4sHqYPFo+VE1cyZjP7sHi0c8dpz28afJL3Piwepg8Wjz1B4jGbm+cWj3a0XskSVpY/aiwepg8Wjz1By+CTfggnYvFo56GL3tY0OI/bZfmjxuJh+mDx2BO43zHZC9EMi0c7ca0yyx81Fg/TB4vHnqALUYuHbF1mHm8+Ic0fNRYP0weLx55g8ShtTcTD9zz2wLI6m+GxeOwJuudBTMnyJ4fFox0/bbWHltXZDI/FY0+46fXPaWKJn7aSzVg8/DuPPbaszmZ4LB4rh1eTKJb4dx6yGYvH3f/f7zSNPdk1SouH6YPFY+VoBcO/MI82U/GIVwp+t9UeWVZnMzwWj5Wi+6YsW/ndVtFmKB6IBS8xo8En/YMei4fpg8VjZcRH/f1W3dJmKB5H/5/H86c/xbR4mD5YPFYGF6LEktncJI9YPGaMxcP0weJhumDxmDEWD9MHi4fpgsVjxlg8TB8sHqYLFo8ZY/EwfbB4mC5YPGaMxcP0weJhumDxmDEWD9MHi4fpgsVjxlg8TB8sHqYLFo8ZY/EwfbB4mC5YPGaMxcP0weJhumDxmDEWD9MHi4fpgsVjxlg8TB8sHqYLQ4jHwdtuXFx71eWtZPv14ZorL18cd9xxi9PfPpP/3rUMFg/ThwmJxw3XH0jjhyA/268PxBBiCTEly187hhAPNUIb2X59sHiM2LI6m+GZkHic9JIX74gdEfKz/fpg8SgYUjze8+4zm4bIyPbrA2VxLIvHCC2rsxmeCYpHGT+EZx57yJDisR+NwDEsHiO1rM5meCYoHlneqrF4FIxdPF560osX5579wcUlF12weN6JJzb78feMt5+2w5erjJf/7smNz3Ofe3zzmf3YtniM0LI6m+GZoXgQGxRLiB2KJS964QuaGJH5k6d488dvfMPiTX90arNt8dhk7OKhBj7++Oc0jce+J55wQpNOR5Df4YfuawSD9Ne++pWNX1wPtXiM0LI6m+GZoXhoBYIYQfwgHgBxhXQe4pEvn/GLMSfGEovHJkOKxymveVVzFVASffGjEREHpdG4pL/s5N/ZSlOZ3EdRWkznb0xfCywepg8TFI8sjoD8JB4vfMHzt8WSbGWCi0/SSpEg3mTpa8uQ4lEj+rJNB4lpWTqfuaKIPqBOY/EYoWV1NsMzQfGoIb9aHEBISEcwlMY2IhP9QHHL4rHJFJatuohHzc/iMWLL6myGZ4LikeVF2uJAjB1a1WC5qvSzeBRYPGaMxcP0YY3FgxvlNT+LR8FcxINpJjfWow9YPEZsWZ3N8KyxeGg73k8VFo+CuYiHbnKVPwriiSzSLR4jtKzOZnjWXDy4d8rTVvHGOvhR3YIhxeO9f3VW+j4akG/ZsLV0rVXyTPalF1/YiMhHz/nQ1uO7Fo8RWlZnMzwTFI8shoAuJpcRD11wspJBGcQWntwiDSwemwwpHm3Il89dxANodD23DXzWjMTiMULL6myGZ4LiUUMxYhnxAM0yhH7zwWeLxyZDiAdKTgO0IV8+l0tRbelMNVUGn7XNMUvf2WPxMH2YkHgQAzTeMxQj2uJA9IvEOMW2yuBv6buWDCEeZp+weJg+TEg8zIBYPGaMxcP0weJhumDxmDEWD9MHi4fpgsVjxlg8TB8sHqYLFo8ZY/EwfbB4mC5YPGaMxcP0weJhumDxmDEWD9MHi4fpgsVjdWQ/NhoUi4fpg8VjUPgtCbFk9D9stnisDovHkpbV2QyPxWNQLB5riMVjScvqbIbH4jEoFo81xOKxpGV1NsNj8RgUi0cLvGAMeJ/My3/35ObNt7zBMv7PYcF7ZEh/6UlHX4DG38yPdF6MyJt0oy//o5h8/rLNsfjLG33LMkD7y6+tTtSZt/jyHXgPjsVjScvqbIZnQuLBGCXIEnAVS2rjm3H7x298QzNu5cd4jz7EJNKJJRrjiiUcA58yRijGlFAH8stYFKFOp7zmVU0c4Vh8xo99LB4JBFhOFieft95ykniHfnbC1Hjy0z+h5yRHP9Ioj3IkTnrDLr4qg3Qd6z3vPnNbGeSRTv04Fn/ZJj360UlJ5x9QqU4cW/tG30GxeJg+TEg8GHMae+X4RgDkR5DGT2/HjeM7xhxd9eOr8a03cwNjX2WAYoyERShGlPEt1gkU33Qs6qTvE+s1SoYSj+xEcoIRFW2Tj18Z5CUgdAilsc3+MU0dAWLj4kOjx0AvXxpbaaBj6W2c8iv/05jqavFYwrI6m+GZmHgwluNbcbNVAAIxaeXVPzGDYK1tje9yHGt8c6z4Zl6OS3qMG7W4RZkcSzFKfqVISKwsHgmcRE5O1/QSdYQoCGyXDa50VL1ML4+lBosdA9SZ1BG42sj8gPSsDoNh8TB9mJh4ZGMOUegyFss4oPFeBu5MkESZzmwCkYk+QAzBV3FLx44XvFCrw+iYgniwxsg0kHVDYHYSGwHY7tKwojyWtnWMCOlqyFodoXaswbB4mD7MQDxIK9MJ0roPIbREJJ+2wF07VpnONuXG44CWqJhx4IdPVp7FowVOGCdnt3QaWyqutUOQ3yrFg9mJlrIy1OB8jvtFascaDIuH6cMMxYOZA8GaMa57HqB7EfJblXh0iSW18iweLXDCODm7pWuaV65TclJJX6V41OpUonsgWV7tWINh8TB9mKF4aFm6/I+B5bhflXhkfiVcsMZ7vMLi0ULZYLV0NXi5Jqj7DqsUD5WZPU4X729I0HT1EH1qxxoMi4fpwwzFoxzvQktJ2l6FeJQP2URiWk3Q/KhuC7WGLNMVqHnUlpMOPHtNGqxSPCibqSZT20svvrBJ0xppPBZppR+Nr06YHWswLB6mDzOeefA7D8Yw412P8IMuUFchHiqDmBDjBscjbkhA+Cs/CQj++NTqMCrGfsNcaYI1Ss0S9AQUsN2lYUV2LBpQa6ARjhf9mHUgINFHnTM71mBYPEwfZigeBO9ybLNspFmCgvwqxAOyGMF2uWLBdvQBxRKLRwJBWo3VNR2hII9OAHyWggPbUu9ILb12LGDaSMPRsPEYEepAPn4qv3aswbB4mD5MSDzaxneWjj9jVmOf8c1njfMstojasWrplKVYwl+2Sx/gWMQ30HFrdRgVQ4iH2ScsHqYPExIPMyAWjxlj8TB9sHiYLlg8ZozFw/TB4mG6YPGYMRYP0weLh+mCxWPGWDxMHywepgsWjxlj8TB9sHiYLlg8ZozFw/TB4mG6YPGYMRYP0weLh+mCxWPGWDxMHywepgsWjxlj8TB9sHiYLlg8ZozFw/TB4mG6MJR48N4W3jKp/7LFfwvkfS581nti+Ms275Dibbp8ji8p5F0xSgfKK98xE8uI6VCWx2fSyrrxZt2432SweJg+TEw8iBv6T6P85T1SjHe25aM4gK9iRowJ5Zjn7bvlu6VURpcYQywB8so4F/edNEOIB42i1w7zNkrebKnXnJNGA+PHX7aVzlsweeOkytC/o41lsB0bUWVkb6jUvtrmM2kcT2/c1Js46QBx30lg8TB9mJB4aHwz9hm/GsO1/9OhdMa33spNgGfMUwZjPsajKBQqg79Ki+kxxlAP4hNlqF6KT1ksmiRDiIdeORyDPLMIBWo1jhqFk16qPSoefUFl0GB6g2XWsIJ0GlXb6nhlvehopJd1GD0WD9OHCYmH4kAcm3xWoFaa4gBjWbFBEOTLGKMy4n/6Uxkx5sT0UjxIYxakNC54y/g0aYYQDzVimc7Jj42TNQrQCKRrFhIh8JOnq4paGUB6Jh7RB9rKGDUWD9OHiYgHAZ5xmcWBcixrDMdgDmzXxnYtHmlbZPGB48fYIhSf4gXqZNlv8VDgX6axSt9aOqDo5DH13M2X9C7iAaXvJLB4mD5MRDw0tnWhGCnHsnz5G/3KmBMpY0etjNIPOH4WLzLfybLf4tF28sqGrPnSWaJfCXlquLbjRT8oO1yk9J0EFg/Th4mIh67iszhQjmXFgdK3jDmRMnbUyij9gONn8UKzpSweTY79Fg/NDOJTTqJsyKxR2tJBjaPy23xJjw1cdrgI6dn0eNRYPEwfJjbzyMb2WMUj850sQ9zzKG9ECQJ+bJzaiZYAcbMspoM6g9YUa2Kl9C7iUd5HmQwWD9OHiYiHlsCzONBVPNrum+jBHnzYrsWjLJ3j82RX9APFp/LeyyQZQjx0AuPjrzQATyGQrgauNRZIaHhmW2kqgycaEAelI1akqxPQ6Tg2+2fiQZ72Zx/2pYxY5iSweJg+TEQ8QAE+/haLz6SB0hRLFFsiGvfxJrYuGHXvFCRWiIJiAWl6/LcUD9JivWJ8UtqkGUI8OPF6/FUQnJWmBlaDZ+JBGTSs9pfwUIZEQuiJiogaNxMP/VWZEDvWZLB4mD5MSDyyWEJwBj7Lr008sjKANImE0EVrRHGoFA/qoHIVS4hzZXyaLEOIhyAgc8L5i4LzmROsk0vD0djklfsKfNlP5WQ+oPIhilNsSImG8uTfdvxRY/EwfZiQeABxIsYStuNYlg9juhSDCBeZZYzIiDFH8QP/GCc4PvBZ5bLsPdlYkjHUzCMGbVH+KnS/KTvc5LF4mD5MbOZRCgLb3FNV8B6CKB6zZah7HkzjuF+BiFx71eVb9yDIy/bZDywe+2xZnc3wTEg8uOdBLOGdUVzVE0v0q/Mhb0pbPLbbSmceutEVGVI4wOKxz5bV2QzPhMQDwdC4FdxXGPrJSIvHdluZeAhEhLXCtvXF/YRZ0FjqshIsHqYPExIPgYiMLZZkS/OzYkjxMHuMxcP0YYLiYQbA4jFjLB6mDxYP0wWLx4yxeJg+WDxMFyweM8biYfpg8TBdsHjMGIuH6YPFw3TB4jFjLB6mDxYP0wWLx4yxeJg+WDxMFyweM8biYfpg8TBdsHjMGIuH6YPFw3TB4jFjLB6mDxYP0wWLx4yxeJg+WDxMFyweM8biYfpg8TBdsHjMGIuH6YPFw3TB4jFjLB6mDxYP0wWLx4yxeJg+WDxMFyweM8biYfpg8TBdsHjMGIuH6YPFw3RhJeJBkDLjZMyW1deMg7FYVjczDo5ZPGw2m81mazGLh81ms9mWNouHzWaz2ZY2i4fNZrPZljaLh81ms9mWNouHzWaz2ZY2i4fNZrPZljaLh81ms9mWNouHzWaz2ZY2i4fNZrPZljaLh81ms9mWtMXi/wcDRfKg1Ac3fQAAAABJRU5ErkJggg==)"
      ]
    },
    {
      "cell_type": "code",
      "metadata": {
        "colab": {
          "base_uri": "https://localhost:8080/",
          "height": 502
        },
        "id": "SU4-AcqJB2GI",
        "outputId": "54e35ee4-d550-418d-c3c4-f322b08e2458"
      },
      "source": [
        "pattern = r\"(?P<protocol>https?)://(?P<domain>[\\w\\.\\-]+)/?(?P<path>.*)\"\n",
        "\n",
        "url_parts = hn['url'].str.extract(pattern, flags=re.I)\n",
        "\n",
        "url_paths"
      ],
      "execution_count": 79,
      "outputs": [
        {
          "output_type": "execute_result",
          "data": {
            "text/html": [
              "<div>\n",
              "<style scoped>\n",
              "    .dataframe tbody tr th:only-of-type {\n",
              "        vertical-align: middle;\n",
              "    }\n",
              "\n",
              "    .dataframe tbody tr th {\n",
              "        vertical-align: top;\n",
              "    }\n",
              "\n",
              "    .dataframe thead th {\n",
              "        text-align: right;\n",
              "    }\n",
              "</style>\n",
              "<table border=\"1\" class=\"dataframe\">\n",
              "  <thead>\n",
              "    <tr style=\"text-align: right;\">\n",
              "      <th></th>\n",
              "      <th>protocol</th>\n",
              "      <th>domain</th>\n",
              "      <th>path</th>\n",
              "    </tr>\n",
              "  </thead>\n",
              "  <tbody>\n",
              "    <tr>\n",
              "      <th>0</th>\n",
              "      <td>http</td>\n",
              "      <td>www.interactivedynamicvideo.com</td>\n",
              "      <td></td>\n",
              "    </tr>\n",
              "    <tr>\n",
              "      <th>1</th>\n",
              "      <td>http</td>\n",
              "      <td>www.thewire.com</td>\n",
              "      <td>entertainment/2013/04/florida-djs-april-fools-...</td>\n",
              "    </tr>\n",
              "    <tr>\n",
              "      <th>2</th>\n",
              "      <td>https</td>\n",
              "      <td>www.amazon.com</td>\n",
              "      <td>Technology-Ventures-Enterprise-Thomas-Byers/dp...</td>\n",
              "    </tr>\n",
              "    <tr>\n",
              "      <th>3</th>\n",
              "      <td>http</td>\n",
              "      <td>www.nytimes.com</td>\n",
              "      <td>2007/11/07/movies/07stein.html?_r=0</td>\n",
              "    </tr>\n",
              "    <tr>\n",
              "      <th>4</th>\n",
              "      <td>http</td>\n",
              "      <td>arstechnica.com</td>\n",
              "      <td>business/2015/10/comcast-and-other-isps-boost-...</td>\n",
              "    </tr>\n",
              "    <tr>\n",
              "      <th>...</th>\n",
              "      <td>...</td>\n",
              "      <td>...</td>\n",
              "      <td>...</td>\n",
              "    </tr>\n",
              "    <tr>\n",
              "      <th>20094</th>\n",
              "      <td>https</td>\n",
              "      <td>puri.sm</td>\n",
              "      <td>philosophy/how-purism-avoids-intels-active-man...</td>\n",
              "    </tr>\n",
              "    <tr>\n",
              "      <th>20095</th>\n",
              "      <td>https</td>\n",
              "      <td>medium.com</td>\n",
              "      <td>@zreitano/the-yc-application-broken-down-and-t...</td>\n",
              "    </tr>\n",
              "    <tr>\n",
              "      <th>20096</th>\n",
              "      <td>http</td>\n",
              "      <td>blog.darknedgy.net</td>\n",
              "      <td>technology/2016/01/01/0/</td>\n",
              "    </tr>\n",
              "    <tr>\n",
              "      <th>20097</th>\n",
              "      <td>https</td>\n",
              "      <td>medium.com</td>\n",
              "      <td>@benjiwheeler/how-product-hunt-really-works-d8...</td>\n",
              "    </tr>\n",
              "    <tr>\n",
              "      <th>20098</th>\n",
              "      <td>https</td>\n",
              "      <td>github.com</td>\n",
              "      <td>jmcarp/robobrowser</td>\n",
              "    </tr>\n",
              "  </tbody>\n",
              "</table>\n",
              "<p>20099 rows × 3 columns</p>\n",
              "</div>"
            ],
            "text/plain": [
              "      protocol  ...                                               path\n",
              "0         http  ...                                                   \n",
              "1         http  ...  entertainment/2013/04/florida-djs-april-fools-...\n",
              "2        https  ...  Technology-Ventures-Enterprise-Thomas-Byers/dp...\n",
              "3         http  ...                2007/11/07/movies/07stein.html?_r=0\n",
              "4         http  ...  business/2015/10/comcast-and-other-isps-boost-...\n",
              "...        ...  ...                                                ...\n",
              "20094    https  ...  philosophy/how-purism-avoids-intels-active-man...\n",
              "20095    https  ...  @zreitano/the-yc-application-broken-down-and-t...\n",
              "20096     http  ...                           technology/2016/01/01/0/\n",
              "20097    https  ...  @benjiwheeler/how-product-hunt-really-works-d8...\n",
              "20098    https  ...                                 jmcarp/robobrowser\n",
              "\n",
              "[20099 rows x 3 columns]"
            ]
          },
          "metadata": {
            "tags": []
          },
          "execution_count": 79
        }
      ]
    },
    {
      "cell_type": "markdown",
      "metadata": {
        "id": "pbcVybjdC0yC"
      },
      "source": [
        ""
      ]
    },
    {
      "cell_type": "code",
      "metadata": {
        "id": "5HpI45-6CpBB"
      },
      "source": [
        ""
      ],
      "execution_count": null,
      "outputs": []
    }
  ]
}