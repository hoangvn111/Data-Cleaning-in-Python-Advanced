{
  "nbformat": 4,
  "nbformat_minor": 0,
  "metadata": {
    "colab": {
      "name": "Data Cleaning in Python Advanced.ipynb",
      "provenance": [],
      "authorship_tag": "ABX9TyMlzJBRQzSxRkV7kjV9jFDr",
      "include_colab_link": true
    },
    "kernelspec": {
      "name": "python3",
      "display_name": "Python 3"
    },
    "language_info": {
      "name": "python"
    }
  },
  "cells": [
    {
      "cell_type": "markdown",
      "metadata": {
        "id": "view-in-github",
        "colab_type": "text"
      },
      "source": [
        "<a href=\"https://colab.research.google.com/github/hoangvn111/Data-Cleaning-in-Python-Advanced/blob/master/Data_Cleaning_in_Python_Advanced.ipynb\" target=\"_parent\"><img src=\"https://colab.research.google.com/assets/colab-badge.svg\" alt=\"Open In Colab\"/></a>"
      ]
    },
    {
      "cell_type": "code",
      "metadata": {
        "colab": {
          "base_uri": "https://localhost:8080/"
        },
        "id": "p-p9rX8pL2TH",
        "outputId": "27e0e3ea-8c56-4bcd-beb2-d1dac11c8e8b"
      },
      "source": [
        "from google.colab import drive\n",
        "drive.mount('/content/drive')"
      ],
      "execution_count": 1,
      "outputs": [
        {
          "output_type": "stream",
          "text": [
            "Mounted at /content/drive\n"
          ],
          "name": "stdout"
        }
      ]
    },
    {
      "cell_type": "markdown",
      "metadata": {
        "id": "ASIWRvaRMQnO"
      },
      "source": [
        "## Introduction"
      ]
    },
    {
      "cell_type": "markdown",
      "metadata": {
        "id": "AlcHQjLNMTZ2"
      },
      "source": [
        "The dataset we will be working with is based off this CSV of Hacker News stories from September 2015 to September 2016. The columns in the dataset are explained below:\n",
        "\n",
        "* id: The unique identifier from Hacker News for the story\n",
        "* title: The title of the story\n",
        "* url: The URL that the stories links to, if the story has a URL\n",
        "* num_points: The number of points the story acquired, calculated as the total number of upvotes minus the total number of downvotes\n",
        "* num_comments: The number of comments that were made on the story\n",
        "* author: The username of the person who submitted the story\n",
        "* created_at: The date and time at which the story was submitted"
      ]
    },
    {
      "cell_type": "code",
      "metadata": {
        "id": "4GpEf_0EL6FN"
      },
      "source": [
        "import pandas as pd \n",
        "hn = pd.read_csv('/content/drive/MyDrive/my_datasets/Data Cleaning in Python Advanced/hacker_news.csv')"
      ],
      "execution_count": 2,
      "outputs": []
    },
    {
      "cell_type": "code",
      "metadata": {
        "colab": {
          "base_uri": "https://localhost:8080/",
          "height": 534
        },
        "id": "Mk3rJGrJMK5V",
        "outputId": "71dd841e-89b4-4c73-eec8-316f75efbef1"
      },
      "source": [
        "hn.head()"
      ],
      "execution_count": 3,
      "outputs": [
        {
          "output_type": "execute_result",
          "data": {
            "text/html": [
              "<div>\n",
              "<style scoped>\n",
              "    .dataframe tbody tr th:only-of-type {\n",
              "        vertical-align: middle;\n",
              "    }\n",
              "\n",
              "    .dataframe tbody tr th {\n",
              "        vertical-align: top;\n",
              "    }\n",
              "\n",
              "    .dataframe thead th {\n",
              "        text-align: right;\n",
              "    }\n",
              "</style>\n",
              "<table border=\"1\" class=\"dataframe\">\n",
              "  <thead>\n",
              "    <tr style=\"text-align: right;\">\n",
              "      <th></th>\n",
              "      <th>id</th>\n",
              "      <th>title</th>\n",
              "      <th>url</th>\n",
              "      <th>num_points</th>\n",
              "      <th>num_comments</th>\n",
              "      <th>author</th>\n",
              "      <th>created_at</th>\n",
              "    </tr>\n",
              "  </thead>\n",
              "  <tbody>\n",
              "    <tr>\n",
              "      <th>0</th>\n",
              "      <td>12224879</td>\n",
              "      <td>Interactive Dynamic Video</td>\n",
              "      <td>http://www.interactivedynamicvideo.com/</td>\n",
              "      <td>386</td>\n",
              "      <td>52</td>\n",
              "      <td>ne0phyte</td>\n",
              "      <td>8/4/2016 11:52</td>\n",
              "    </tr>\n",
              "    <tr>\n",
              "      <th>1</th>\n",
              "      <td>11964716</td>\n",
              "      <td>Florida DJs May Face Felony for April Fools' W...</td>\n",
              "      <td>http://www.thewire.com/entertainment/2013/04/f...</td>\n",
              "      <td>2</td>\n",
              "      <td>1</td>\n",
              "      <td>vezycash</td>\n",
              "      <td>6/23/2016 22:20</td>\n",
              "    </tr>\n",
              "    <tr>\n",
              "      <th>2</th>\n",
              "      <td>11919867</td>\n",
              "      <td>Technology ventures: From Idea to Enterprise</td>\n",
              "      <td>https://www.amazon.com/Technology-Ventures-Ent...</td>\n",
              "      <td>3</td>\n",
              "      <td>1</td>\n",
              "      <td>hswarna</td>\n",
              "      <td>6/17/2016 0:01</td>\n",
              "    </tr>\n",
              "    <tr>\n",
              "      <th>3</th>\n",
              "      <td>10301696</td>\n",
              "      <td>Note by Note: The Making of Steinway L1037 (2007)</td>\n",
              "      <td>http://www.nytimes.com/2007/11/07/movies/07ste...</td>\n",
              "      <td>8</td>\n",
              "      <td>2</td>\n",
              "      <td>walterbell</td>\n",
              "      <td>9/30/2015 4:12</td>\n",
              "    </tr>\n",
              "    <tr>\n",
              "      <th>4</th>\n",
              "      <td>10482257</td>\n",
              "      <td>Title II kills investment? Comcast and other I...</td>\n",
              "      <td>http://arstechnica.com/business/2015/10/comcas...</td>\n",
              "      <td>53</td>\n",
              "      <td>22</td>\n",
              "      <td>Deinos</td>\n",
              "      <td>10/31/2015 9:48</td>\n",
              "    </tr>\n",
              "  </tbody>\n",
              "</table>\n",
              "</div>"
            ],
            "text/plain": [
              "         id  ...       created_at\n",
              "0  12224879  ...   8/4/2016 11:52\n",
              "1  11964716  ...  6/23/2016 22:20\n",
              "2  11919867  ...   6/17/2016 0:01\n",
              "3  10301696  ...   9/30/2015 4:12\n",
              "4  10482257  ...  10/31/2015 9:48\n",
              "\n",
              "[5 rows x 7 columns]"
            ]
          },
          "metadata": {
            "tags": []
          },
          "execution_count": 3
        }
      ]
    },
    {
      "cell_type": "code",
      "metadata": {
        "colab": {
          "base_uri": "https://localhost:8080/"
        },
        "id": "yMddldueMevz",
        "outputId": "34af5ed5-3f51-414e-8705-0d5685f3699e"
      },
      "source": [
        "hn.info()"
      ],
      "execution_count": 4,
      "outputs": [
        {
          "output_type": "stream",
          "text": [
            "<class 'pandas.core.frame.DataFrame'>\n",
            "RangeIndex: 20099 entries, 0 to 20098\n",
            "Data columns (total 7 columns):\n",
            " #   Column        Non-Null Count  Dtype \n",
            "---  ------        --------------  ----- \n",
            " 0   id            20099 non-null  int64 \n",
            " 1   title         20099 non-null  object\n",
            " 2   url           17659 non-null  object\n",
            " 3   num_points    20099 non-null  int64 \n",
            " 4   num_comments  20099 non-null  int64 \n",
            " 5   author        20099 non-null  object\n",
            " 6   created_at    20099 non-null  object\n",
            "dtypes: int64(3), object(4)\n",
            "memory usage: 1.1+ MB\n"
          ],
          "name": "stdout"
        }
      ]
    },
    {
      "cell_type": "markdown",
      "metadata": {
        "id": "dYUx1JULNfTi"
      },
      "source": [
        "## Regular Expression Basics"
      ]
    },
    {
      "cell_type": "markdown",
      "metadata": {
        "id": "o8vezI7_Nk4m"
      },
      "source": [
        "### The Regular Expression Module"
      ]
    },
    {
      "cell_type": "markdown",
      "metadata": {
        "id": "r6nLWmFuPk3W"
      },
      "source": [
        "We're going to use this technique to find out how many times Python is mentioned in the title of stories in our Hacker News dataset. We'll use a set to check for both Python with a capital 'P' and python with a lowercase 'p'."
      ]
    },
    {
      "cell_type": "code",
      "metadata": {
        "colab": {
          "base_uri": "https://localhost:8080/"
        },
        "id": "PQ56FkzpMi8i",
        "outputId": "4e790599-7ad3-45aa-8a46-812aeb985fee"
      },
      "source": [
        "# import module re\n",
        "import re \n",
        "\n",
        "# extract a list 'titles' containing all the titles from dataset\n",
        "titles = hn['title'].tolist()\n",
        "\n",
        "python_mentions = 0\n",
        "\n",
        "pattern = '[Pp]ython'\n",
        "\n",
        "for title in titles:\n",
        "    if re.search(pattern, title):\n",
        "        python_mentions += 1\n",
        "\n",
        "print(python_mentions)"
      ],
      "execution_count": 5,
      "outputs": [
        {
          "output_type": "stream",
          "text": [
            "160\n"
          ],
          "name": "stdout"
        }
      ]
    },
    {
      "cell_type": "markdown",
      "metadata": {
        "id": "XYGRpD_iQH-R"
      },
      "source": [
        "### Counting Matches with pandas Methods"
      ]
    },
    {
      "cell_type": "code",
      "metadata": {
        "colab": {
          "base_uri": "https://localhost:8080/"
        },
        "id": "U3C8IFa_OISK",
        "outputId": "6432162e-f920-43bb-d9cb-6f95f2017250"
      },
      "source": [
        "titles = hn['title']\n",
        "pattern = '[Pp]ython'\n",
        "\n",
        "python_mentions = titles.str.contains(pattern).sum()\n",
        "\n",
        "print(python_mentions)"
      ],
      "execution_count": 6,
      "outputs": [
        {
          "output_type": "stream",
          "text": [
            "160\n"
          ],
          "name": "stdout"
        }
      ]
    },
    {
      "cell_type": "markdown",
      "metadata": {
        "id": "FcrruECNRR4Y"
      },
      "source": [
        "### Using Regular Expressions to Select Data"
      ]
    },
    {
      "cell_type": "code",
      "metadata": {
        "colab": {
          "base_uri": "https://localhost:8080/"
        },
        "id": "9aItrhavQpZx",
        "outputId": "17497dda-e566-4f76-8940-6b2ce41ab63f"
      },
      "source": [
        "titles = hn['title']\n",
        "\n",
        "ruby_titles = titles[titles.str.contains('[Rr]uby')]\n",
        "\n",
        "print(ruby_titles.head())"
      ],
      "execution_count": 7,
      "outputs": [
        {
          "output_type": "stream",
          "text": [
            "190                    Ruby on Google AppEngine Goes Beta\n",
            "484          Related: Pure Ruby Relational Algebra Engine\n",
            "1388    Show HN: HTTPalooza  Ruby's greatest HTTP clie...\n",
            "1949    Rewriting a Ruby C Extension in Rust: How a Na...\n",
            "2022    Show HN: CrashBreak  Reproduce exceptions as f...\n",
            "Name: title, dtype: object\n"
          ],
          "name": "stdout"
        }
      ]
    },
    {
      "cell_type": "markdown",
      "metadata": {
        "id": "QAXhk9yHS11P"
      },
      "source": [
        "### Quantifiers"
      ]
    },
    {
      "cell_type": "code",
      "metadata": {
        "colab": {
          "base_uri": "https://localhost:8080/"
        },
        "id": "WEgFTHpMRskK",
        "outputId": "015b7844-c194-4a3e-c925-0921a2e77901"
      },
      "source": [
        "pattern = 'e-?mail'\n",
        "email_bool = titles.str.contains(pattern)\n",
        "email_count = email_bool.sum()\n",
        "email_titles = titles[email_bool]\n",
        "\n",
        "print(email_count)\n",
        "print('\\n')\n",
        "print(email_titles.head())"
      ],
      "execution_count": 8,
      "outputs": [
        {
          "output_type": "stream",
          "text": [
            "86\n",
            "\n",
            "\n",
            "119     Show HN: Send an email from your shell to your...\n",
            "313         Disposable emails for safe spam free shopping\n",
            "1361    Ask HN: Doing cold emails? helps us prove this...\n",
            "1750    Protect yourself from spam, bots and phishing ...\n",
            "2421                   Ashley Madison hack treating email\n",
            "Name: title, dtype: object\n"
          ],
          "name": "stdout"
        }
      ]
    },
    {
      "cell_type": "markdown",
      "metadata": {
        "id": "dh8e-p90WM6I"
      },
      "source": [
        "### Character Classes "
      ]
    },
    {
      "cell_type": "code",
      "metadata": {
        "id": "JUPTEE1PWTbg",
        "colab": {
          "base_uri": "https://localhost:8080/"
        },
        "outputId": "559fd7a5-1656-4f88-a98e-94dae713ac52"
      },
      "source": [
        "pattern = '\\[\\w+\\]'\n",
        "tag_titles = titles[titles.str.contains(pattern)]\n",
        "tag_count = titles.str.contains(pattern).sum()\n",
        "\n",
        "print(tag_count)\n",
        "print('\\n')\n",
        "print(tag_titles.head())\n"
      ],
      "execution_count": 9,
      "outputs": [
        {
          "output_type": "stream",
          "text": [
            "444\n",
            "\n",
            "\n",
            "66     Analysis of 114 propaganda sources from ISIS, ...\n",
            "100    Munich Gunman Got Weapon from the Darknet [Ger...\n",
            "159         File indexing and searching for Plan 9 [pdf]\n",
            "162    Attack on Kunduz Trauma Centre, Afghanistan  I...\n",
            "195               [Beta] Speedtest.net  HTML5 Speed Test\n",
            "Name: title, dtype: object\n"
          ],
          "name": "stdout"
        }
      ]
    },
    {
      "cell_type": "markdown",
      "metadata": {
        "id": "b05JjONPG0MU"
      },
      "source": [
        "### Accessing the Matching Text with Capture Groups "
      ]
    },
    {
      "cell_type": "code",
      "metadata": {
        "colab": {
          "base_uri": "https://localhost:8080/"
        },
        "id": "OPUiulb1E0VF",
        "outputId": "c35c1dfd-fdc9-49b6-845a-8e4934a867b8"
      },
      "source": [
        "pattern = r'\\[(\\w+)\\]'\n",
        "\n",
        "tag_titles = titles.str.extract(pattern, expand=False)\n",
        "tag_freq = tag_titles.value_counts(dropna=False)\n",
        "\n",
        "print(tag_freq)\n",
        "print('\\n')\n",
        "print(tag_titles.head())"
      ],
      "execution_count": 10,
      "outputs": [
        {
          "output_type": "stream",
          "text": [
            "NaN            19655\n",
            "pdf              276\n",
            "video            111\n",
            "audio              3\n",
            "2015               3\n",
            "beta               2\n",
            "2014               2\n",
            "slides             2\n",
            "Skinnywhale        1\n",
            "crash              1\n",
            "SpaceX             1\n",
            "CSS                1\n",
            "HBR                1\n",
            "USA                1\n",
            "NSFW               1\n",
            "comic              1\n",
            "German             1\n",
            "survey             1\n",
            "detainee           1\n",
            "repost             1\n",
            "Map                1\n",
            "Python             1\n",
            "ANNOUNCE           1\n",
            "2008               1\n",
            "Benchmark          1\n",
            "Beta               1\n",
            "1996               1\n",
            "updated            1\n",
            "gif                1\n",
            "Australian         1\n",
            "Videos             1\n",
            "Excerpt            1\n",
            "coffee             1\n",
            "satire             1\n",
            "much               1\n",
            "GOST               1\n",
            "Infograph          1\n",
            "5                  1\n",
            "Ubuntu             1\n",
            "map                1\n",
            "Live               1\n",
            "transcript         1\n",
            "React              1\n",
            "viz                1\n",
            "JavaScript         1\n",
            "Petition           1\n",
            "videos             1\n",
            "SPA                1\n",
            "ask                1\n",
            "Challenge          1\n",
            "png                1\n",
            "song               1\n",
            "blank              1\n",
            "Name: title, dtype: int64\n",
            "\n",
            "\n",
            "0    NaN\n",
            "1    NaN\n",
            "2    NaN\n",
            "3    NaN\n",
            "4    NaN\n",
            "Name: title, dtype: object\n"
          ],
          "name": "stdout"
        }
      ]
    },
    {
      "cell_type": "markdown",
      "metadata": {
        "id": "_GBv5rEuI6TC"
      },
      "source": [
        "### Negative Character Classes "
      ]
    },
    {
      "cell_type": "markdown",
      "metadata": {
        "id": "TVZtRsVEM1rs"
      },
      "source": [
        "We can see that there are a number of matches that contain Java as part of the word JavaScript. We want to exclude these titles from matching so we get an accurate count.\n",
        "\n",
        "Let's use the negative set [^Ss] to exclude instances like JavaScript and Javascript:"
      ]
    },
    {
      "cell_type": "code",
      "metadata": {
        "colab": {
          "base_uri": "https://localhost:8080/"
        },
        "id": "w7sPJi6SHSgk",
        "outputId": "95cdc75f-8689-41fe-ecb9-896473eea276"
      },
      "source": [
        "pattern = r'[Jj]ava[^Ss]'\n",
        "\n",
        "java_titles = titles[titles.str.contains(pattern)]\n",
        "\n",
        "print(java_titles.head())"
      ],
      "execution_count": 11,
      "outputs": [
        {
          "output_type": "stream",
          "text": [
            "436     Unikernel Power Comes to Java, Node.js, Go, an...\n",
            "811     Ask HN: Are there any projects or compilers wh...\n",
            "1840                    Adopting RxJava on the Airbnb App\n",
            "1972          Node.js vs. Java: Which Is Faster for APIs?\n",
            "2093                    Java EE and Microservices in 2016\n",
            "Name: title, dtype: object\n"
          ],
          "name": "stdout"
        }
      ]
    },
    {
      "cell_type": "markdown",
      "metadata": {
        "id": "iS0yaN7VNs2y"
      },
      "source": [
        "### Word Boundaries "
      ]
    },
    {
      "cell_type": "markdown",
      "metadata": {
        "id": "GIMdmMf-OoP1"
      },
      "source": [
        "While the negative set was effective in removing any bad matches that mention JavaScript, it also had the side-effect of removing any titles where Java occurs at the end of the string, like this title:\n",
        "\n",
        "Pippo  Web framework in Java"
      ]
    },
    {
      "cell_type": "code",
      "metadata": {
        "colab": {
          "base_uri": "https://localhost:8080/"
        },
        "id": "99cqWRqMMEZc",
        "outputId": "8584b38a-e016-4d18-8c73-1c8b9a4d3d82"
      },
      "source": [
        "pattern = r'\\b[Jj]ava\\b'\n",
        "\n",
        "java_titles = titles[titles.str.contains(pattern)]\n",
        "\n",
        "print(java_titles.head())"
      ],
      "execution_count": 12,
      "outputs": [
        {
          "output_type": "stream",
          "text": [
            "436     Unikernel Power Comes to Java, Node.js, Go, an...\n",
            "811     Ask HN: Are there any projects or compilers wh...\n",
            "1023                         Pippo  Web framework in Java\n",
            "1972          Node.js vs. Java: Which Is Faster for APIs?\n",
            "2093                    Java EE and Microservices in 2016\n",
            "Name: title, dtype: object\n"
          ],
          "name": "stdout"
        }
      ]
    },
    {
      "cell_type": "markdown",
      "metadata": {
        "id": "xoRzWC_GO-1Q"
      },
      "source": [
        "### Matching at the Start and End of Strings"
      ]
    },
    {
      "cell_type": "code",
      "metadata": {
        "colab": {
          "base_uri": "https://localhost:8080/"
        },
        "id": "c028CwlSOi7p",
        "outputId": "bf9e08df-1812-4465-d0fe-c0c2b63ec51f"
      },
      "source": [
        "pattern_beginning = r\"^\\[\\w+\\]\"\n",
        "beginning_count = titles.str.contains(pattern_beginning).sum()\n",
        "\n",
        "pattern_ending =  r\"\\[\\w+\\]$\"\n",
        "ending_count = titles.str.contains(pattern_ending).sum()\n",
        "\n",
        "print(beginning_count)\n",
        "print('\\n')\n",
        "print(ending_count)"
      ],
      "execution_count": 13,
      "outputs": [
        {
          "output_type": "stream",
          "text": [
            "15\n",
            "\n",
            "\n",
            "417\n"
          ],
          "name": "stdout"
        }
      ]
    },
    {
      "cell_type": "markdown",
      "metadata": {
        "id": "ouvR1zpBbZQu"
      },
      "source": [
        "### Challenge: Using Flags to Modify Regex Pattern"
      ]
    },
    {
      "cell_type": "markdown",
      "metadata": {
        "id": "VVc8PZnmbyeK"
      },
      "source": [
        "we can use **flags** to specify that our regular expression should ignore case"
      ]
    },
    {
      "cell_type": "code",
      "metadata": {
        "colab": {
          "base_uri": "https://localhost:8080/"
        },
        "id": "gFDGtXzfRhp6",
        "outputId": "ef5cba67-fb6c-4d76-e35e-530075aa2ad1"
      },
      "source": [
        "import re\n",
        "\n",
        "email_tests = pd.Series(['email', 'Email', 'e Mail', 'e mail', 'E-mail',\n",
        "              'e-mail', 'eMail', 'E-Mail', 'EMAIL', 'emails', 'Emails',\n",
        "              'E-Mails'])\n",
        "\n",
        "pattern = r'\\be[\\-\\s]?mails?\\b'\n",
        "\n",
        "email_mentions = email_tests[email_tests.str.contains(pattern, flags=re.I)]\n",
        "\n",
        "print(email_mentions)"
      ],
      "execution_count": 14,
      "outputs": [
        {
          "output_type": "stream",
          "text": [
            "0       email\n",
            "1       Email\n",
            "2      e Mail\n",
            "3      e mail\n",
            "4      E-mail\n",
            "5      e-mail\n",
            "6       eMail\n",
            "7      E-Mail\n",
            "8       EMAIL\n",
            "9      emails\n",
            "10     Emails\n",
            "11    E-Mails\n",
            "dtype: object\n"
          ],
          "name": "stdout"
        }
      ]
    },
    {
      "cell_type": "code",
      "metadata": {
        "id": "it6rZhu3bgOt"
      },
      "source": [
        ""
      ],
      "execution_count": 14,
      "outputs": []
    },
    {
      "cell_type": "markdown",
      "metadata": {
        "id": "3bzZ3hVrehAF"
      },
      "source": [
        ""
      ]
    },
    {
      "cell_type": "markdown",
      "metadata": {
        "id": "GjnYLdY4ejjz"
      },
      "source": [
        "## Advanced Regular Expression"
      ]
    },
    {
      "cell_type": "markdown",
      "metadata": {
        "id": "-V7K7PD-3Nd_"
      },
      "source": [
        "### Introduction"
      ]
    },
    {
      "cell_type": "code",
      "metadata": {
        "colab": {
          "base_uri": "https://localhost:8080/"
        },
        "id": "nrGF_ueeeqkr",
        "outputId": "05378b40-c2c3-4f05-fc43-3d2186e8f460"
      },
      "source": [
        "pattern = r'sql'\n",
        "\n",
        "sql_counts = titles.str.contains(pattern, flags=re.I).sum()\n",
        "\n",
        "print(sql_counts)"
      ],
      "execution_count": 15,
      "outputs": [
        {
          "output_type": "stream",
          "text": [
            "108\n"
          ],
          "name": "stdout"
        }
      ]
    },
    {
      "cell_type": "code",
      "metadata": {
        "colab": {
          "base_uri": "https://localhost:8080/"
        },
        "id": "Vmsh8r0_fFTa",
        "outputId": "bf31a40c-ccd5-4faa-cd57-469cfc696056"
      },
      "source": [
        "titles[titles.str.contains(pattern, flags=re.I)].head(20)"
      ],
      "execution_count": 16,
      "outputs": [
        {
          "output_type": "execute_result",
          "data": {
            "text/plain": [
              "9       Crate raises $4M seed round for its next-gen S...\n",
              "142                  PostgreSQL: Linux VS Windows  part 2\n",
              "221                  MemSQL (YC W11) Raises $36M Series C\n",
              "394                          The History of SQL Injection\n",
              "419     Pentesterlab Tutorial  SQL injection to web ad...\n",
              "513                         Crab  SQL for your filesystem\n",
              "683                     SQLite: The art of keep it simple\n",
              "882            Pgmemcahe :A PostgreSQL memcache functions\n",
              "1160    How to choose an in-memory NoSQL solution: Per...\n",
              "1164    Show HN: Migrate  Sane database/sql migrations...\n",
              "1197    Postgraphql: A GraphQL schema created by refle...\n",
              "1327                             Outlier Detection in SQL\n",
              "1370    MI6 (SIS) Is Developing a Node.js, Angular, No...\n",
              "1612                          Appropriate Uses for SQLite\n",
              "1960    Microsoft SQL Server Images Available on Googl...\n",
              "2430       Tracker: Ingesting MySQL data at scale  Part 2\n",
              "2432               SQL for NoSQL: Couchbase N1QL Tutorial\n",
              "2543                  PacketQ: SQL queries for pcap files\n",
              "2648      Hacking Microsoft SQL Server Without a Password\n",
              "3348    Show HN: Embed a Search-box that converts plai...\n",
              "Name: title, dtype: object"
            ]
          },
          "metadata": {
            "tags": []
          },
          "execution_count": 16
        }
      ]
    },
    {
      "cell_type": "code",
      "metadata": {
        "colab": {
          "base_uri": "https://localhost:8080/"
        },
        "id": "dtrz0Kc1f0bD",
        "outputId": "6ca9df55-7fc5-4a05-f100-faa9bd8a08ca"
      },
      "source": [
        "# find only SQL not include SQLlite, PostgreSQL, NoSQL, ...\n",
        "titles[titles.str.contains(r'\\bsql\\b', flags=re.I)] "
      ],
      "execution_count": 17,
      "outputs": [
        {
          "output_type": "execute_result",
          "data": {
            "text/plain": [
              "9        Crate raises $4M seed round for its next-gen S...\n",
              "394                           The History of SQL Injection\n",
              "419      Pentesterlab Tutorial  SQL injection to web ad...\n",
              "513                          Crab  SQL for your filesystem\n",
              "1164     Show HN: Migrate  Sane database/sql migrations...\n",
              "1327                              Outlier Detection in SQL\n",
              "1960     Microsoft SQL Server Images Available on Googl...\n",
              "2432                SQL for NoSQL: Couchbase N1QL Tutorial\n",
              "2543                   PacketQ: SQL queries for pcap files\n",
              "2648       Hacking Microsoft SQL Server Without a Password\n",
              "3348     Show HN: Embed a Search-box that converts plai...\n",
              "4944     SQL vs. NoSQL: you do want to have a relationa...\n",
              "5021     Microsoft SQL Server Developer Edition Is Now ...\n",
              "5112     Microsoft Azure SQL Database provides unparall...\n",
              "5654     Independent SQL-On-Hadoop Benchmark of SparkSQ...\n",
              "5726     Show HN: SQL Back End for the Static Web and M...\n",
              "5844     Node-Data is unique framework to support sql,n...\n",
              "6367     Envelope  Postgres database to web app with ju...\n",
              "6723     Show HN: Restabase  REST interface for SQL dat...\n",
              "6761              SQL Database Hacks Using AS and ORDER BY\n",
              "7471     SqlPad: Run SQL in your browser and chart the ...\n",
              "8214               Is SQL a good place for business logic?\n",
              "10381            Show HN: Sqlata, the SQL builder I wanted\n",
              "11652    DataGrip 1.0 (formerly 0xDBE): A New IDE for D...\n",
              "12210                                         Literate SQL\n",
              "12624           Learn SQL on Your Company's Data  For Free\n",
              "13129                          Go database/sql walkthrough\n",
              "13661                  Next generation of Google Cloud SQL\n",
              "13780    Semantic Highlighting for SQL in the Atom Edit...\n",
              "16231           Modern SQL: With  Organize Complex Queries\n",
              "16617                  Ask HN: Is R an alternative to SQL?\n",
              "16711                 Why Does Microsoft SQL Server Exist?\n",
              "16990                 SQL Hegemony  a sad state of affairs\n",
              "18047    Show HN: Created Pickaxe a SQL like DSL for we...\n",
              "18054    PipelineDB Releases Enterprise Version of Its ...\n",
              "18473                     Show HN: SQL Injection Challenge\n",
              "19124    Why SQL is neither legacy, nor low-level, nor ...\n",
              "19769                       SQL Server on Linux in Preview\n",
              "19965    Show HN: ExtractorApp Convert Excel / CSV to A...\n",
              "Name: title, dtype: object"
            ]
          },
          "metadata": {
            "tags": []
          },
          "execution_count": 17
        }
      ]
    },
    {
      "cell_type": "markdown",
      "metadata": {
        "id": "h9_-FFZozu8O"
      },
      "source": [
        "### Capture Groups "
      ]
    },
    {
      "cell_type": "code",
      "metadata": {
        "colab": {
          "base_uri": "https://localhost:8080/"
        },
        "id": "0EuSTP1hf4l7",
        "outputId": "06c670c6-5534-43b8-fcce-d8778b1912e3"
      },
      "source": [
        "hn_sql = hn[hn['title'].str.contains(r\"\\w+SQL\", flags=re.I)].copy()\n",
        "hn_sql['flavor'] = hn_sql['title'].str.extract(r'(\\w+SQL)', flags=re.I, expand=False)\n",
        "hn_sql['flavor'].value_counts()"
      ],
      "execution_count": 18,
      "outputs": [
        {
          "output_type": "execute_result",
          "data": {
            "text/plain": [
              "PostgreSQL    27\n",
              "NoSQL         16\n",
              "MySQL         12\n",
              "MemSQL         1\n",
              "CloudSQL       1\n",
              "nosql          1\n",
              "mySql          1\n",
              "SparkSQL       1\n",
              "Name: flavor, dtype: int64"
            ]
          },
          "metadata": {
            "tags": []
          },
          "execution_count": 18
        }
      ]
    },
    {
      "cell_type": "code",
      "metadata": {
        "colab": {
          "base_uri": "https://localhost:8080/"
        },
        "id": "fwODTzbN0mBV",
        "outputId": "b4609718-75e3-4f1c-b7de-3e79e362a667"
      },
      "source": [
        "# duplication due to varied capitalization in this frequency table:\n",
        "# NoSQL and nosql\n",
        "# MySQL and mysql\n",
        "\n",
        "# change all to lowercase\n",
        "hn_sql['flavor'] = hn_sql['flavor'].str.lower()\n",
        "hn_sql['flavor'].value_counts()"
      ],
      "execution_count": 19,
      "outputs": [
        {
          "output_type": "execute_result",
          "data": {
            "text/plain": [
              "postgresql    27\n",
              "nosql         17\n",
              "mysql         13\n",
              "cloudsql       1\n",
              "memsql         1\n",
              "sparksql       1\n",
              "Name: flavor, dtype: int64"
            ]
          },
          "metadata": {
            "tags": []
          },
          "execution_count": 19
        }
      ]
    },
    {
      "cell_type": "code",
      "metadata": {
        "colab": {
          "base_uri": "https://localhost:8080/",
          "height": 0
        },
        "id": "KyrPCwnq2r6e",
        "outputId": "3936421c-36db-464c-a592-9b58a0579454"
      },
      "source": [
        "sql_pivot = hn_sql.pivot_table(values='num_comments', index='flavor')\n",
        "sql_pivot"
      ],
      "execution_count": 20,
      "outputs": [
        {
          "output_type": "execute_result",
          "data": {
            "text/html": [
              "<div>\n",
              "<style scoped>\n",
              "    .dataframe tbody tr th:only-of-type {\n",
              "        vertical-align: middle;\n",
              "    }\n",
              "\n",
              "    .dataframe tbody tr th {\n",
              "        vertical-align: top;\n",
              "    }\n",
              "\n",
              "    .dataframe thead th {\n",
              "        text-align: right;\n",
              "    }\n",
              "</style>\n",
              "<table border=\"1\" class=\"dataframe\">\n",
              "  <thead>\n",
              "    <tr style=\"text-align: right;\">\n",
              "      <th></th>\n",
              "      <th>num_comments</th>\n",
              "    </tr>\n",
              "    <tr>\n",
              "      <th>flavor</th>\n",
              "      <th></th>\n",
              "    </tr>\n",
              "  </thead>\n",
              "  <tbody>\n",
              "    <tr>\n",
              "      <th>cloudsql</th>\n",
              "      <td>5.000000</td>\n",
              "    </tr>\n",
              "    <tr>\n",
              "      <th>memsql</th>\n",
              "      <td>14.000000</td>\n",
              "    </tr>\n",
              "    <tr>\n",
              "      <th>mysql</th>\n",
              "      <td>12.230769</td>\n",
              "    </tr>\n",
              "    <tr>\n",
              "      <th>nosql</th>\n",
              "      <td>14.529412</td>\n",
              "    </tr>\n",
              "    <tr>\n",
              "      <th>postgresql</th>\n",
              "      <td>25.962963</td>\n",
              "    </tr>\n",
              "    <tr>\n",
              "      <th>sparksql</th>\n",
              "      <td>1.000000</td>\n",
              "    </tr>\n",
              "  </tbody>\n",
              "</table>\n",
              "</div>"
            ],
            "text/plain": [
              "            num_comments\n",
              "flavor                  \n",
              "cloudsql        5.000000\n",
              "memsql         14.000000\n",
              "mysql          12.230769\n",
              "nosql          14.529412\n",
              "postgresql     25.962963\n",
              "sparksql        1.000000"
            ]
          },
          "metadata": {
            "tags": []
          },
          "execution_count": 20
        }
      ]
    },
    {
      "cell_type": "markdown",
      "metadata": {
        "id": "8Uw1F9SA3tzy"
      },
      "source": [
        "### Using Capture Groups to Extract Data"
      ]
    },
    {
      "cell_type": "code",
      "metadata": {
        "colab": {
          "base_uri": "https://localhost:8080/"
        },
        "id": "aXw_avZJ5HD3",
        "outputId": "e32abf8c-7358-4d28-d9d8-def61e729cfd"
      },
      "source": [
        "titles"
      ],
      "execution_count": 21,
      "outputs": [
        {
          "output_type": "execute_result",
          "data": {
            "text/plain": [
              "0                                Interactive Dynamic Video\n",
              "1        Florida DJs May Face Felony for April Fools' W...\n",
              "2             Technology ventures: From Idea to Enterprise\n",
              "3        Note by Note: The Making of Steinway L1037 (2007)\n",
              "4        Title II kills investment? Comcast and other I...\n",
              "                               ...                        \n",
              "20094    How Purism Avoids Intels Active Management Tec...\n",
              "20095            YC Application Translated and Broken Down\n",
              "20096    Microkernels are slow and Elvis didn't do no d...\n",
              "20097                        How Product Hunt really works\n",
              "20098    RoboBrowser: Your friendly neighborhood web sc...\n",
              "Name: title, Length: 20099, dtype: object"
            ]
          },
          "metadata": {
            "tags": []
          },
          "execution_count": 21
        }
      ]
    },
    {
      "cell_type": "markdown",
      "metadata": {
        "id": "taWczqb18Kp2"
      },
      "source": [
        "We'll use a capture group to capture the version number after the word \"Python,\" and then build a frequency table of the different versions."
      ]
    },
    {
      "cell_type": "code",
      "metadata": {
        "colab": {
          "base_uri": "https://localhost:8080/"
        },
        "id": "NAbpNs8A3fDm",
        "outputId": "d31a8c3f-2622-47a3-ebdc-e42ed79fb1ef"
      },
      "source": [
        "pattern = r'[Pp]ython ([\\d.]+)'\n",
        "py_versions_freq = dict(titles.str.extract(pattern, expand=False).value_counts())\n",
        "py_versions_freq"
      ],
      "execution_count": 22,
      "outputs": [
        {
          "output_type": "execute_result",
          "data": {
            "text/plain": [
              "{'1.5': 1,\n",
              " '2': 3,\n",
              " '2.7': 1,\n",
              " '3': 10,\n",
              " '3.5': 3,\n",
              " '3.5.0': 1,\n",
              " '3.6': 2,\n",
              " '4': 1,\n",
              " '8': 1}"
            ]
          },
          "metadata": {
            "tags": []
          },
          "execution_count": 22
        }
      ]
    },
    {
      "cell_type": "code",
      "metadata": {
        "id": "XPE3ohG04jJm"
      },
      "source": [
        ""
      ],
      "execution_count": 22,
      "outputs": []
    },
    {
      "cell_type": "markdown",
      "metadata": {
        "id": "q2E61dpFeEjH"
      },
      "source": [
        "### Counting Mentions of the 'C' Language"
      ]
    },
    {
      "cell_type": "markdown",
      "metadata": {
        "id": "bxXzz1FQeU6g"
      },
      "source": [
        "We'll counting the mentions of the C language."
      ]
    },
    {
      "cell_type": "code",
      "metadata": {
        "colab": {
          "base_uri": "https://localhost:8080/"
        },
        "id": "bSLIMx3KgsTl",
        "outputId": "04f238c2-9def-4b9a-f2bf-67551cd4fe79"
      },
      "source": [
        "pattern = r'\\b[Cc]\\b'\n",
        "\n",
        "c = titles[titles.str.contains(pattern)]\n",
        "c"
      ],
      "execution_count": 32,
      "outputs": [
        {
          "output_type": "execute_result",
          "data": {
            "text/plain": [
              "13                  Custom Deleters for C++ Smart Pointers\n",
              "220                         Lisp, C++: Sadness in my heart\n",
              "221                   MemSQL (YC W11) Raises $36M Series C\n",
              "353      VW C.E.O. Personally Apologized to President O...\n",
              "365                       The new C standards are worth it\n",
              "                               ...                        \n",
              "19667                         Ill-Advised C++ Rant, Part 2\n",
              "19799    Introducing a new, advanced Visual C++ code op...\n",
              "19829    Ferret: Compiling a Subset of Clojure to ISO C...\n",
              "19933    Lightweight C library to parse NMEA 0183 sente...\n",
              "19997                                    Proposal: C.UTF-8\n",
              "Name: title, Length: 190, dtype: object"
            ]
          },
          "metadata": {
            "tags": []
          },
          "execution_count": 32
        }
      ]
    },
    {
      "cell_type": "markdown",
      "metadata": {
        "id": "ZohUSdjDgo0H"
      },
      "source": [
        "Immediately, our results are reasonably relevant. However, we can quickly identify a few match types we want to prevent:\n",
        "\n",
        "* Mentions of C++, a distinct language from C.\n",
        "* Cases where the letter C is followed by a period, like in the substring C.E.O."
      ]
    },
    {
      "cell_type": "markdown",
      "metadata": {
        "id": "qajRX8crgzt8"
      },
      "source": [
        "Let's use a negative set to prevent matches for the + character and the . character."
      ]
    },
    {
      "cell_type": "code",
      "metadata": {
        "colab": {
          "base_uri": "https://localhost:8080/"
        },
        "id": "IHiRQzvHeI-V",
        "outputId": "80f60684-2327-4d52-f722-01e1eb73301a"
      },
      "source": [
        "pattern = r'\\b[Cc]\\b[^.+]'\n",
        "\n",
        "c_mentions = titles[titles.str.contains(pattern)]\n",
        "c_mentions"
      ],
      "execution_count": 45,
      "outputs": [
        {
          "output_type": "execute_result",
          "data": {
            "text/plain": [
              "365                       The new C standards are worth it\n",
              "444            Moz raises $10m Series C from Foundry Group\n",
              "521           Fuchsia: Micro kernel written in C by Google\n",
              "1307             Show HN: Yupp, yet another C preprocessor\n",
              "1326                      The C standard formalized in Coq\n",
              "                               ...                        \n",
              "18543                 C-style for loops removed from Swift\n",
              "18549            Show HN: An awesome C library for Windows\n",
              "18649                 Python vs. C/C++ in embedded systems\n",
              "19151                      Ask HN: How to learn C in 2016?\n",
              "19933    Lightweight C library to parse NMEA 0183 sente...\n",
              "Name: title, Length: 84, dtype: object"
            ]
          },
          "metadata": {
            "tags": []
          },
          "execution_count": 45
        }
      ]
    },
    {
      "cell_type": "markdown",
      "metadata": {
        "id": "CkSI64YQlvlt"
      },
      "source": [
        "### Using Lookarounds to Control Matches Based on Surrounding Text"
      ]
    },
    {
      "cell_type": "markdown",
      "metadata": {
        "id": "eZKaIDYQoYk_"
      },
      "source": [
        "![Capture1.PNG](data:image/png;base64,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)"
      ]
    },
    {
      "cell_type": "markdown",
      "metadata": {
        "id": "eF-Bruvdo1rD"
      },
      "source": [
        "* Keep excluding matches that are followed by . or +, but still match cases where \"C\" falls at the end of the sentence.\n",
        "* Exclude matches that have the word 'Series' immediately preceding them."
      ]
    },
    {
      "cell_type": "code",
      "metadata": {
        "colab": {
          "base_uri": "https://localhost:8080/"
        },
        "id": "XN-vMQqtildk",
        "outputId": "0dfe0358-6dd9-4a27-b37e-3ac37765370e"
      },
      "source": [
        "pattern = r\"(?<!Series\\s)\\b[Cc]\\b((?![.+])|\\.$)\"\n",
        "c_mentions = titles[titles.str.contains(pattern)]\n",
        "c_mentions"
      ],
      "execution_count": 54,
      "outputs": [
        {
          "output_type": "stream",
          "text": [
            "/usr/local/lib/python3.7/dist-packages/pandas/core/strings.py:2001: UserWarning: This pattern has match groups. To actually get the groups, use str.extract.\n",
            "  return func(self, *args, **kwargs)\n"
          ],
          "name": "stderr"
        },
        {
          "output_type": "execute_result",
          "data": {
            "text/plain": [
              "365                       The new C standards are worth it\n",
              "521           Fuchsia: Micro kernel written in C by Google\n",
              "1307             Show HN: Yupp, yet another C preprocessor\n",
              "1326                      The C standard formalized in Coq\n",
              "1365                           GNU C Library 2.23 released\n",
              "                               ...                        \n",
              "18543                 C-style for loops removed from Swift\n",
              "18549            Show HN: An awesome C library for Windows\n",
              "18649                 Python vs. C/C++ in embedded systems\n",
              "19151                      Ask HN: How to learn C in 2016?\n",
              "19933    Lightweight C library to parse NMEA 0183 sente...\n",
              "Name: title, Length: 102, dtype: object"
            ]
          },
          "metadata": {
            "tags": []
          },
          "execution_count": 54
        }
      ]
    },
    {
      "cell_type": "code",
      "metadata": {
        "id": "sxzCvVYil8mK"
      },
      "source": [
        ""
      ],
      "execution_count": null,
      "outputs": []
    }
  ]
}